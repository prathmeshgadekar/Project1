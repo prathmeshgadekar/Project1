{
  "nbformat": 4,
  "nbformat_minor": 0,
  "metadata": {
    "colab": {
      "provenance": []
    },
    "kernelspec": {
      "name": "python3",
      "display_name": "Python 3"
    },
    "language_info": {
      "name": "python"
    }
  },
  "cells": [
    {
      "cell_type": "markdown",
      "source": [
        "Samsung mobile data"
      ],
      "metadata": {
        "id": "T_M888i7s3qc"
      }
    },
    {
      "cell_type": "markdown",
      "source": [
        "Importing all the necessary libraries\n",
        "\n",
        " Pandas is a Python library used for working with data sets. It has functions for analyzing, cleaning, exploring, and manipulating data.\n",
        "\n",
        " NumPy is a Python library used for working with arrays. It also has functions for working in domain of linear algebra, fourier transform, and matrices.\n",
        "\n",
        " Matplotlib is a cross-platform, data visualization and graphical plotting library (histograms, scatter plots, bar charts, etc) for Python and its numerical extension NumPy.\n",
        "\n",
        " Seaborn is a Python data visualization library based on matplotlib. It provides a high-level interface for drawing attractive and informative statistical graphics."
      ],
      "metadata": {
        "id": "WkYMUADwhXBk"
      }
    },
    {
      "cell_type": "code",
      "source": [
        "import pandas as pd\n",
        "import numpy as np\n",
        "import matplotlib.pyplot as plt\n",
        "import seaborn as sns"
      ],
      "metadata": {
        "id": "pvgz2jvHhbO8"
      },
      "execution_count": 1,
      "outputs": []
    },
    {
      "cell_type": "markdown",
      "source": [
        "We use pandas.read_csv() function to read the csv file.\n",
        "\n",
        "In brackets, we put the file path along with a quotation mark, so that pandas will read the file into a data frame from that address. The file path can be either an URL or your local file address.\n"
      ],
      "metadata": {
        "id": "GzscHRHShfLt"
      }
    },
    {
      "cell_type": "code",
      "source": [
        "#Read the dataset in \"df\" variable\n",
        "df=pd.read_csv(\"samsungMobilesData.csv\")"
      ],
      "metadata": {
        "id": "bZNU1evBhmYN"
      },
      "execution_count": 3,
      "outputs": []
    },
    {
      "cell_type": "markdown",
      "source": [
        "fter reading the dataset, we can use the dataframe.head(n) method to check the top n rows of the dataframe; where n is an integer. Contrary to dataframe.head(n), dataframe.tail(n) will show you the bottom n rows of the dataframe."
      ],
      "metadata": {
        "id": "hGu008jRh5Wm"
      }
    },
    {
      "cell_type": "code",
      "source": [
        "# show the first 5 rows using dataframe.head() method\n",
        "print(\"The first 5 rows of the dataframe\")\n",
        "df.head(5)"
      ],
      "metadata": {
        "colab": {
          "base_uri": "https://localhost:8080/",
          "height": 302
        },
        "id": "itKqYvP_h6tt",
        "outputId": "df17664e-045e-4135-da78-643219a6e6c8"
      },
      "execution_count": 4,
      "outputs": [
        {
          "output_type": "stream",
          "name": "stdout",
          "text": [
            "The first 5 rows of the dataframe\n"
          ]
        },
        {
          "output_type": "execute_result",
          "data": {
            "text/plain": [
              "                                          name  ratings  price  \\\n",
              "0   SAMSUNG Galaxy F13 (Sunrise Copper, 64 GB)      4.3   9499   \n",
              "1  SAMSUNG Galaxy F13 (Waterfall Blue, 128 GB)      4.3  10499   \n",
              "2  SAMSUNG Galaxy F13 (Nightsky Green, 128 GB)      4.3  10499   \n",
              "3  SAMSUNG Galaxy F13 (Sunrise Copper, 128 GB)      4.3  10499   \n",
              "4    SAMSUNG Galaxy F23 5G (Aqua Blue, 128 GB)      4.3  15499   \n",
              "\n",
              "                                              imgURL  camera      display  \\\n",
              "0  https://rukminim2.flixcart.com/image/312/312/x...      50  other_types   \n",
              "1  https://rukminim2.flixcart.com/image/312/312/x...      50  other_types   \n",
              "2  https://rukminim2.flixcart.com/image/312/312/x...      50  other_types   \n",
              "3  https://rukminim2.flixcart.com/image/312/312/x...      50  other_types   \n",
              "4  https://rukminim2.flixcart.com/image/312/312/x...      50  other_types   \n",
              "\n",
              "   battery  storage  ram                processor  android_version  \n",
              "0     6000       64    4            not mentioned               12  \n",
              "1     6000      128    4            not mentioned               12  \n",
              "2     6000      128    4            not mentioned               12  \n",
              "3     6000      128    4            not mentioned               12  \n",
              "4     5000      128    6  Snapdragon750GProcessor               12  "
            ],
            "text/html": [
              "\n",
              "\n",
              "  <div id=\"df-e74f773b-5d70-4ae9-a0d5-0388104f7e73\">\n",
              "    <div class=\"colab-df-container\">\n",
              "      <div>\n",
              "<style scoped>\n",
              "    .dataframe tbody tr th:only-of-type {\n",
              "        vertical-align: middle;\n",
              "    }\n",
              "\n",
              "    .dataframe tbody tr th {\n",
              "        vertical-align: top;\n",
              "    }\n",
              "\n",
              "    .dataframe thead th {\n",
              "        text-align: right;\n",
              "    }\n",
              "</style>\n",
              "<table border=\"1\" class=\"dataframe\">\n",
              "  <thead>\n",
              "    <tr style=\"text-align: right;\">\n",
              "      <th></th>\n",
              "      <th>name</th>\n",
              "      <th>ratings</th>\n",
              "      <th>price</th>\n",
              "      <th>imgURL</th>\n",
              "      <th>camera</th>\n",
              "      <th>display</th>\n",
              "      <th>battery</th>\n",
              "      <th>storage</th>\n",
              "      <th>ram</th>\n",
              "      <th>processor</th>\n",
              "      <th>android_version</th>\n",
              "    </tr>\n",
              "  </thead>\n",
              "  <tbody>\n",
              "    <tr>\n",
              "      <th>0</th>\n",
              "      <td>SAMSUNG Galaxy F13 (Sunrise Copper, 64 GB)</td>\n",
              "      <td>4.3</td>\n",
              "      <td>9499</td>\n",
              "      <td>https://rukminim2.flixcart.com/image/312/312/x...</td>\n",
              "      <td>50</td>\n",
              "      <td>other_types</td>\n",
              "      <td>6000</td>\n",
              "      <td>64</td>\n",
              "      <td>4</td>\n",
              "      <td>not mentioned</td>\n",
              "      <td>12</td>\n",
              "    </tr>\n",
              "    <tr>\n",
              "      <th>1</th>\n",
              "      <td>SAMSUNG Galaxy F13 (Waterfall Blue, 128 GB)</td>\n",
              "      <td>4.3</td>\n",
              "      <td>10499</td>\n",
              "      <td>https://rukminim2.flixcart.com/image/312/312/x...</td>\n",
              "      <td>50</td>\n",
              "      <td>other_types</td>\n",
              "      <td>6000</td>\n",
              "      <td>128</td>\n",
              "      <td>4</td>\n",
              "      <td>not mentioned</td>\n",
              "      <td>12</td>\n",
              "    </tr>\n",
              "    <tr>\n",
              "      <th>2</th>\n",
              "      <td>SAMSUNG Galaxy F13 (Nightsky Green, 128 GB)</td>\n",
              "      <td>4.3</td>\n",
              "      <td>10499</td>\n",
              "      <td>https://rukminim2.flixcart.com/image/312/312/x...</td>\n",
              "      <td>50</td>\n",
              "      <td>other_types</td>\n",
              "      <td>6000</td>\n",
              "      <td>128</td>\n",
              "      <td>4</td>\n",
              "      <td>not mentioned</td>\n",
              "      <td>12</td>\n",
              "    </tr>\n",
              "    <tr>\n",
              "      <th>3</th>\n",
              "      <td>SAMSUNG Galaxy F13 (Sunrise Copper, 128 GB)</td>\n",
              "      <td>4.3</td>\n",
              "      <td>10499</td>\n",
              "      <td>https://rukminim2.flixcart.com/image/312/312/x...</td>\n",
              "      <td>50</td>\n",
              "      <td>other_types</td>\n",
              "      <td>6000</td>\n",
              "      <td>128</td>\n",
              "      <td>4</td>\n",
              "      <td>not mentioned</td>\n",
              "      <td>12</td>\n",
              "    </tr>\n",
              "    <tr>\n",
              "      <th>4</th>\n",
              "      <td>SAMSUNG Galaxy F23 5G (Aqua Blue, 128 GB)</td>\n",
              "      <td>4.3</td>\n",
              "      <td>15499</td>\n",
              "      <td>https://rukminim2.flixcart.com/image/312/312/x...</td>\n",
              "      <td>50</td>\n",
              "      <td>other_types</td>\n",
              "      <td>5000</td>\n",
              "      <td>128</td>\n",
              "      <td>6</td>\n",
              "      <td>Snapdragon750GProcessor</td>\n",
              "      <td>12</td>\n",
              "    </tr>\n",
              "  </tbody>\n",
              "</table>\n",
              "</div>\n",
              "      <button class=\"colab-df-convert\" onclick=\"convertToInteractive('df-e74f773b-5d70-4ae9-a0d5-0388104f7e73')\"\n",
              "              title=\"Convert this dataframe to an interactive table.\"\n",
              "              style=\"display:none;\">\n",
              "\n",
              "  <svg xmlns=\"http://www.w3.org/2000/svg\" height=\"24px\"viewBox=\"0 0 24 24\"\n",
              "       width=\"24px\">\n",
              "    <path d=\"M0 0h24v24H0V0z\" fill=\"none\"/>\n",
              "    <path d=\"M18.56 5.44l.94 2.06.94-2.06 2.06-.94-2.06-.94-.94-2.06-.94 2.06-2.06.94zm-11 1L8.5 8.5l.94-2.06 2.06-.94-2.06-.94L8.5 2.5l-.94 2.06-2.06.94zm10 10l.94 2.06.94-2.06 2.06-.94-2.06-.94-.94-2.06-.94 2.06-2.06.94z\"/><path d=\"M17.41 7.96l-1.37-1.37c-.4-.4-.92-.59-1.43-.59-.52 0-1.04.2-1.43.59L10.3 9.45l-7.72 7.72c-.78.78-.78 2.05 0 2.83L4 21.41c.39.39.9.59 1.41.59.51 0 1.02-.2 1.41-.59l7.78-7.78 2.81-2.81c.8-.78.8-2.07 0-2.86zM5.41 20L4 18.59l7.72-7.72 1.47 1.35L5.41 20z\"/>\n",
              "  </svg>\n",
              "      </button>\n",
              "\n",
              "\n",
              "\n",
              "    <div id=\"df-1fcfdfe4-71a1-4f32-884d-92acd8ea0001\">\n",
              "      <button class=\"colab-df-quickchart\" onclick=\"quickchart('df-1fcfdfe4-71a1-4f32-884d-92acd8ea0001')\"\n",
              "              title=\"Suggest charts.\"\n",
              "              style=\"display:none;\">\n",
              "\n",
              "<svg xmlns=\"http://www.w3.org/2000/svg\" height=\"24px\"viewBox=\"0 0 24 24\"\n",
              "     width=\"24px\">\n",
              "    <g>\n",
              "        <path d=\"M19 3H5c-1.1 0-2 .9-2 2v14c0 1.1.9 2 2 2h14c1.1 0 2-.9 2-2V5c0-1.1-.9-2-2-2zM9 17H7v-7h2v7zm4 0h-2V7h2v10zm4 0h-2v-4h2v4z\"/>\n",
              "    </g>\n",
              "</svg>\n",
              "      </button>\n",
              "    </div>\n",
              "\n",
              "<style>\n",
              "  .colab-df-quickchart {\n",
              "    background-color: #E8F0FE;\n",
              "    border: none;\n",
              "    border-radius: 50%;\n",
              "    cursor: pointer;\n",
              "    display: none;\n",
              "    fill: #1967D2;\n",
              "    height: 32px;\n",
              "    padding: 0 0 0 0;\n",
              "    width: 32px;\n",
              "  }\n",
              "\n",
              "  .colab-df-quickchart:hover {\n",
              "    background-color: #E2EBFA;\n",
              "    box-shadow: 0px 1px 2px rgba(60, 64, 67, 0.3), 0px 1px 3px 1px rgba(60, 64, 67, 0.15);\n",
              "    fill: #174EA6;\n",
              "  }\n",
              "\n",
              "  [theme=dark] .colab-df-quickchart {\n",
              "    background-color: #3B4455;\n",
              "    fill: #D2E3FC;\n",
              "  }\n",
              "\n",
              "  [theme=dark] .colab-df-quickchart:hover {\n",
              "    background-color: #434B5C;\n",
              "    box-shadow: 0px 1px 3px 1px rgba(0, 0, 0, 0.15);\n",
              "    filter: drop-shadow(0px 1px 2px rgba(0, 0, 0, 0.3));\n",
              "    fill: #FFFFFF;\n",
              "  }\n",
              "</style>\n",
              "\n",
              "    <script>\n",
              "      async function quickchart(key) {\n",
              "        const containerElement = document.querySelector('#' + key);\n",
              "        const charts = await google.colab.kernel.invokeFunction(\n",
              "            'suggestCharts', [key], {});\n",
              "      }\n",
              "    </script>\n",
              "\n",
              "      <script>\n",
              "\n",
              "function displayQuickchartButton(domScope) {\n",
              "  let quickchartButtonEl =\n",
              "    domScope.querySelector('#df-1fcfdfe4-71a1-4f32-884d-92acd8ea0001 button.colab-df-quickchart');\n",
              "  quickchartButtonEl.style.display =\n",
              "    google.colab.kernel.accessAllowed ? 'block' : 'none';\n",
              "}\n",
              "\n",
              "        displayQuickchartButton(document);\n",
              "      </script>\n",
              "      <style>\n",
              "    .colab-df-container {\n",
              "      display:flex;\n",
              "      flex-wrap:wrap;\n",
              "      gap: 12px;\n",
              "    }\n",
              "\n",
              "    .colab-df-convert {\n",
              "      background-color: #E8F0FE;\n",
              "      border: none;\n",
              "      border-radius: 50%;\n",
              "      cursor: pointer;\n",
              "      display: none;\n",
              "      fill: #1967D2;\n",
              "      height: 32px;\n",
              "      padding: 0 0 0 0;\n",
              "      width: 32px;\n",
              "    }\n",
              "\n",
              "    .colab-df-convert:hover {\n",
              "      background-color: #E2EBFA;\n",
              "      box-shadow: 0px 1px 2px rgba(60, 64, 67, 0.3), 0px 1px 3px 1px rgba(60, 64, 67, 0.15);\n",
              "      fill: #174EA6;\n",
              "    }\n",
              "\n",
              "    [theme=dark] .colab-df-convert {\n",
              "      background-color: #3B4455;\n",
              "      fill: #D2E3FC;\n",
              "    }\n",
              "\n",
              "    [theme=dark] .colab-df-convert:hover {\n",
              "      background-color: #434B5C;\n",
              "      box-shadow: 0px 1px 3px 1px rgba(0, 0, 0, 0.15);\n",
              "      filter: drop-shadow(0px 1px 2px rgba(0, 0, 0, 0.3));\n",
              "      fill: #FFFFFF;\n",
              "    }\n",
              "  </style>\n",
              "\n",
              "      <script>\n",
              "        const buttonEl =\n",
              "          document.querySelector('#df-e74f773b-5d70-4ae9-a0d5-0388104f7e73 button.colab-df-convert');\n",
              "        buttonEl.style.display =\n",
              "          google.colab.kernel.accessAllowed ? 'block' : 'none';\n",
              "\n",
              "        async function convertToInteractive(key) {\n",
              "          const element = document.querySelector('#df-e74f773b-5d70-4ae9-a0d5-0388104f7e73');\n",
              "          const dataTable =\n",
              "            await google.colab.kernel.invokeFunction('convertToInteractive',\n",
              "                                                     [key], {});\n",
              "          if (!dataTable) return;\n",
              "\n",
              "          const docLinkHtml = 'Like what you see? Visit the ' +\n",
              "            '<a target=\"_blank\" href=https://colab.research.google.com/notebooks/data_table.ipynb>data table notebook</a>'\n",
              "            + ' to learn more about interactive tables.';\n",
              "          element.innerHTML = '';\n",
              "          dataTable['output_type'] = 'display_data';\n",
              "          await google.colab.output.renderOutput(dataTable, element);\n",
              "          const docLink = document.createElement('div');\n",
              "          docLink.innerHTML = docLinkHtml;\n",
              "          element.appendChild(docLink);\n",
              "        }\n",
              "      </script>\n",
              "    </div>\n",
              "  </div>\n"
            ]
          },
          "metadata": {},
          "execution_count": 4
        }
      ]
    },
    {
      "cell_type": "code",
      "source": [
        "#show the last 10 rows of the dataframe.\n",
        "df.tail(10)"
      ],
      "metadata": {
        "colab": {
          "base_uri": "https://localhost:8080/",
          "height": 407
        },
        "id": "Pqd8x-7oh-n2",
        "outputId": "c88b926d-b8a4-475e-84dc-7bcb8bb69680"
      },
      "execution_count": 5,
      "outputs": [
        {
          "output_type": "execute_result",
          "data": {
            "text/plain": [
              "                                                name  ratings  price  \\\n",
              "397        SAMSUNG Galaxy M31s (Mirage Blue, 128 GB)      4.1  18999   \n",
              "398       SAMSUNG Galaxy A32 (Awesome Black, 128 GB)      4.5  24999   \n",
              "399        SAMSUNG Galaxy F41 (Fusion Black, 128 GB)      4.4  14499   \n",
              "400               SAMSUNG Galaxy A10s (Black, 32 GB)      4.3  10000   \n",
              "401                 SAMSUNG Galaxy A50 (Blue, 64 GB)      4.2  21000   \n",
              "402       SAMSUNG Galaxy M40 (Seawater Blue, 128 GB)      4.5  21490   \n",
              "403  SAMSUNG Galaxy A30s (Prism Crush Violet, 64 GB)      4.3  16199   \n",
              "404            SAMSUNG Galaxy J4 Plus (Black, 32 GB)      4.4   9000   \n",
              "405                SAMSUNG Galaxy M01s (Gray, 32 GB)      4.2  10999   \n",
              "406           SAMSUNG Galaxy S22 (Pink Gold, 128 GB)      4.2  20463   \n",
              "\n",
              "                                                imgURL  camera      display  \\\n",
              "397  https://rukminim2.flixcart.com/image/312/312/k...      64  other_types   \n",
              "398  https://rukminim2.flixcart.com/image/312/312/k...      64  other_types   \n",
              "399  https://rukminim2.flixcart.com/image/312/312/k...      64  other_types   \n",
              "400  https://rukminim2.flixcart.com/image/312/312/k...      13  other_types   \n",
              "401  https://rukminim2.flixcart.com/image/312/312/j...      25       AMOLED   \n",
              "402  https://rukminim2.flixcart.com/image/312/312/k...      32  other_types   \n",
              "403  https://rukminim2.flixcart.com/image/312/312/k...      25  other_types   \n",
              "404  https://rukminim2.flixcart.com/image/312/312/j...      13  other_types   \n",
              "405  https://rukminim2.flixcart.com/image/312/312/k...      13  other_types   \n",
              "406  https://rukminim2.flixcart.com/image/312/312/x...      50  other_types   \n",
              "\n",
              "     battery  storage  ram       processor  android_version  \n",
              "397     6000      128    6   not mentioned                9  \n",
              "398     5000      128    6   not mentioned                9  \n",
              "399     6000      128    6   not mentioned                9  \n",
              "400     4000       32    2        MediaTek                9  \n",
              "401     4000       64    4   not mentioned                8  \n",
              "402     3500      128    6   not mentioned                9  \n",
              "403     4000       64    4   not mentioned               12  \n",
              "404     3300       32    2  Snapdragon425P                8  \n",
              "405     4000       32    3        MediaTek                9  \n",
              "406     3700      128    8   not mentioned               12  "
            ],
            "text/html": [
              "\n",
              "\n",
              "  <div id=\"df-4f742d36-ff7b-4508-aa55-ac7336d23aa4\">\n",
              "    <div class=\"colab-df-container\">\n",
              "      <div>\n",
              "<style scoped>\n",
              "    .dataframe tbody tr th:only-of-type {\n",
              "        vertical-align: middle;\n",
              "    }\n",
              "\n",
              "    .dataframe tbody tr th {\n",
              "        vertical-align: top;\n",
              "    }\n",
              "\n",
              "    .dataframe thead th {\n",
              "        text-align: right;\n",
              "    }\n",
              "</style>\n",
              "<table border=\"1\" class=\"dataframe\">\n",
              "  <thead>\n",
              "    <tr style=\"text-align: right;\">\n",
              "      <th></th>\n",
              "      <th>name</th>\n",
              "      <th>ratings</th>\n",
              "      <th>price</th>\n",
              "      <th>imgURL</th>\n",
              "      <th>camera</th>\n",
              "      <th>display</th>\n",
              "      <th>battery</th>\n",
              "      <th>storage</th>\n",
              "      <th>ram</th>\n",
              "      <th>processor</th>\n",
              "      <th>android_version</th>\n",
              "    </tr>\n",
              "  </thead>\n",
              "  <tbody>\n",
              "    <tr>\n",
              "      <th>397</th>\n",
              "      <td>SAMSUNG Galaxy M31s (Mirage Blue, 128 GB)</td>\n",
              "      <td>4.1</td>\n",
              "      <td>18999</td>\n",
              "      <td>https://rukminim2.flixcart.com/image/312/312/k...</td>\n",
              "      <td>64</td>\n",
              "      <td>other_types</td>\n",
              "      <td>6000</td>\n",
              "      <td>128</td>\n",
              "      <td>6</td>\n",
              "      <td>not mentioned</td>\n",
              "      <td>9</td>\n",
              "    </tr>\n",
              "    <tr>\n",
              "      <th>398</th>\n",
              "      <td>SAMSUNG Galaxy A32 (Awesome Black, 128 GB)</td>\n",
              "      <td>4.5</td>\n",
              "      <td>24999</td>\n",
              "      <td>https://rukminim2.flixcart.com/image/312/312/k...</td>\n",
              "      <td>64</td>\n",
              "      <td>other_types</td>\n",
              "      <td>5000</td>\n",
              "      <td>128</td>\n",
              "      <td>6</td>\n",
              "      <td>not mentioned</td>\n",
              "      <td>9</td>\n",
              "    </tr>\n",
              "    <tr>\n",
              "      <th>399</th>\n",
              "      <td>SAMSUNG Galaxy F41 (Fusion Black, 128 GB)</td>\n",
              "      <td>4.4</td>\n",
              "      <td>14499</td>\n",
              "      <td>https://rukminim2.flixcart.com/image/312/312/k...</td>\n",
              "      <td>64</td>\n",
              "      <td>other_types</td>\n",
              "      <td>6000</td>\n",
              "      <td>128</td>\n",
              "      <td>6</td>\n",
              "      <td>not mentioned</td>\n",
              "      <td>9</td>\n",
              "    </tr>\n",
              "    <tr>\n",
              "      <th>400</th>\n",
              "      <td>SAMSUNG Galaxy A10s (Black, 32 GB)</td>\n",
              "      <td>4.3</td>\n",
              "      <td>10000</td>\n",
              "      <td>https://rukminim2.flixcart.com/image/312/312/k...</td>\n",
              "      <td>13</td>\n",
              "      <td>other_types</td>\n",
              "      <td>4000</td>\n",
              "      <td>32</td>\n",
              "      <td>2</td>\n",
              "      <td>MediaTek</td>\n",
              "      <td>9</td>\n",
              "    </tr>\n",
              "    <tr>\n",
              "      <th>401</th>\n",
              "      <td>SAMSUNG Galaxy A50 (Blue, 64 GB)</td>\n",
              "      <td>4.2</td>\n",
              "      <td>21000</td>\n",
              "      <td>https://rukminim2.flixcart.com/image/312/312/j...</td>\n",
              "      <td>25</td>\n",
              "      <td>AMOLED</td>\n",
              "      <td>4000</td>\n",
              "      <td>64</td>\n",
              "      <td>4</td>\n",
              "      <td>not mentioned</td>\n",
              "      <td>8</td>\n",
              "    </tr>\n",
              "    <tr>\n",
              "      <th>402</th>\n",
              "      <td>SAMSUNG Galaxy M40 (Seawater Blue, 128 GB)</td>\n",
              "      <td>4.5</td>\n",
              "      <td>21490</td>\n",
              "      <td>https://rukminim2.flixcart.com/image/312/312/k...</td>\n",
              "      <td>32</td>\n",
              "      <td>other_types</td>\n",
              "      <td>3500</td>\n",
              "      <td>128</td>\n",
              "      <td>6</td>\n",
              "      <td>not mentioned</td>\n",
              "      <td>9</td>\n",
              "    </tr>\n",
              "    <tr>\n",
              "      <th>403</th>\n",
              "      <td>SAMSUNG Galaxy A30s (Prism Crush Violet, 64 GB)</td>\n",
              "      <td>4.3</td>\n",
              "      <td>16199</td>\n",
              "      <td>https://rukminim2.flixcart.com/image/312/312/k...</td>\n",
              "      <td>25</td>\n",
              "      <td>other_types</td>\n",
              "      <td>4000</td>\n",
              "      <td>64</td>\n",
              "      <td>4</td>\n",
              "      <td>not mentioned</td>\n",
              "      <td>12</td>\n",
              "    </tr>\n",
              "    <tr>\n",
              "      <th>404</th>\n",
              "      <td>SAMSUNG Galaxy J4 Plus (Black, 32 GB)</td>\n",
              "      <td>4.4</td>\n",
              "      <td>9000</td>\n",
              "      <td>https://rukminim2.flixcart.com/image/312/312/j...</td>\n",
              "      <td>13</td>\n",
              "      <td>other_types</td>\n",
              "      <td>3300</td>\n",
              "      <td>32</td>\n",
              "      <td>2</td>\n",
              "      <td>Snapdragon425P</td>\n",
              "      <td>8</td>\n",
              "    </tr>\n",
              "    <tr>\n",
              "      <th>405</th>\n",
              "      <td>SAMSUNG Galaxy M01s (Gray, 32 GB)</td>\n",
              "      <td>4.2</td>\n",
              "      <td>10999</td>\n",
              "      <td>https://rukminim2.flixcart.com/image/312/312/k...</td>\n",
              "      <td>13</td>\n",
              "      <td>other_types</td>\n",
              "      <td>4000</td>\n",
              "      <td>32</td>\n",
              "      <td>3</td>\n",
              "      <td>MediaTek</td>\n",
              "      <td>9</td>\n",
              "    </tr>\n",
              "    <tr>\n",
              "      <th>406</th>\n",
              "      <td>SAMSUNG Galaxy S22 (Pink Gold, 128 GB)</td>\n",
              "      <td>4.2</td>\n",
              "      <td>20463</td>\n",
              "      <td>https://rukminim2.flixcart.com/image/312/312/x...</td>\n",
              "      <td>50</td>\n",
              "      <td>other_types</td>\n",
              "      <td>3700</td>\n",
              "      <td>128</td>\n",
              "      <td>8</td>\n",
              "      <td>not mentioned</td>\n",
              "      <td>12</td>\n",
              "    </tr>\n",
              "  </tbody>\n",
              "</table>\n",
              "</div>\n",
              "      <button class=\"colab-df-convert\" onclick=\"convertToInteractive('df-4f742d36-ff7b-4508-aa55-ac7336d23aa4')\"\n",
              "              title=\"Convert this dataframe to an interactive table.\"\n",
              "              style=\"display:none;\">\n",
              "\n",
              "  <svg xmlns=\"http://www.w3.org/2000/svg\" height=\"24px\"viewBox=\"0 0 24 24\"\n",
              "       width=\"24px\">\n",
              "    <path d=\"M0 0h24v24H0V0z\" fill=\"none\"/>\n",
              "    <path d=\"M18.56 5.44l.94 2.06.94-2.06 2.06-.94-2.06-.94-.94-2.06-.94 2.06-2.06.94zm-11 1L8.5 8.5l.94-2.06 2.06-.94-2.06-.94L8.5 2.5l-.94 2.06-2.06.94zm10 10l.94 2.06.94-2.06 2.06-.94-2.06-.94-.94-2.06-.94 2.06-2.06.94z\"/><path d=\"M17.41 7.96l-1.37-1.37c-.4-.4-.92-.59-1.43-.59-.52 0-1.04.2-1.43.59L10.3 9.45l-7.72 7.72c-.78.78-.78 2.05 0 2.83L4 21.41c.39.39.9.59 1.41.59.51 0 1.02-.2 1.41-.59l7.78-7.78 2.81-2.81c.8-.78.8-2.07 0-2.86zM5.41 20L4 18.59l7.72-7.72 1.47 1.35L5.41 20z\"/>\n",
              "  </svg>\n",
              "      </button>\n",
              "\n",
              "\n",
              "\n",
              "    <div id=\"df-19092f7d-ef37-48be-9b38-b676d2fe95ce\">\n",
              "      <button class=\"colab-df-quickchart\" onclick=\"quickchart('df-19092f7d-ef37-48be-9b38-b676d2fe95ce')\"\n",
              "              title=\"Suggest charts.\"\n",
              "              style=\"display:none;\">\n",
              "\n",
              "<svg xmlns=\"http://www.w3.org/2000/svg\" height=\"24px\"viewBox=\"0 0 24 24\"\n",
              "     width=\"24px\">\n",
              "    <g>\n",
              "        <path d=\"M19 3H5c-1.1 0-2 .9-2 2v14c0 1.1.9 2 2 2h14c1.1 0 2-.9 2-2V5c0-1.1-.9-2-2-2zM9 17H7v-7h2v7zm4 0h-2V7h2v10zm4 0h-2v-4h2v4z\"/>\n",
              "    </g>\n",
              "</svg>\n",
              "      </button>\n",
              "    </div>\n",
              "\n",
              "<style>\n",
              "  .colab-df-quickchart {\n",
              "    background-color: #E8F0FE;\n",
              "    border: none;\n",
              "    border-radius: 50%;\n",
              "    cursor: pointer;\n",
              "    display: none;\n",
              "    fill: #1967D2;\n",
              "    height: 32px;\n",
              "    padding: 0 0 0 0;\n",
              "    width: 32px;\n",
              "  }\n",
              "\n",
              "  .colab-df-quickchart:hover {\n",
              "    background-color: #E2EBFA;\n",
              "    box-shadow: 0px 1px 2px rgba(60, 64, 67, 0.3), 0px 1px 3px 1px rgba(60, 64, 67, 0.15);\n",
              "    fill: #174EA6;\n",
              "  }\n",
              "\n",
              "  [theme=dark] .colab-df-quickchart {\n",
              "    background-color: #3B4455;\n",
              "    fill: #D2E3FC;\n",
              "  }\n",
              "\n",
              "  [theme=dark] .colab-df-quickchart:hover {\n",
              "    background-color: #434B5C;\n",
              "    box-shadow: 0px 1px 3px 1px rgba(0, 0, 0, 0.15);\n",
              "    filter: drop-shadow(0px 1px 2px rgba(0, 0, 0, 0.3));\n",
              "    fill: #FFFFFF;\n",
              "  }\n",
              "</style>\n",
              "\n",
              "    <script>\n",
              "      async function quickchart(key) {\n",
              "        const containerElement = document.querySelector('#' + key);\n",
              "        const charts = await google.colab.kernel.invokeFunction(\n",
              "            'suggestCharts', [key], {});\n",
              "      }\n",
              "    </script>\n",
              "\n",
              "      <script>\n",
              "\n",
              "function displayQuickchartButton(domScope) {\n",
              "  let quickchartButtonEl =\n",
              "    domScope.querySelector('#df-19092f7d-ef37-48be-9b38-b676d2fe95ce button.colab-df-quickchart');\n",
              "  quickchartButtonEl.style.display =\n",
              "    google.colab.kernel.accessAllowed ? 'block' : 'none';\n",
              "}\n",
              "\n",
              "        displayQuickchartButton(document);\n",
              "      </script>\n",
              "      <style>\n",
              "    .colab-df-container {\n",
              "      display:flex;\n",
              "      flex-wrap:wrap;\n",
              "      gap: 12px;\n",
              "    }\n",
              "\n",
              "    .colab-df-convert {\n",
              "      background-color: #E8F0FE;\n",
              "      border: none;\n",
              "      border-radius: 50%;\n",
              "      cursor: pointer;\n",
              "      display: none;\n",
              "      fill: #1967D2;\n",
              "      height: 32px;\n",
              "      padding: 0 0 0 0;\n",
              "      width: 32px;\n",
              "    }\n",
              "\n",
              "    .colab-df-convert:hover {\n",
              "      background-color: #E2EBFA;\n",
              "      box-shadow: 0px 1px 2px rgba(60, 64, 67, 0.3), 0px 1px 3px 1px rgba(60, 64, 67, 0.15);\n",
              "      fill: #174EA6;\n",
              "    }\n",
              "\n",
              "    [theme=dark] .colab-df-convert {\n",
              "      background-color: #3B4455;\n",
              "      fill: #D2E3FC;\n",
              "    }\n",
              "\n",
              "    [theme=dark] .colab-df-convert:hover {\n",
              "      background-color: #434B5C;\n",
              "      box-shadow: 0px 1px 3px 1px rgba(0, 0, 0, 0.15);\n",
              "      filter: drop-shadow(0px 1px 2px rgba(0, 0, 0, 0.3));\n",
              "      fill: #FFFFFF;\n",
              "    }\n",
              "  </style>\n",
              "\n",
              "      <script>\n",
              "        const buttonEl =\n",
              "          document.querySelector('#df-4f742d36-ff7b-4508-aa55-ac7336d23aa4 button.colab-df-convert');\n",
              "        buttonEl.style.display =\n",
              "          google.colab.kernel.accessAllowed ? 'block' : 'none';\n",
              "\n",
              "        async function convertToInteractive(key) {\n",
              "          const element = document.querySelector('#df-4f742d36-ff7b-4508-aa55-ac7336d23aa4');\n",
              "          const dataTable =\n",
              "            await google.colab.kernel.invokeFunction('convertToInteractive',\n",
              "                                                     [key], {});\n",
              "          if (!dataTable) return;\n",
              "\n",
              "          const docLinkHtml = 'Like what you see? Visit the ' +\n",
              "            '<a target=\"_blank\" href=https://colab.research.google.com/notebooks/data_table.ipynb>data table notebook</a>'\n",
              "            + ' to learn more about interactive tables.';\n",
              "          element.innerHTML = '';\n",
              "          dataTable['output_type'] = 'display_data';\n",
              "          await google.colab.output.renderOutput(dataTable, element);\n",
              "          const docLink = document.createElement('div');\n",
              "          docLink.innerHTML = docLinkHtml;\n",
              "          element.appendChild(docLink);\n",
              "        }\n",
              "      </script>\n",
              "    </div>\n",
              "  </div>\n"
            ]
          },
          "metadata": {},
          "execution_count": 5
        }
      ]
    },
    {
      "cell_type": "code",
      "source": [
        "#to display all the columns of the data set\n",
        "pd.set_option('display.max_columns',32)"
      ],
      "metadata": {
        "id": "7KG9X-wSiCL9"
      },
      "execution_count": 6,
      "outputs": []
    },
    {
      "cell_type": "code",
      "source": [
        "df.head()"
      ],
      "metadata": {
        "colab": {
          "base_uri": "https://localhost:8080/",
          "height": 285
        },
        "id": "ik-2qzQniLuG",
        "outputId": "c489aa69-e220-4939-fa4d-c0baaf68273a"
      },
      "execution_count": 7,
      "outputs": [
        {
          "output_type": "execute_result",
          "data": {
            "text/plain": [
              "                                          name  ratings  price  \\\n",
              "0   SAMSUNG Galaxy F13 (Sunrise Copper, 64 GB)      4.3   9499   \n",
              "1  SAMSUNG Galaxy F13 (Waterfall Blue, 128 GB)      4.3  10499   \n",
              "2  SAMSUNG Galaxy F13 (Nightsky Green, 128 GB)      4.3  10499   \n",
              "3  SAMSUNG Galaxy F13 (Sunrise Copper, 128 GB)      4.3  10499   \n",
              "4    SAMSUNG Galaxy F23 5G (Aqua Blue, 128 GB)      4.3  15499   \n",
              "\n",
              "                                              imgURL  camera      display  \\\n",
              "0  https://rukminim2.flixcart.com/image/312/312/x...      50  other_types   \n",
              "1  https://rukminim2.flixcart.com/image/312/312/x...      50  other_types   \n",
              "2  https://rukminim2.flixcart.com/image/312/312/x...      50  other_types   \n",
              "3  https://rukminim2.flixcart.com/image/312/312/x...      50  other_types   \n",
              "4  https://rukminim2.flixcart.com/image/312/312/x...      50  other_types   \n",
              "\n",
              "   battery  storage  ram                processor  android_version  \n",
              "0     6000       64    4            not mentioned               12  \n",
              "1     6000      128    4            not mentioned               12  \n",
              "2     6000      128    4            not mentioned               12  \n",
              "3     6000      128    4            not mentioned               12  \n",
              "4     5000      128    6  Snapdragon750GProcessor               12  "
            ],
            "text/html": [
              "\n",
              "\n",
              "  <div id=\"df-a70cbcb7-a1da-4dcc-a6c4-a2b87dda22d1\">\n",
              "    <div class=\"colab-df-container\">\n",
              "      <div>\n",
              "<style scoped>\n",
              "    .dataframe tbody tr th:only-of-type {\n",
              "        vertical-align: middle;\n",
              "    }\n",
              "\n",
              "    .dataframe tbody tr th {\n",
              "        vertical-align: top;\n",
              "    }\n",
              "\n",
              "    .dataframe thead th {\n",
              "        text-align: right;\n",
              "    }\n",
              "</style>\n",
              "<table border=\"1\" class=\"dataframe\">\n",
              "  <thead>\n",
              "    <tr style=\"text-align: right;\">\n",
              "      <th></th>\n",
              "      <th>name</th>\n",
              "      <th>ratings</th>\n",
              "      <th>price</th>\n",
              "      <th>imgURL</th>\n",
              "      <th>camera</th>\n",
              "      <th>display</th>\n",
              "      <th>battery</th>\n",
              "      <th>storage</th>\n",
              "      <th>ram</th>\n",
              "      <th>processor</th>\n",
              "      <th>android_version</th>\n",
              "    </tr>\n",
              "  </thead>\n",
              "  <tbody>\n",
              "    <tr>\n",
              "      <th>0</th>\n",
              "      <td>SAMSUNG Galaxy F13 (Sunrise Copper, 64 GB)</td>\n",
              "      <td>4.3</td>\n",
              "      <td>9499</td>\n",
              "      <td>https://rukminim2.flixcart.com/image/312/312/x...</td>\n",
              "      <td>50</td>\n",
              "      <td>other_types</td>\n",
              "      <td>6000</td>\n",
              "      <td>64</td>\n",
              "      <td>4</td>\n",
              "      <td>not mentioned</td>\n",
              "      <td>12</td>\n",
              "    </tr>\n",
              "    <tr>\n",
              "      <th>1</th>\n",
              "      <td>SAMSUNG Galaxy F13 (Waterfall Blue, 128 GB)</td>\n",
              "      <td>4.3</td>\n",
              "      <td>10499</td>\n",
              "      <td>https://rukminim2.flixcart.com/image/312/312/x...</td>\n",
              "      <td>50</td>\n",
              "      <td>other_types</td>\n",
              "      <td>6000</td>\n",
              "      <td>128</td>\n",
              "      <td>4</td>\n",
              "      <td>not mentioned</td>\n",
              "      <td>12</td>\n",
              "    </tr>\n",
              "    <tr>\n",
              "      <th>2</th>\n",
              "      <td>SAMSUNG Galaxy F13 (Nightsky Green, 128 GB)</td>\n",
              "      <td>4.3</td>\n",
              "      <td>10499</td>\n",
              "      <td>https://rukminim2.flixcart.com/image/312/312/x...</td>\n",
              "      <td>50</td>\n",
              "      <td>other_types</td>\n",
              "      <td>6000</td>\n",
              "      <td>128</td>\n",
              "      <td>4</td>\n",
              "      <td>not mentioned</td>\n",
              "      <td>12</td>\n",
              "    </tr>\n",
              "    <tr>\n",
              "      <th>3</th>\n",
              "      <td>SAMSUNG Galaxy F13 (Sunrise Copper, 128 GB)</td>\n",
              "      <td>4.3</td>\n",
              "      <td>10499</td>\n",
              "      <td>https://rukminim2.flixcart.com/image/312/312/x...</td>\n",
              "      <td>50</td>\n",
              "      <td>other_types</td>\n",
              "      <td>6000</td>\n",
              "      <td>128</td>\n",
              "      <td>4</td>\n",
              "      <td>not mentioned</td>\n",
              "      <td>12</td>\n",
              "    </tr>\n",
              "    <tr>\n",
              "      <th>4</th>\n",
              "      <td>SAMSUNG Galaxy F23 5G (Aqua Blue, 128 GB)</td>\n",
              "      <td>4.3</td>\n",
              "      <td>15499</td>\n",
              "      <td>https://rukminim2.flixcart.com/image/312/312/x...</td>\n",
              "      <td>50</td>\n",
              "      <td>other_types</td>\n",
              "      <td>5000</td>\n",
              "      <td>128</td>\n",
              "      <td>6</td>\n",
              "      <td>Snapdragon750GProcessor</td>\n",
              "      <td>12</td>\n",
              "    </tr>\n",
              "  </tbody>\n",
              "</table>\n",
              "</div>\n",
              "      <button class=\"colab-df-convert\" onclick=\"convertToInteractive('df-a70cbcb7-a1da-4dcc-a6c4-a2b87dda22d1')\"\n",
              "              title=\"Convert this dataframe to an interactive table.\"\n",
              "              style=\"display:none;\">\n",
              "\n",
              "  <svg xmlns=\"http://www.w3.org/2000/svg\" height=\"24px\"viewBox=\"0 0 24 24\"\n",
              "       width=\"24px\">\n",
              "    <path d=\"M0 0h24v24H0V0z\" fill=\"none\"/>\n",
              "    <path d=\"M18.56 5.44l.94 2.06.94-2.06 2.06-.94-2.06-.94-.94-2.06-.94 2.06-2.06.94zm-11 1L8.5 8.5l.94-2.06 2.06-.94-2.06-.94L8.5 2.5l-.94 2.06-2.06.94zm10 10l.94 2.06.94-2.06 2.06-.94-2.06-.94-.94-2.06-.94 2.06-2.06.94z\"/><path d=\"M17.41 7.96l-1.37-1.37c-.4-.4-.92-.59-1.43-.59-.52 0-1.04.2-1.43.59L10.3 9.45l-7.72 7.72c-.78.78-.78 2.05 0 2.83L4 21.41c.39.39.9.59 1.41.59.51 0 1.02-.2 1.41-.59l7.78-7.78 2.81-2.81c.8-.78.8-2.07 0-2.86zM5.41 20L4 18.59l7.72-7.72 1.47 1.35L5.41 20z\"/>\n",
              "  </svg>\n",
              "      </button>\n",
              "\n",
              "\n",
              "\n",
              "    <div id=\"df-ddca5cb4-8f5a-42a9-9cb7-238d8dde6d42\">\n",
              "      <button class=\"colab-df-quickchart\" onclick=\"quickchart('df-ddca5cb4-8f5a-42a9-9cb7-238d8dde6d42')\"\n",
              "              title=\"Suggest charts.\"\n",
              "              style=\"display:none;\">\n",
              "\n",
              "<svg xmlns=\"http://www.w3.org/2000/svg\" height=\"24px\"viewBox=\"0 0 24 24\"\n",
              "     width=\"24px\">\n",
              "    <g>\n",
              "        <path d=\"M19 3H5c-1.1 0-2 .9-2 2v14c0 1.1.9 2 2 2h14c1.1 0 2-.9 2-2V5c0-1.1-.9-2-2-2zM9 17H7v-7h2v7zm4 0h-2V7h2v10zm4 0h-2v-4h2v4z\"/>\n",
              "    </g>\n",
              "</svg>\n",
              "      </button>\n",
              "    </div>\n",
              "\n",
              "<style>\n",
              "  .colab-df-quickchart {\n",
              "    background-color: #E8F0FE;\n",
              "    border: none;\n",
              "    border-radius: 50%;\n",
              "    cursor: pointer;\n",
              "    display: none;\n",
              "    fill: #1967D2;\n",
              "    height: 32px;\n",
              "    padding: 0 0 0 0;\n",
              "    width: 32px;\n",
              "  }\n",
              "\n",
              "  .colab-df-quickchart:hover {\n",
              "    background-color: #E2EBFA;\n",
              "    box-shadow: 0px 1px 2px rgba(60, 64, 67, 0.3), 0px 1px 3px 1px rgba(60, 64, 67, 0.15);\n",
              "    fill: #174EA6;\n",
              "  }\n",
              "\n",
              "  [theme=dark] .colab-df-quickchart {\n",
              "    background-color: #3B4455;\n",
              "    fill: #D2E3FC;\n",
              "  }\n",
              "\n",
              "  [theme=dark] .colab-df-quickchart:hover {\n",
              "    background-color: #434B5C;\n",
              "    box-shadow: 0px 1px 3px 1px rgba(0, 0, 0, 0.15);\n",
              "    filter: drop-shadow(0px 1px 2px rgba(0, 0, 0, 0.3));\n",
              "    fill: #FFFFFF;\n",
              "  }\n",
              "</style>\n",
              "\n",
              "    <script>\n",
              "      async function quickchart(key) {\n",
              "        const containerElement = document.querySelector('#' + key);\n",
              "        const charts = await google.colab.kernel.invokeFunction(\n",
              "            'suggestCharts', [key], {});\n",
              "      }\n",
              "    </script>\n",
              "\n",
              "      <script>\n",
              "\n",
              "function displayQuickchartButton(domScope) {\n",
              "  let quickchartButtonEl =\n",
              "    domScope.querySelector('#df-ddca5cb4-8f5a-42a9-9cb7-238d8dde6d42 button.colab-df-quickchart');\n",
              "  quickchartButtonEl.style.display =\n",
              "    google.colab.kernel.accessAllowed ? 'block' : 'none';\n",
              "}\n",
              "\n",
              "        displayQuickchartButton(document);\n",
              "      </script>\n",
              "      <style>\n",
              "    .colab-df-container {\n",
              "      display:flex;\n",
              "      flex-wrap:wrap;\n",
              "      gap: 12px;\n",
              "    }\n",
              "\n",
              "    .colab-df-convert {\n",
              "      background-color: #E8F0FE;\n",
              "      border: none;\n",
              "      border-radius: 50%;\n",
              "      cursor: pointer;\n",
              "      display: none;\n",
              "      fill: #1967D2;\n",
              "      height: 32px;\n",
              "      padding: 0 0 0 0;\n",
              "      width: 32px;\n",
              "    }\n",
              "\n",
              "    .colab-df-convert:hover {\n",
              "      background-color: #E2EBFA;\n",
              "      box-shadow: 0px 1px 2px rgba(60, 64, 67, 0.3), 0px 1px 3px 1px rgba(60, 64, 67, 0.15);\n",
              "      fill: #174EA6;\n",
              "    }\n",
              "\n",
              "    [theme=dark] .colab-df-convert {\n",
              "      background-color: #3B4455;\n",
              "      fill: #D2E3FC;\n",
              "    }\n",
              "\n",
              "    [theme=dark] .colab-df-convert:hover {\n",
              "      background-color: #434B5C;\n",
              "      box-shadow: 0px 1px 3px 1px rgba(0, 0, 0, 0.15);\n",
              "      filter: drop-shadow(0px 1px 2px rgba(0, 0, 0, 0.3));\n",
              "      fill: #FFFFFF;\n",
              "    }\n",
              "  </style>\n",
              "\n",
              "      <script>\n",
              "        const buttonEl =\n",
              "          document.querySelector('#df-a70cbcb7-a1da-4dcc-a6c4-a2b87dda22d1 button.colab-df-convert');\n",
              "        buttonEl.style.display =\n",
              "          google.colab.kernel.accessAllowed ? 'block' : 'none';\n",
              "\n",
              "        async function convertToInteractive(key) {\n",
              "          const element = document.querySelector('#df-a70cbcb7-a1da-4dcc-a6c4-a2b87dda22d1');\n",
              "          const dataTable =\n",
              "            await google.colab.kernel.invokeFunction('convertToInteractive',\n",
              "                                                     [key], {});\n",
              "          if (!dataTable) return;\n",
              "\n",
              "          const docLinkHtml = 'Like what you see? Visit the ' +\n",
              "            '<a target=\"_blank\" href=https://colab.research.google.com/notebooks/data_table.ipynb>data table notebook</a>'\n",
              "            + ' to learn more about interactive tables.';\n",
              "          element.innerHTML = '';\n",
              "          dataTable['output_type'] = 'display_data';\n",
              "          await google.colab.output.renderOutput(dataTable, element);\n",
              "          const docLink = document.createElement('div');\n",
              "          docLink.innerHTML = docLinkHtml;\n",
              "          element.appendChild(docLink);\n",
              "        }\n",
              "      </script>\n",
              "    </div>\n",
              "  </div>\n"
            ]
          },
          "metadata": {},
          "execution_count": 7
        }
      ]
    },
    {
      "cell_type": "code",
      "source": [
        "#to display all the column names\n",
        "df.columns"
      ],
      "metadata": {
        "colab": {
          "base_uri": "https://localhost:8080/"
        },
        "id": "O344qoJHiPDH",
        "outputId": "19ad350d-60af-4a14-d27e-ce611aeb071f"
      },
      "execution_count": 8,
      "outputs": [
        {
          "output_type": "execute_result",
          "data": {
            "text/plain": [
              "Index(['name', 'ratings', 'price', 'imgURL', 'camera', 'display', 'battery',\n",
              "       'storage', 'ram', 'processor', 'android_version'],\n",
              "      dtype='object')"
            ]
          },
          "metadata": {},
          "execution_count": 8
        }
      ]
    },
    {
      "cell_type": "code",
      "source": [
        "df.shape"
      ],
      "metadata": {
        "colab": {
          "base_uri": "https://localhost:8080/"
        },
        "id": "tdMj9NYgiVBt",
        "outputId": "fa92e8dd-6892-44ac-b53d-e5ca5cc66496"
      },
      "execution_count": 9,
      "outputs": [
        {
          "output_type": "execute_result",
          "data": {
            "text/plain": [
              "(407, 11)"
            ]
          },
          "metadata": {},
          "execution_count": 9
        }
      ]
    },
    {
      "cell_type": "code",
      "source": [
        "# check the data type of data frame \"df\" by .dtypes\n",
        "print(df.dtypes)"
      ],
      "metadata": {
        "colab": {
          "base_uri": "https://localhost:8080/"
        },
        "id": "X09L1erRiY9X",
        "outputId": "fede8fc0-b677-4107-a3ba-0a2c936a8c4f"
      },
      "execution_count": 10,
      "outputs": [
        {
          "output_type": "stream",
          "name": "stdout",
          "text": [
            "name                object\n",
            "ratings            float64\n",
            "price                int64\n",
            "imgURL              object\n",
            "camera               int64\n",
            "display             object\n",
            "battery              int64\n",
            "storage              int64\n",
            "ram                  int64\n",
            "processor           object\n",
            "android_version      int64\n",
            "dtype: object\n"
          ]
        }
      ]
    },
    {
      "cell_type": "code",
      "source": [
        "#gives random 10 data\n",
        "df.sample(10)"
      ],
      "metadata": {
        "colab": {
          "base_uri": "https://localhost:8080/",
          "height": 407
        },
        "id": "0fiCOXRYicwW",
        "outputId": "15bdc307-06ee-4517-dc39-5e989edab3b3"
      },
      "execution_count": 11,
      "outputs": [
        {
          "output_type": "execute_result",
          "data": {
            "text/plain": [
              "                                                  name  ratings  price  \\\n",
              "54                SAMSUNG Galaxy A14 5G (Black, 64 GB)      4.1  15999   \n",
              "10           SAMSUNG Galaxy F14 5G (OMG Black, 128 GB)      4.2  13990   \n",
              "24          SAMSUNG GALAXY M13 (Midnight Blue, 128 GB)      4.2  12879   \n",
              "295                 SAMSUNG Galaxy A13 (Peach, 128 GB)      4.0  14999   \n",
              "254  SAMSUNG Galaxy M32 Prime Edition (Light Blue, ...      4.2  11370   \n",
              "88               SAMSUNG Galaxy S23 5G (Green, 256 GB)      4.5  14463   \n",
              "365                 SAMSUNG M31s (Mirage Blue, 128 GB)      4.1  24999   \n",
              "400                 SAMSUNG Galaxy A10s (Black, 32 GB)      4.3  10000   \n",
              "97               SAMSUNG Galaxy S23 5G (Cream, 256 GB)      4.5  14463   \n",
              "15           SAMSUNG Galaxy F14 5G (OMG Black, 128 GB)      4.2  12990   \n",
              "\n",
              "                                                imgURL  camera      display  \\\n",
              "54   https://rukminim2.flixcart.com/image/312/312/x...      50          LCD   \n",
              "10   https://rukminim2.flixcart.com/image/312/312/x...      50          LCD   \n",
              "24   https://rukminim2.flixcart.com/image/312/312/x...      50  other_types   \n",
              "295  https://rukminim2.flixcart.com/image/312/312/l...       3  other_types   \n",
              "254  https://rukminim2.flixcart.com/image/312/312/x...      64  other_types   \n",
              "88   https://rukminim2.flixcart.com/image/312/312/x...      50   HD+ AMOLED   \n",
              "365  https://rukminim2.flixcart.com/image/312/312/k...      64       AMOLED   \n",
              "400  https://rukminim2.flixcart.com/image/312/312/k...      13  other_types   \n",
              "97   https://rukminim2.flixcart.com/image/312/312/x...      50   HD+ AMOLED   \n",
              "15   https://rukminim2.flixcart.com/image/312/312/x...      50          LCD   \n",
              "\n",
              "     battery  storage  ram      processor  android_version  \n",
              "54      5000       64    4  not mentioned               12  \n",
              "10      6000      128    6  not mentioned               13  \n",
              "24      6000      128    6  not mentioned               12  \n",
              "295     5000      128    4  not mentioned               11  \n",
              "254     6000      128    6  not mentioned               12  \n",
              "88      3900      256    8           Gen8               13  \n",
              "365     6000      128    8  not mentioned                9  \n",
              "400     4000       32    2       MediaTek                9  \n",
              "97      3900      256    8           Gen8               13  \n",
              "15      6000      128    4  not mentioned               13  "
            ],
            "text/html": [
              "\n",
              "\n",
              "  <div id=\"df-7d565e7d-befe-4b83-8a36-39d33b440c88\">\n",
              "    <div class=\"colab-df-container\">\n",
              "      <div>\n",
              "<style scoped>\n",
              "    .dataframe tbody tr th:only-of-type {\n",
              "        vertical-align: middle;\n",
              "    }\n",
              "\n",
              "    .dataframe tbody tr th {\n",
              "        vertical-align: top;\n",
              "    }\n",
              "\n",
              "    .dataframe thead th {\n",
              "        text-align: right;\n",
              "    }\n",
              "</style>\n",
              "<table border=\"1\" class=\"dataframe\">\n",
              "  <thead>\n",
              "    <tr style=\"text-align: right;\">\n",
              "      <th></th>\n",
              "      <th>name</th>\n",
              "      <th>ratings</th>\n",
              "      <th>price</th>\n",
              "      <th>imgURL</th>\n",
              "      <th>camera</th>\n",
              "      <th>display</th>\n",
              "      <th>battery</th>\n",
              "      <th>storage</th>\n",
              "      <th>ram</th>\n",
              "      <th>processor</th>\n",
              "      <th>android_version</th>\n",
              "    </tr>\n",
              "  </thead>\n",
              "  <tbody>\n",
              "    <tr>\n",
              "      <th>54</th>\n",
              "      <td>SAMSUNG Galaxy A14 5G (Black, 64 GB)</td>\n",
              "      <td>4.1</td>\n",
              "      <td>15999</td>\n",
              "      <td>https://rukminim2.flixcart.com/image/312/312/x...</td>\n",
              "      <td>50</td>\n",
              "      <td>LCD</td>\n",
              "      <td>5000</td>\n",
              "      <td>64</td>\n",
              "      <td>4</td>\n",
              "      <td>not mentioned</td>\n",
              "      <td>12</td>\n",
              "    </tr>\n",
              "    <tr>\n",
              "      <th>10</th>\n",
              "      <td>SAMSUNG Galaxy F14 5G (OMG Black, 128 GB)</td>\n",
              "      <td>4.2</td>\n",
              "      <td>13990</td>\n",
              "      <td>https://rukminim2.flixcart.com/image/312/312/x...</td>\n",
              "      <td>50</td>\n",
              "      <td>LCD</td>\n",
              "      <td>6000</td>\n",
              "      <td>128</td>\n",
              "      <td>6</td>\n",
              "      <td>not mentioned</td>\n",
              "      <td>13</td>\n",
              "    </tr>\n",
              "    <tr>\n",
              "      <th>24</th>\n",
              "      <td>SAMSUNG GALAXY M13 (Midnight Blue, 128 GB)</td>\n",
              "      <td>4.2</td>\n",
              "      <td>12879</td>\n",
              "      <td>https://rukminim2.flixcart.com/image/312/312/x...</td>\n",
              "      <td>50</td>\n",
              "      <td>other_types</td>\n",
              "      <td>6000</td>\n",
              "      <td>128</td>\n",
              "      <td>6</td>\n",
              "      <td>not mentioned</td>\n",
              "      <td>12</td>\n",
              "    </tr>\n",
              "    <tr>\n",
              "      <th>295</th>\n",
              "      <td>SAMSUNG Galaxy A13 (Peach, 128 GB)</td>\n",
              "      <td>4.0</td>\n",
              "      <td>14999</td>\n",
              "      <td>https://rukminim2.flixcart.com/image/312/312/l...</td>\n",
              "      <td>3</td>\n",
              "      <td>other_types</td>\n",
              "      <td>5000</td>\n",
              "      <td>128</td>\n",
              "      <td>4</td>\n",
              "      <td>not mentioned</td>\n",
              "      <td>11</td>\n",
              "    </tr>\n",
              "    <tr>\n",
              "      <th>254</th>\n",
              "      <td>SAMSUNG Galaxy M32 Prime Edition (Light Blue, ...</td>\n",
              "      <td>4.2</td>\n",
              "      <td>11370</td>\n",
              "      <td>https://rukminim2.flixcart.com/image/312/312/x...</td>\n",
              "      <td>64</td>\n",
              "      <td>other_types</td>\n",
              "      <td>6000</td>\n",
              "      <td>128</td>\n",
              "      <td>6</td>\n",
              "      <td>not mentioned</td>\n",
              "      <td>12</td>\n",
              "    </tr>\n",
              "    <tr>\n",
              "      <th>88</th>\n",
              "      <td>SAMSUNG Galaxy S23 5G (Green, 256 GB)</td>\n",
              "      <td>4.5</td>\n",
              "      <td>14463</td>\n",
              "      <td>https://rukminim2.flixcart.com/image/312/312/x...</td>\n",
              "      <td>50</td>\n",
              "      <td>HD+ AMOLED</td>\n",
              "      <td>3900</td>\n",
              "      <td>256</td>\n",
              "      <td>8</td>\n",
              "      <td>Gen8</td>\n",
              "      <td>13</td>\n",
              "    </tr>\n",
              "    <tr>\n",
              "      <th>365</th>\n",
              "      <td>SAMSUNG M31s (Mirage Blue, 128 GB)</td>\n",
              "      <td>4.1</td>\n",
              "      <td>24999</td>\n",
              "      <td>https://rukminim2.flixcart.com/image/312/312/k...</td>\n",
              "      <td>64</td>\n",
              "      <td>AMOLED</td>\n",
              "      <td>6000</td>\n",
              "      <td>128</td>\n",
              "      <td>8</td>\n",
              "      <td>not mentioned</td>\n",
              "      <td>9</td>\n",
              "    </tr>\n",
              "    <tr>\n",
              "      <th>400</th>\n",
              "      <td>SAMSUNG Galaxy A10s (Black, 32 GB)</td>\n",
              "      <td>4.3</td>\n",
              "      <td>10000</td>\n",
              "      <td>https://rukminim2.flixcart.com/image/312/312/k...</td>\n",
              "      <td>13</td>\n",
              "      <td>other_types</td>\n",
              "      <td>4000</td>\n",
              "      <td>32</td>\n",
              "      <td>2</td>\n",
              "      <td>MediaTek</td>\n",
              "      <td>9</td>\n",
              "    </tr>\n",
              "    <tr>\n",
              "      <th>97</th>\n",
              "      <td>SAMSUNG Galaxy S23 5G (Cream, 256 GB)</td>\n",
              "      <td>4.5</td>\n",
              "      <td>14463</td>\n",
              "      <td>https://rukminim2.flixcart.com/image/312/312/x...</td>\n",
              "      <td>50</td>\n",
              "      <td>HD+ AMOLED</td>\n",
              "      <td>3900</td>\n",
              "      <td>256</td>\n",
              "      <td>8</td>\n",
              "      <td>Gen8</td>\n",
              "      <td>13</td>\n",
              "    </tr>\n",
              "    <tr>\n",
              "      <th>15</th>\n",
              "      <td>SAMSUNG Galaxy F14 5G (OMG Black, 128 GB)</td>\n",
              "      <td>4.2</td>\n",
              "      <td>12990</td>\n",
              "      <td>https://rukminim2.flixcart.com/image/312/312/x...</td>\n",
              "      <td>50</td>\n",
              "      <td>LCD</td>\n",
              "      <td>6000</td>\n",
              "      <td>128</td>\n",
              "      <td>4</td>\n",
              "      <td>not mentioned</td>\n",
              "      <td>13</td>\n",
              "    </tr>\n",
              "  </tbody>\n",
              "</table>\n",
              "</div>\n",
              "      <button class=\"colab-df-convert\" onclick=\"convertToInteractive('df-7d565e7d-befe-4b83-8a36-39d33b440c88')\"\n",
              "              title=\"Convert this dataframe to an interactive table.\"\n",
              "              style=\"display:none;\">\n",
              "\n",
              "  <svg xmlns=\"http://www.w3.org/2000/svg\" height=\"24px\"viewBox=\"0 0 24 24\"\n",
              "       width=\"24px\">\n",
              "    <path d=\"M0 0h24v24H0V0z\" fill=\"none\"/>\n",
              "    <path d=\"M18.56 5.44l.94 2.06.94-2.06 2.06-.94-2.06-.94-.94-2.06-.94 2.06-2.06.94zm-11 1L8.5 8.5l.94-2.06 2.06-.94-2.06-.94L8.5 2.5l-.94 2.06-2.06.94zm10 10l.94 2.06.94-2.06 2.06-.94-2.06-.94-.94-2.06-.94 2.06-2.06.94z\"/><path d=\"M17.41 7.96l-1.37-1.37c-.4-.4-.92-.59-1.43-.59-.52 0-1.04.2-1.43.59L10.3 9.45l-7.72 7.72c-.78.78-.78 2.05 0 2.83L4 21.41c.39.39.9.59 1.41.59.51 0 1.02-.2 1.41-.59l7.78-7.78 2.81-2.81c.8-.78.8-2.07 0-2.86zM5.41 20L4 18.59l7.72-7.72 1.47 1.35L5.41 20z\"/>\n",
              "  </svg>\n",
              "      </button>\n",
              "\n",
              "\n",
              "\n",
              "    <div id=\"df-86443fbe-0903-4422-833c-7ad9ccba43c4\">\n",
              "      <button class=\"colab-df-quickchart\" onclick=\"quickchart('df-86443fbe-0903-4422-833c-7ad9ccba43c4')\"\n",
              "              title=\"Suggest charts.\"\n",
              "              style=\"display:none;\">\n",
              "\n",
              "<svg xmlns=\"http://www.w3.org/2000/svg\" height=\"24px\"viewBox=\"0 0 24 24\"\n",
              "     width=\"24px\">\n",
              "    <g>\n",
              "        <path d=\"M19 3H5c-1.1 0-2 .9-2 2v14c0 1.1.9 2 2 2h14c1.1 0 2-.9 2-2V5c0-1.1-.9-2-2-2zM9 17H7v-7h2v7zm4 0h-2V7h2v10zm4 0h-2v-4h2v4z\"/>\n",
              "    </g>\n",
              "</svg>\n",
              "      </button>\n",
              "    </div>\n",
              "\n",
              "<style>\n",
              "  .colab-df-quickchart {\n",
              "    background-color: #E8F0FE;\n",
              "    border: none;\n",
              "    border-radius: 50%;\n",
              "    cursor: pointer;\n",
              "    display: none;\n",
              "    fill: #1967D2;\n",
              "    height: 32px;\n",
              "    padding: 0 0 0 0;\n",
              "    width: 32px;\n",
              "  }\n",
              "\n",
              "  .colab-df-quickchart:hover {\n",
              "    background-color: #E2EBFA;\n",
              "    box-shadow: 0px 1px 2px rgba(60, 64, 67, 0.3), 0px 1px 3px 1px rgba(60, 64, 67, 0.15);\n",
              "    fill: #174EA6;\n",
              "  }\n",
              "\n",
              "  [theme=dark] .colab-df-quickchart {\n",
              "    background-color: #3B4455;\n",
              "    fill: #D2E3FC;\n",
              "  }\n",
              "\n",
              "  [theme=dark] .colab-df-quickchart:hover {\n",
              "    background-color: #434B5C;\n",
              "    box-shadow: 0px 1px 3px 1px rgba(0, 0, 0, 0.15);\n",
              "    filter: drop-shadow(0px 1px 2px rgba(0, 0, 0, 0.3));\n",
              "    fill: #FFFFFF;\n",
              "  }\n",
              "</style>\n",
              "\n",
              "    <script>\n",
              "      async function quickchart(key) {\n",
              "        const containerElement = document.querySelector('#' + key);\n",
              "        const charts = await google.colab.kernel.invokeFunction(\n",
              "            'suggestCharts', [key], {});\n",
              "      }\n",
              "    </script>\n",
              "\n",
              "      <script>\n",
              "\n",
              "function displayQuickchartButton(domScope) {\n",
              "  let quickchartButtonEl =\n",
              "    domScope.querySelector('#df-86443fbe-0903-4422-833c-7ad9ccba43c4 button.colab-df-quickchart');\n",
              "  quickchartButtonEl.style.display =\n",
              "    google.colab.kernel.accessAllowed ? 'block' : 'none';\n",
              "}\n",
              "\n",
              "        displayQuickchartButton(document);\n",
              "      </script>\n",
              "      <style>\n",
              "    .colab-df-container {\n",
              "      display:flex;\n",
              "      flex-wrap:wrap;\n",
              "      gap: 12px;\n",
              "    }\n",
              "\n",
              "    .colab-df-convert {\n",
              "      background-color: #E8F0FE;\n",
              "      border: none;\n",
              "      border-radius: 50%;\n",
              "      cursor: pointer;\n",
              "      display: none;\n",
              "      fill: #1967D2;\n",
              "      height: 32px;\n",
              "      padding: 0 0 0 0;\n",
              "      width: 32px;\n",
              "    }\n",
              "\n",
              "    .colab-df-convert:hover {\n",
              "      background-color: #E2EBFA;\n",
              "      box-shadow: 0px 1px 2px rgba(60, 64, 67, 0.3), 0px 1px 3px 1px rgba(60, 64, 67, 0.15);\n",
              "      fill: #174EA6;\n",
              "    }\n",
              "\n",
              "    [theme=dark] .colab-df-convert {\n",
              "      background-color: #3B4455;\n",
              "      fill: #D2E3FC;\n",
              "    }\n",
              "\n",
              "    [theme=dark] .colab-df-convert:hover {\n",
              "      background-color: #434B5C;\n",
              "      box-shadow: 0px 1px 3px 1px rgba(0, 0, 0, 0.15);\n",
              "      filter: drop-shadow(0px 1px 2px rgba(0, 0, 0, 0.3));\n",
              "      fill: #FFFFFF;\n",
              "    }\n",
              "  </style>\n",
              "\n",
              "      <script>\n",
              "        const buttonEl =\n",
              "          document.querySelector('#df-7d565e7d-befe-4b83-8a36-39d33b440c88 button.colab-df-convert');\n",
              "        buttonEl.style.display =\n",
              "          google.colab.kernel.accessAllowed ? 'block' : 'none';\n",
              "\n",
              "        async function convertToInteractive(key) {\n",
              "          const element = document.querySelector('#df-7d565e7d-befe-4b83-8a36-39d33b440c88');\n",
              "          const dataTable =\n",
              "            await google.colab.kernel.invokeFunction('convertToInteractive',\n",
              "                                                     [key], {});\n",
              "          if (!dataTable) return;\n",
              "\n",
              "          const docLinkHtml = 'Like what you see? Visit the ' +\n",
              "            '<a target=\"_blank\" href=https://colab.research.google.com/notebooks/data_table.ipynb>data table notebook</a>'\n",
              "            + ' to learn more about interactive tables.';\n",
              "          element.innerHTML = '';\n",
              "          dataTable['output_type'] = 'display_data';\n",
              "          await google.colab.output.renderOutput(dataTable, element);\n",
              "          const docLink = document.createElement('div');\n",
              "          docLink.innerHTML = docLinkHtml;\n",
              "          element.appendChild(docLink);\n",
              "        }\n",
              "      </script>\n",
              "    </div>\n",
              "  </div>\n"
            ]
          },
          "metadata": {},
          "execution_count": 11
        }
      ]
    },
    {
      "cell_type": "markdown",
      "source": [
        "Describe\n",
        "\n",
        "If we would like to get a statistical summary of each column, such as count, column mean value, column standard deviation, etc. We use the describe method"
      ],
      "metadata": {
        "id": "f3mapokUija4"
      }
    },
    {
      "cell_type": "code",
      "source": [
        "df.describe()"
      ],
      "metadata": {
        "colab": {
          "base_uri": "https://localhost:8080/",
          "height": 300
        },
        "id": "BnbYR2wMieLl",
        "outputId": "bd684a92-33c6-467f-81f4-f69ed2dfd5c9"
      },
      "execution_count": 12,
      "outputs": [
        {
          "output_type": "execute_result",
          "data": {
            "text/plain": [
              "         ratings         price      camera      battery     storage  \\\n",
              "count  407.00000    407.000000  407.000000   407.000000  407.000000   \n",
              "mean     4.19828  17363.245700   43.660934  4946.437346  106.199017   \n",
              "std      0.17762   6735.647203   25.189978   878.467561   58.899992   \n",
              "min      2.90000   6490.000000    0.000000  1500.000000    1.000000   \n",
              "25%      4.10000  11982.500000   20.000000  4500.000000   64.000000   \n",
              "50%      4.20000  15999.000000   48.000000  5000.000000  128.000000   \n",
              "75%      4.30000  21744.500000   50.000000  5500.000000  128.000000   \n",
              "max      4.80000  32000.000000  200.000000  7000.000000  512.000000   \n",
              "\n",
              "              ram  android_version  \n",
              "count  407.000000       407.000000  \n",
              "mean     5.493857        10.847666  \n",
              "std      2.185789         1.829261  \n",
              "min      1.000000         1.000000  \n",
              "25%      4.000000        10.000000  \n",
              "50%      6.000000        11.000000  \n",
              "75%      6.000000        12.000000  \n",
              "max     12.000000        13.000000  "
            ],
            "text/html": [
              "\n",
              "\n",
              "  <div id=\"df-d0eb5ff6-f974-421d-ab64-f0d8e2600374\">\n",
              "    <div class=\"colab-df-container\">\n",
              "      <div>\n",
              "<style scoped>\n",
              "    .dataframe tbody tr th:only-of-type {\n",
              "        vertical-align: middle;\n",
              "    }\n",
              "\n",
              "    .dataframe tbody tr th {\n",
              "        vertical-align: top;\n",
              "    }\n",
              "\n",
              "    .dataframe thead th {\n",
              "        text-align: right;\n",
              "    }\n",
              "</style>\n",
              "<table border=\"1\" class=\"dataframe\">\n",
              "  <thead>\n",
              "    <tr style=\"text-align: right;\">\n",
              "      <th></th>\n",
              "      <th>ratings</th>\n",
              "      <th>price</th>\n",
              "      <th>camera</th>\n",
              "      <th>battery</th>\n",
              "      <th>storage</th>\n",
              "      <th>ram</th>\n",
              "      <th>android_version</th>\n",
              "    </tr>\n",
              "  </thead>\n",
              "  <tbody>\n",
              "    <tr>\n",
              "      <th>count</th>\n",
              "      <td>407.00000</td>\n",
              "      <td>407.000000</td>\n",
              "      <td>407.000000</td>\n",
              "      <td>407.000000</td>\n",
              "      <td>407.000000</td>\n",
              "      <td>407.000000</td>\n",
              "      <td>407.000000</td>\n",
              "    </tr>\n",
              "    <tr>\n",
              "      <th>mean</th>\n",
              "      <td>4.19828</td>\n",
              "      <td>17363.245700</td>\n",
              "      <td>43.660934</td>\n",
              "      <td>4946.437346</td>\n",
              "      <td>106.199017</td>\n",
              "      <td>5.493857</td>\n",
              "      <td>10.847666</td>\n",
              "    </tr>\n",
              "    <tr>\n",
              "      <th>std</th>\n",
              "      <td>0.17762</td>\n",
              "      <td>6735.647203</td>\n",
              "      <td>25.189978</td>\n",
              "      <td>878.467561</td>\n",
              "      <td>58.899992</td>\n",
              "      <td>2.185789</td>\n",
              "      <td>1.829261</td>\n",
              "    </tr>\n",
              "    <tr>\n",
              "      <th>min</th>\n",
              "      <td>2.90000</td>\n",
              "      <td>6490.000000</td>\n",
              "      <td>0.000000</td>\n",
              "      <td>1500.000000</td>\n",
              "      <td>1.000000</td>\n",
              "      <td>1.000000</td>\n",
              "      <td>1.000000</td>\n",
              "    </tr>\n",
              "    <tr>\n",
              "      <th>25%</th>\n",
              "      <td>4.10000</td>\n",
              "      <td>11982.500000</td>\n",
              "      <td>20.000000</td>\n",
              "      <td>4500.000000</td>\n",
              "      <td>64.000000</td>\n",
              "      <td>4.000000</td>\n",
              "      <td>10.000000</td>\n",
              "    </tr>\n",
              "    <tr>\n",
              "      <th>50%</th>\n",
              "      <td>4.20000</td>\n",
              "      <td>15999.000000</td>\n",
              "      <td>48.000000</td>\n",
              "      <td>5000.000000</td>\n",
              "      <td>128.000000</td>\n",
              "      <td>6.000000</td>\n",
              "      <td>11.000000</td>\n",
              "    </tr>\n",
              "    <tr>\n",
              "      <th>75%</th>\n",
              "      <td>4.30000</td>\n",
              "      <td>21744.500000</td>\n",
              "      <td>50.000000</td>\n",
              "      <td>5500.000000</td>\n",
              "      <td>128.000000</td>\n",
              "      <td>6.000000</td>\n",
              "      <td>12.000000</td>\n",
              "    </tr>\n",
              "    <tr>\n",
              "      <th>max</th>\n",
              "      <td>4.80000</td>\n",
              "      <td>32000.000000</td>\n",
              "      <td>200.000000</td>\n",
              "      <td>7000.000000</td>\n",
              "      <td>512.000000</td>\n",
              "      <td>12.000000</td>\n",
              "      <td>13.000000</td>\n",
              "    </tr>\n",
              "  </tbody>\n",
              "</table>\n",
              "</div>\n",
              "      <button class=\"colab-df-convert\" onclick=\"convertToInteractive('df-d0eb5ff6-f974-421d-ab64-f0d8e2600374')\"\n",
              "              title=\"Convert this dataframe to an interactive table.\"\n",
              "              style=\"display:none;\">\n",
              "\n",
              "  <svg xmlns=\"http://www.w3.org/2000/svg\" height=\"24px\"viewBox=\"0 0 24 24\"\n",
              "       width=\"24px\">\n",
              "    <path d=\"M0 0h24v24H0V0z\" fill=\"none\"/>\n",
              "    <path d=\"M18.56 5.44l.94 2.06.94-2.06 2.06-.94-2.06-.94-.94-2.06-.94 2.06-2.06.94zm-11 1L8.5 8.5l.94-2.06 2.06-.94-2.06-.94L8.5 2.5l-.94 2.06-2.06.94zm10 10l.94 2.06.94-2.06 2.06-.94-2.06-.94-.94-2.06-.94 2.06-2.06.94z\"/><path d=\"M17.41 7.96l-1.37-1.37c-.4-.4-.92-.59-1.43-.59-.52 0-1.04.2-1.43.59L10.3 9.45l-7.72 7.72c-.78.78-.78 2.05 0 2.83L4 21.41c.39.39.9.59 1.41.59.51 0 1.02-.2 1.41-.59l7.78-7.78 2.81-2.81c.8-.78.8-2.07 0-2.86zM5.41 20L4 18.59l7.72-7.72 1.47 1.35L5.41 20z\"/>\n",
              "  </svg>\n",
              "      </button>\n",
              "\n",
              "\n",
              "\n",
              "    <div id=\"df-f495859c-5f8a-4df8-b51f-1d53b7e59b9a\">\n",
              "      <button class=\"colab-df-quickchart\" onclick=\"quickchart('df-f495859c-5f8a-4df8-b51f-1d53b7e59b9a')\"\n",
              "              title=\"Suggest charts.\"\n",
              "              style=\"display:none;\">\n",
              "\n",
              "<svg xmlns=\"http://www.w3.org/2000/svg\" height=\"24px\"viewBox=\"0 0 24 24\"\n",
              "     width=\"24px\">\n",
              "    <g>\n",
              "        <path d=\"M19 3H5c-1.1 0-2 .9-2 2v14c0 1.1.9 2 2 2h14c1.1 0 2-.9 2-2V5c0-1.1-.9-2-2-2zM9 17H7v-7h2v7zm4 0h-2V7h2v10zm4 0h-2v-4h2v4z\"/>\n",
              "    </g>\n",
              "</svg>\n",
              "      </button>\n",
              "    </div>\n",
              "\n",
              "<style>\n",
              "  .colab-df-quickchart {\n",
              "    background-color: #E8F0FE;\n",
              "    border: none;\n",
              "    border-radius: 50%;\n",
              "    cursor: pointer;\n",
              "    display: none;\n",
              "    fill: #1967D2;\n",
              "    height: 32px;\n",
              "    padding: 0 0 0 0;\n",
              "    width: 32px;\n",
              "  }\n",
              "\n",
              "  .colab-df-quickchart:hover {\n",
              "    background-color: #E2EBFA;\n",
              "    box-shadow: 0px 1px 2px rgba(60, 64, 67, 0.3), 0px 1px 3px 1px rgba(60, 64, 67, 0.15);\n",
              "    fill: #174EA6;\n",
              "  }\n",
              "\n",
              "  [theme=dark] .colab-df-quickchart {\n",
              "    background-color: #3B4455;\n",
              "    fill: #D2E3FC;\n",
              "  }\n",
              "\n",
              "  [theme=dark] .colab-df-quickchart:hover {\n",
              "    background-color: #434B5C;\n",
              "    box-shadow: 0px 1px 3px 1px rgba(0, 0, 0, 0.15);\n",
              "    filter: drop-shadow(0px 1px 2px rgba(0, 0, 0, 0.3));\n",
              "    fill: #FFFFFF;\n",
              "  }\n",
              "</style>\n",
              "\n",
              "    <script>\n",
              "      async function quickchart(key) {\n",
              "        const containerElement = document.querySelector('#' + key);\n",
              "        const charts = await google.colab.kernel.invokeFunction(\n",
              "            'suggestCharts', [key], {});\n",
              "      }\n",
              "    </script>\n",
              "\n",
              "      <script>\n",
              "\n",
              "function displayQuickchartButton(domScope) {\n",
              "  let quickchartButtonEl =\n",
              "    domScope.querySelector('#df-f495859c-5f8a-4df8-b51f-1d53b7e59b9a button.colab-df-quickchart');\n",
              "  quickchartButtonEl.style.display =\n",
              "    google.colab.kernel.accessAllowed ? 'block' : 'none';\n",
              "}\n",
              "\n",
              "        displayQuickchartButton(document);\n",
              "      </script>\n",
              "      <style>\n",
              "    .colab-df-container {\n",
              "      display:flex;\n",
              "      flex-wrap:wrap;\n",
              "      gap: 12px;\n",
              "    }\n",
              "\n",
              "    .colab-df-convert {\n",
              "      background-color: #E8F0FE;\n",
              "      border: none;\n",
              "      border-radius: 50%;\n",
              "      cursor: pointer;\n",
              "      display: none;\n",
              "      fill: #1967D2;\n",
              "      height: 32px;\n",
              "      padding: 0 0 0 0;\n",
              "      width: 32px;\n",
              "    }\n",
              "\n",
              "    .colab-df-convert:hover {\n",
              "      background-color: #E2EBFA;\n",
              "      box-shadow: 0px 1px 2px rgba(60, 64, 67, 0.3), 0px 1px 3px 1px rgba(60, 64, 67, 0.15);\n",
              "      fill: #174EA6;\n",
              "    }\n",
              "\n",
              "    [theme=dark] .colab-df-convert {\n",
              "      background-color: #3B4455;\n",
              "      fill: #D2E3FC;\n",
              "    }\n",
              "\n",
              "    [theme=dark] .colab-df-convert:hover {\n",
              "      background-color: #434B5C;\n",
              "      box-shadow: 0px 1px 3px 1px rgba(0, 0, 0, 0.15);\n",
              "      filter: drop-shadow(0px 1px 2px rgba(0, 0, 0, 0.3));\n",
              "      fill: #FFFFFF;\n",
              "    }\n",
              "  </style>\n",
              "\n",
              "      <script>\n",
              "        const buttonEl =\n",
              "          document.querySelector('#df-d0eb5ff6-f974-421d-ab64-f0d8e2600374 button.colab-df-convert');\n",
              "        buttonEl.style.display =\n",
              "          google.colab.kernel.accessAllowed ? 'block' : 'none';\n",
              "\n",
              "        async function convertToInteractive(key) {\n",
              "          const element = document.querySelector('#df-d0eb5ff6-f974-421d-ab64-f0d8e2600374');\n",
              "          const dataTable =\n",
              "            await google.colab.kernel.invokeFunction('convertToInteractive',\n",
              "                                                     [key], {});\n",
              "          if (!dataTable) return;\n",
              "\n",
              "          const docLinkHtml = 'Like what you see? Visit the ' +\n",
              "            '<a target=\"_blank\" href=https://colab.research.google.com/notebooks/data_table.ipynb>data table notebook</a>'\n",
              "            + ' to learn more about interactive tables.';\n",
              "          element.innerHTML = '';\n",
              "          dataTable['output_type'] = 'display_data';\n",
              "          await google.colab.output.renderOutput(dataTable, element);\n",
              "          const docLink = document.createElement('div');\n",
              "          docLink.innerHTML = docLinkHtml;\n",
              "          element.appendChild(docLink);\n",
              "        }\n",
              "      </script>\n",
              "    </div>\n",
              "  </div>\n"
            ]
          },
          "metadata": {},
          "execution_count": 12
        }
      ]
    },
    {
      "cell_type": "markdown",
      "source": [
        "Info\n",
        "\n",
        "This method prints information about a DataFrame including the index dtype and columns, non-null values and memory usage"
      ],
      "metadata": {
        "id": "UkNUDzGziuHV"
      }
    },
    {
      "cell_type": "code",
      "source": [
        "df.info()"
      ],
      "metadata": {
        "colab": {
          "base_uri": "https://localhost:8080/"
        },
        "id": "pVlvOltIivTX",
        "outputId": "4655bab1-0864-4282-924d-031750244dcc"
      },
      "execution_count": 13,
      "outputs": [
        {
          "output_type": "stream",
          "name": "stdout",
          "text": [
            "<class 'pandas.core.frame.DataFrame'>\n",
            "RangeIndex: 407 entries, 0 to 406\n",
            "Data columns (total 11 columns):\n",
            " #   Column           Non-Null Count  Dtype  \n",
            "---  ------           --------------  -----  \n",
            " 0   name             407 non-null    object \n",
            " 1   ratings          407 non-null    float64\n",
            " 2   price            407 non-null    int64  \n",
            " 3   imgURL           407 non-null    object \n",
            " 4   camera           407 non-null    int64  \n",
            " 5   display          407 non-null    object \n",
            " 6   battery          407 non-null    int64  \n",
            " 7   storage          407 non-null    int64  \n",
            " 8   ram              407 non-null    int64  \n",
            " 9   processor        407 non-null    object \n",
            " 10  android_version  407 non-null    int64  \n",
            "dtypes: float64(1), int64(6), object(4)\n",
            "memory usage: 35.1+ KB\n"
          ]
        }
      ]
    },
    {
      "cell_type": "code",
      "source": [
        "#to get unique values for all columns\n",
        "df.nunique()"
      ],
      "metadata": {
        "colab": {
          "base_uri": "https://localhost:8080/"
        },
        "id": "mN0lV_J0i182",
        "outputId": "7021f675-0aaf-48ba-ad64-1055b2a98be3"
      },
      "execution_count": 14,
      "outputs": [
        {
          "output_type": "execute_result",
          "data": {
            "text/plain": [
              "name               310\n",
              "ratings             14\n",
              "price              187\n",
              "imgURL             260\n",
              "camera              15\n",
              "display              5\n",
              "battery             17\n",
              "storage              9\n",
              "ram                  7\n",
              "processor           23\n",
              "android_version     11\n",
              "dtype: int64"
            ]
          },
          "metadata": {},
          "execution_count": 14
        }
      ]
    },
    {
      "cell_type": "code",
      "source": [
        "#to find diffrent types of phones\n",
        "df['name'].value_counts()"
      ],
      "metadata": {
        "colab": {
          "base_uri": "https://localhost:8080/"
        },
        "id": "iMtwjbP6i7Kt",
        "outputId": "892ac448-d427-4dcd-914d-9933f46b61a9"
      },
      "execution_count": 15,
      "outputs": [
        {
          "output_type": "execute_result",
          "data": {
            "text/plain": [
              "SAMSUNG Galaxy A12 (Blue, 128 GB)                               4\n",
              "SAMSUNG Galaxy M32 5G (Sky Blue, 128 GB)                        4\n",
              "SAMSUNG Galaxy M34 5G without charger (Prism Silver, 128 GB)    3\n",
              "SAMSUNG Galaxy A22 5G (Gray, 128 GB)                            3\n",
              "SAMSUNG Galaxy M32 5G (Slate Black, 128 GB)                     3\n",
              "                                                               ..\n",
              "SAMSUNG Galaxy On Nxt (Black, 64 GB)                            1\n",
              "SAMSUNG Galaxy Z Flip4 5G (Bora Purple, 128 GB)                 1\n",
              "SAMSUNG Galaxy A14 (Black, 128 GB)                              1\n",
              "SAMSUNG Galaxy A14 (Light Green, 128 GB)                        1\n",
              "SAMSUNG Galaxy S22 (Pink Gold, 128 GB)                          1\n",
              "Name: name, Length: 310, dtype: int64"
            ]
          },
          "metadata": {},
          "execution_count": 15
        }
      ]
    },
    {
      "cell_type": "markdown",
      "source": [
        "From above we can see the total number of phones."
      ],
      "metadata": {
        "id": "4uxnwKZPjNxG"
      }
    },
    {
      "cell_type": "code",
      "source": [
        "#to find different types of processors\n",
        "df['processor'].value_counts()"
      ],
      "metadata": {
        "colab": {
          "base_uri": "https://localhost:8080/"
        },
        "id": "B2WzDOMNjCjP",
        "outputId": "cad39928-a90b-47ab-dfe5-290cf5b7bf17"
      },
      "execution_count": 17,
      "outputs": [
        {
          "output_type": "execute_result",
          "data": {
            "text/plain": [
              "not mentioned              274\n",
              "MediaTek                    16\n",
              "Gen8                        14\n",
              "Dimensity1080,              12\n",
              "Dimensity700                 9\n",
              "Snapdragon720GProcessor      8\n",
              "Snapdragon1P                 8\n",
              "Snapdragon750GProcessor      7\n",
              "Heilo80P                     7\n",
              "Heilo356765                  7\n",
              "Snapdragon(SDM450-F01)       7\n",
              "Snapdragon695                5\n",
              "Snapdragon450P               5\n",
              "Dimensity720                 4\n",
              "Snapdragon888                4\n",
              "Heilo35P                     4\n",
              "Snapdragon450                4\n",
              "Snapdragon(SDM439)           4\n",
              "Heilo806769                  2\n",
              "Snapdragon750G               2\n",
              "Snapdragon425P               2\n",
              "Heilo67653512                1\n",
              "Snapdragon410                1\n",
              "Name: processor, dtype: int64"
            ]
          },
          "metadata": {},
          "execution_count": 17
        }
      ]
    },
    {
      "cell_type": "code",
      "source": [
        "#to find different capacity of battery\n",
        "df['battery'].value_counts()"
      ],
      "metadata": {
        "colab": {
          "base_uri": "https://localhost:8080/"
        },
        "id": "NLwSBPiBjj5-",
        "outputId": "6d99d84e-e393-49e2-8acb-102941aae35f"
      },
      "execution_count": 18,
      "outputs": [
        {
          "output_type": "execute_result",
          "data": {
            "text/plain": [
              "5000    192\n",
              "6000     95\n",
              "4000     28\n",
              "4500     26\n",
              "3300     15\n",
              "3700     11\n",
              "3900      8\n",
              "3000      7\n",
              "7000      7\n",
              "4400      4\n",
              "2600      4\n",
              "3500      4\n",
              "4700      2\n",
              "3600      1\n",
              "2000      1\n",
              "1500      1\n",
              "4300      1\n",
              "Name: battery, dtype: int64"
            ]
          },
          "metadata": {},
          "execution_count": 18
        }
      ]
    },
    {
      "cell_type": "code",
      "source": [
        "df['camera'].value_counts()"
      ],
      "metadata": {
        "colab": {
          "base_uri": "https://localhost:8080/"
        },
        "id": "i7O0KnyDj3MO",
        "outputId": "96e2d5be-d904-4c0a-efcf-a2943ad444aa"
      },
      "execution_count": 19,
      "outputs": [
        {
          "output_type": "execute_result",
          "data": {
            "text/plain": [
              "50     112\n",
              "48      98\n",
              "64      64\n",
              "13      63\n",
              "12      15\n",
              "8       14\n",
              "108     10\n",
              "32       8\n",
              "25       7\n",
              "5        5\n",
              "200      3\n",
              "24       3\n",
              "16       3\n",
              "0        1\n",
              "3        1\n",
              "Name: camera, dtype: int64"
            ]
          },
          "metadata": {},
          "execution_count": 19
        }
      ]
    },
    {
      "cell_type": "code",
      "source": [
        "#to find different types of display\n",
        "df['display'].value_counts()"
      ],
      "metadata": {
        "colab": {
          "base_uri": "https://localhost:8080/"
        },
        "id": "ja-pkHLTj9AQ",
        "outputId": "493fd9cc-d3da-4524-cc5f-46d326da7ced"
      },
      "execution_count": 20,
      "outputs": [
        {
          "output_type": "execute_result",
          "data": {
            "text/plain": [
              "other_types    250\n",
              "LCD             70\n",
              "HD+ AMOLED      43\n",
              "AMOLED          39\n",
              "TFT              5\n",
              "Name: display, dtype: int64"
            ]
          },
          "metadata": {},
          "execution_count": 20
        }
      ]
    },
    {
      "cell_type": "code",
      "source": [
        "#to find differentratings of phone\n",
        "df['ratings'].value_counts()"
      ],
      "metadata": {
        "colab": {
          "base_uri": "https://localhost:8080/"
        },
        "id": "3mTzlOLSkL_-",
        "outputId": "b3964257-12e1-449d-b9e5-c835c23a724c"
      },
      "execution_count": 22,
      "outputs": [
        {
          "output_type": "execute_result",
          "data": {
            "text/plain": [
              "4.2    127\n",
              "4.3    105\n",
              "4.1     77\n",
              "4.0     28\n",
              "4.4     26\n",
              "4.5     17\n",
              "3.9      9\n",
              "3.7      7\n",
              "4.6      4\n",
              "3.8      3\n",
              "2.9      1\n",
              "3.6      1\n",
              "4.8      1\n",
              "3.1      1\n",
              "Name: ratings, dtype: int64"
            ]
          },
          "metadata": {},
          "execution_count": 22
        }
      ]
    },
    {
      "cell_type": "code",
      "source": [
        "#to find ram\n",
        "df['ram'].value_counts()"
      ],
      "metadata": {
        "colab": {
          "base_uri": "https://localhost:8080/"
        },
        "id": "nOX6l8w4kaDu",
        "outputId": "0ffe19ed-96a5-45ed-fbf9-5b61ef312d79"
      },
      "execution_count": 23,
      "outputs": [
        {
          "output_type": "execute_result",
          "data": {
            "text/plain": [
              "6     128\n",
              "4     124\n",
              "8      84\n",
              "3      34\n",
              "2      18\n",
              "12     13\n",
              "1       6\n",
              "Name: ram, dtype: int64"
            ]
          },
          "metadata": {},
          "execution_count": 23
        }
      ]
    },
    {
      "cell_type": "markdown",
      "source": [
        "Duplicate Values"
      ],
      "metadata": {
        "id": "6aWdjq0qkp1m"
      }
    },
    {
      "cell_type": "code",
      "source": [
        "# Dataset Duplicate Value Count\n",
        "df.duplicated().sum()"
      ],
      "metadata": {
        "colab": {
          "base_uri": "https://localhost:8080/"
        },
        "id": "-ijyeLMdkrIm",
        "outputId": "40cfbb88-7bbb-4f3d-d441-fd2130b20ab0"
      },
      "execution_count": 24,
      "outputs": [
        {
          "output_type": "execute_result",
          "data": {
            "text/plain": [
              "0"
            ]
          },
          "metadata": {},
          "execution_count": 24
        }
      ]
    },
    {
      "cell_type": "code",
      "source": [
        "df.shape"
      ],
      "metadata": {
        "colab": {
          "base_uri": "https://localhost:8080/"
        },
        "id": "5HxjU4oZkw8u",
        "outputId": "2d11411d-b843-4abf-b971-542eec465527"
      },
      "execution_count": 26,
      "outputs": [
        {
          "output_type": "execute_result",
          "data": {
            "text/plain": [
              "(407, 11)"
            ]
          },
          "metadata": {},
          "execution_count": 26
        }
      ]
    },
    {
      "cell_type": "code",
      "source": [
        "#to check if the null value is present or not in the dataframe\n",
        "df.isnull().values.any()"
      ],
      "metadata": {
        "colab": {
          "base_uri": "https://localhost:8080/"
        },
        "id": "pV9fRyngk10D",
        "outputId": "59a4d38b-5c5a-4612-f581-97c459acfc21"
      },
      "execution_count": 27,
      "outputs": [
        {
          "output_type": "execute_result",
          "data": {
            "text/plain": [
              "False"
            ]
          },
          "metadata": {},
          "execution_count": 27
        }
      ]
    },
    {
      "cell_type": "markdown",
      "source": [
        "False shows that the null values are not present in the data set"
      ],
      "metadata": {
        "id": "hGFCcJgwk9EO"
      }
    },
    {
      "cell_type": "code",
      "source": [
        "#to check the columns that have null values\n",
        "df.isnull().sum()"
      ],
      "metadata": {
        "colab": {
          "base_uri": "https://localhost:8080/"
        },
        "id": "WY7ih1qNk5oe",
        "outputId": "baab9fa6-5858-4adf-a615-8fad2968c4fb"
      },
      "execution_count": 28,
      "outputs": [
        {
          "output_type": "execute_result",
          "data": {
            "text/plain": [
              "name               0\n",
              "ratings            0\n",
              "price              0\n",
              "imgURL             0\n",
              "camera             0\n",
              "display            0\n",
              "battery            0\n",
              "storage            0\n",
              "ram                0\n",
              "processor          0\n",
              "android_version    0\n",
              "dtype: int64"
            ]
          },
          "metadata": {},
          "execution_count": 28
        }
      ]
    },
    {
      "cell_type": "code",
      "source": [
        "# Visualizing the missing values using Seaborn heatmap\n",
        "plt.figure(figsize=(20,8))\n",
        "sns.heatmap(df.isna().transpose(),\n",
        "            cmap=\"YlGnBu\",\n",
        "            cbar_kws={'label': 'Missing Data'})\n",
        "plt.title('Missing Values', fontsize=18)\n",
        "plt.show()"
      ],
      "metadata": {
        "colab": {
          "base_uri": "https://localhost:8080/",
          "height": 647
        },
        "id": "8sli2MqOlFvA",
        "outputId": "8d573046-aced-4867-af2a-195c77ffc065"
      },
      "execution_count": 29,
      "outputs": [
        {
          "output_type": "display_data",
          "data": {
            "text/plain": [
              "<Figure size 2000x800 with 2 Axes>"
            ],
            "image/png": "[encoded data removed]"
          },
          "metadata": {}
        }
      ]
    },
    {
      "cell_type": "markdown",
      "source": [
        "eal with missing data\n",
        "\n",
        "drop data\n",
        "\n",
        "a. drop the whole row\n",
        "\n",
        "b. drop the whole column\n",
        "\n",
        "replace data\n",
        "\n",
        "a. replace it by mean\n",
        "\n",
        "b. replace it by frequency\n",
        "\n",
        "Whole columns should be dropped only if most entries in the column are empty."
      ],
      "metadata": {
        "id": "p_IhVXZ2lRAu"
      }
    },
    {
      "cell_type": "code",
      "source": [
        "df.shape"
      ],
      "metadata": {
        "colab": {
          "base_uri": "https://localhost:8080/"
        },
        "id": "JZZWpMSDlSUH",
        "outputId": "e8750ff5-e0c3-40b4-f0b8-539027c3925f"
      },
      "execution_count": 31,
      "outputs": [
        {
          "output_type": "execute_result",
          "data": {
            "text/plain": [
              "(407, 11)"
            ]
          },
          "metadata": {},
          "execution_count": 31
        }
      ]
    },
    {
      "cell_type": "code",
      "source": [
        "#replacing null values with 0\n",
        "df.fillna(0,inplace=True)\n",
        "df.isnull().sum()"
      ],
      "metadata": {
        "colab": {
          "base_uri": "https://localhost:8080/"
        },
        "id": "aUVaOX9Elb7j",
        "outputId": "41bfe62c-c62b-4d44-fe59-88bee34ed7c7"
      },
      "execution_count": 32,
      "outputs": [
        {
          "output_type": "execute_result",
          "data": {
            "text/plain": [
              "name               0\n",
              "ratings            0\n",
              "price              0\n",
              "imgURL             0\n",
              "camera             0\n",
              "display            0\n",
              "battery            0\n",
              "storage            0\n",
              "ram                0\n",
              "processor          0\n",
              "android_version    0\n",
              "dtype: int64"
            ]
          },
          "metadata": {},
          "execution_count": 32
        }
      ]
    },
    {
      "cell_type": "markdown",
      "source": [
        "Here, we have replaced all the null values with 0. So, we do not have any null value in our data set"
      ],
      "metadata": {
        "id": "W_UOdGMnlkFo"
      }
    },
    {
      "cell_type": "code",
      "source": [
        "df['battery'].replace(\"Undefined\",\"SC\",inplace=True)"
      ],
      "metadata": {
        "id": "NXyfplphlg1_"
      },
      "execution_count": 35,
      "outputs": []
    },
    {
      "cell_type": "code",
      "source": [
        "df['battery'].unique()"
      ],
      "metadata": {
        "colab": {
          "base_uri": "https://localhost:8080/"
        },
        "id": "C-hQCAddmABH",
        "outputId": "e5407eb3-4ee5-4f47-a232-fa9720249bcf"
      },
      "execution_count": 36,
      "outputs": [
        {
          "output_type": "execute_result",
          "data": {
            "text/plain": [
              "array([6000, 5000, 4500, 4700, 3700, 7000, 3900, 4000, 3000, 3300, 4400,\n",
              "       2600, 3500, 3600, 2000, 1500, 4300])"
            ]
          },
          "metadata": {},
          "execution_count": 36
        }
      ]
    },
    {
      "cell_type": "code",
      "source": [
        "subset=df[(df['battery']==0) & (df['display']==0) & (df['ram']==0)]"
      ],
      "metadata": {
        "id": "xrSla3D9mAWb"
      },
      "execution_count": 37,
      "outputs": []
    },
    {
      "cell_type": "code",
      "source": [
        "subset[['battery','display','ram']]"
      ],
      "metadata": {
        "colab": {
          "base_uri": "https://localhost:8080/",
          "height": 49
        },
        "id": "x9sBhlhkmTS5",
        "outputId": "2d232ad0-fed4-40c1-f927-c58593527ee6"
      },
      "execution_count": 38,
      "outputs": [
        {
          "output_type": "execute_result",
          "data": {
            "text/plain": [
              "Empty DataFrame\n",
              "Columns: [battery, display, ram]\n",
              "Index: []"
            ],
            "text/html": [
              "\n",
              "\n",
              "  <div id=\"df-85f2f03d-1b7f-47ac-b0b4-f5fe863776b0\">\n",
              "    <div class=\"colab-df-container\">\n",
              "      <div>\n",
              "<style scoped>\n",
              "    .dataframe tbody tr th:only-of-type {\n",
              "        vertical-align: middle;\n",
              "    }\n",
              "\n",
              "    .dataframe tbody tr th {\n",
              "        vertical-align: top;\n",
              "    }\n",
              "\n",
              "    .dataframe thead th {\n",
              "        text-align: right;\n",
              "    }\n",
              "</style>\n",
              "<table border=\"1\" class=\"dataframe\">\n",
              "  <thead>\n",
              "    <tr style=\"text-align: right;\">\n",
              "      <th></th>\n",
              "      <th>battery</th>\n",
              "      <th>display</th>\n",
              "      <th>ram</th>\n",
              "    </tr>\n",
              "  </thead>\n",
              "  <tbody>\n",
              "  </tbody>\n",
              "</table>\n",
              "</div>\n",
              "      <button class=\"colab-df-convert\" onclick=\"convertToInteractive('df-85f2f03d-1b7f-47ac-b0b4-f5fe863776b0')\"\n",
              "              title=\"Convert this dataframe to an interactive table.\"\n",
              "              style=\"display:none;\">\n",
              "\n",
              "  <svg xmlns=\"http://www.w3.org/2000/svg\" height=\"24px\"viewBox=\"0 0 24 24\"\n",
              "       width=\"24px\">\n",
              "    <path d=\"M0 0h24v24H0V0z\" fill=\"none\"/>\n",
              "    <path d=\"M18.56 5.44l.94 2.06.94-2.06 2.06-.94-2.06-.94-.94-2.06-.94 2.06-2.06.94zm-11 1L8.5 8.5l.94-2.06 2.06-.94-2.06-.94L8.5 2.5l-.94 2.06-2.06.94zm10 10l.94 2.06.94-2.06 2.06-.94-2.06-.94-.94-2.06-.94 2.06-2.06.94z\"/><path d=\"M17.41 7.96l-1.37-1.37c-.4-.4-.92-.59-1.43-.59-.52 0-1.04.2-1.43.59L10.3 9.45l-7.72 7.72c-.78.78-.78 2.05 0 2.83L4 21.41c.39.39.9.59 1.41.59.51 0 1.02-.2 1.41-.59l7.78-7.78 2.81-2.81c.8-.78.8-2.07 0-2.86zM5.41 20L4 18.59l7.72-7.72 1.47 1.35L5.41 20z\"/>\n",
              "  </svg>\n",
              "      </button>\n",
              "\n",
              "\n",
              "\n",
              "    <div id=\"df-e8af038b-d636-4063-b67b-c1bb497e0ae1\">\n",
              "      <button class=\"colab-df-quickchart\" onclick=\"quickchart('df-e8af038b-d636-4063-b67b-c1bb497e0ae1')\"\n",
              "              title=\"Suggest charts.\"\n",
              "              style=\"display:none;\">\n",
              "\n",
              "<svg xmlns=\"http://www.w3.org/2000/svg\" height=\"24px\"viewBox=\"0 0 24 24\"\n",
              "     width=\"24px\">\n",
              "    <g>\n",
              "        <path d=\"M19 3H5c-1.1 0-2 .9-2 2v14c0 1.1.9 2 2 2h14c1.1 0 2-.9 2-2V5c0-1.1-.9-2-2-2zM9 17H7v-7h2v7zm4 0h-2V7h2v10zm4 0h-2v-4h2v4z\"/>\n",
              "    </g>\n",
              "</svg>\n",
              "      </button>\n",
              "    </div>\n",
              "\n",
              "<style>\n",
              "  .colab-df-quickchart {\n",
              "    background-color: #E8F0FE;\n",
              "    border: none;\n",
              "    border-radius: 50%;\n",
              "    cursor: pointer;\n",
              "    display: none;\n",
              "    fill: #1967D2;\n",
              "    height: 32px;\n",
              "    padding: 0 0 0 0;\n",
              "    width: 32px;\n",
              "  }\n",
              "\n",
              "  .colab-df-quickchart:hover {\n",
              "    background-color: #E2EBFA;\n",
              "    box-shadow: 0px 1px 2px rgba(60, 64, 67, 0.3), 0px 1px 3px 1px rgba(60, 64, 67, 0.15);\n",
              "    fill: #174EA6;\n",
              "  }\n",
              "\n",
              "  [theme=dark] .colab-df-quickchart {\n",
              "    background-color: #3B4455;\n",
              "    fill: #D2E3FC;\n",
              "  }\n",
              "\n",
              "  [theme=dark] .colab-df-quickchart:hover {\n",
              "    background-color: #434B5C;\n",
              "    box-shadow: 0px 1px 3px 1px rgba(0, 0, 0, 0.15);\n",
              "    filter: drop-shadow(0px 1px 2px rgba(0, 0, 0, 0.3));\n",
              "    fill: #FFFFFF;\n",
              "  }\n",
              "</style>\n",
              "\n",
              "    <script>\n",
              "      async function quickchart(key) {\n",
              "        const containerElement = document.querySelector('#' + key);\n",
              "        const charts = await google.colab.kernel.invokeFunction(\n",
              "            'suggestCharts', [key], {});\n",
              "      }\n",
              "    </script>\n",
              "\n",
              "      <script>\n",
              "\n",
              "function displayQuickchartButton(domScope) {\n",
              "  let quickchartButtonEl =\n",
              "    domScope.querySelector('#df-e8af038b-d636-4063-b67b-c1bb497e0ae1 button.colab-df-quickchart');\n",
              "  quickchartButtonEl.style.display =\n",
              "    google.colab.kernel.accessAllowed ? 'block' : 'none';\n",
              "}\n",
              "\n",
              "        displayQuickchartButton(document);\n",
              "      </script>\n",
              "      <style>\n",
              "    .colab-df-container {\n",
              "      display:flex;\n",
              "      flex-wrap:wrap;\n",
              "      gap: 12px;\n",
              "    }\n",
              "\n",
              "    .colab-df-convert {\n",
              "      background-color: #E8F0FE;\n",
              "      border: none;\n",
              "      border-radius: 50%;\n",
              "      cursor: pointer;\n",
              "      display: none;\n",
              "      fill: #1967D2;\n",
              "      height: 32px;\n",
              "      padding: 0 0 0 0;\n",
              "      width: 32px;\n",
              "    }\n",
              "\n",
              "    .colab-df-convert:hover {\n",
              "      background-color: #E2EBFA;\n",
              "      box-shadow: 0px 1px 2px rgba(60, 64, 67, 0.3), 0px 1px 3px 1px rgba(60, 64, 67, 0.15);\n",
              "      fill: #174EA6;\n",
              "    }\n",
              "\n",
              "    [theme=dark] .colab-df-convert {\n",
              "      background-color: #3B4455;\n",
              "      fill: #D2E3FC;\n",
              "    }\n",
              "\n",
              "    [theme=dark] .colab-df-convert:hover {\n",
              "      background-color: #434B5C;\n",
              "      box-shadow: 0px 1px 3px 1px rgba(0, 0, 0, 0.15);\n",
              "      filter: drop-shadow(0px 1px 2px rgba(0, 0, 0, 0.3));\n",
              "      fill: #FFFFFF;\n",
              "    }\n",
              "  </style>\n",
              "\n",
              "      <script>\n",
              "        const buttonEl =\n",
              "          document.querySelector('#df-85f2f03d-1b7f-47ac-b0b4-f5fe863776b0 button.colab-df-convert');\n",
              "        buttonEl.style.display =\n",
              "          google.colab.kernel.accessAllowed ? 'block' : 'none';\n",
              "\n",
              "        async function convertToInteractive(key) {\n",
              "          const element = document.querySelector('#df-85f2f03d-1b7f-47ac-b0b4-f5fe863776b0');\n",
              "          const dataTable =\n",
              "            await google.colab.kernel.invokeFunction('convertToInteractive',\n",
              "                                                     [key], {});\n",
              "          if (!dataTable) return;\n",
              "\n",
              "          const docLinkHtml = 'Like what you see? Visit the ' +\n",
              "            '<a target=\"_blank\" href=https://colab.research.google.com/notebooks/data_table.ipynb>data table notebook</a>'\n",
              "            + ' to learn more about interactive tables.';\n",
              "          element.innerHTML = '';\n",
              "          dataTable['output_type'] = 'display_data';\n",
              "          await google.colab.output.renderOutput(dataTable, element);\n",
              "          const docLink = document.createElement('div');\n",
              "          docLink.innerHTML = docLinkHtml;\n",
              "          element.appendChild(docLink);\n",
              "        }\n",
              "      </script>\n",
              "    </div>\n",
              "  </div>\n"
            ]
          },
          "metadata": {},
          "execution_count": 38
        }
      ]
    },
    {
      "cell_type": "code",
      "source": [
        "type(subset)"
      ],
      "metadata": {
        "colab": {
          "base_uri": "https://localhost:8080/"
        },
        "id": "JCAwim8-me1Z",
        "outputId": "52231dd6-f3f0-475b-81e2-e62d0a0fbf16"
      },
      "execution_count": 39,
      "outputs": [
        {
          "output_type": "execute_result",
          "data": {
            "text/plain": [
              "pandas.core.frame.DataFrame"
            ]
          },
          "metadata": {},
          "execution_count": 39
        }
      ]
    },
    {
      "cell_type": "code",
      "source": [
        "delete=(df['battery']==0) & (df['display']==0) & (df['ram']==0)"
      ],
      "metadata": {
        "id": "lEMonxv7mnEI"
      },
      "execution_count": 41,
      "outputs": []
    },
    {
      "cell_type": "code",
      "source": [
        "type(delete)"
      ],
      "metadata": {
        "colab": {
          "base_uri": "https://localhost:8080/"
        },
        "id": "0rIdYPajmilX",
        "outputId": "7b491380-321b-4adc-a5be-b63a42be9623"
      },
      "execution_count": 42,
      "outputs": [
        {
          "output_type": "execute_result",
          "data": {
            "text/plain": [
              "pandas.core.series.Series"
            ]
          },
          "metadata": {},
          "execution_count": 42
        }
      ]
    },
    {
      "cell_type": "code",
      "source": [
        "delete"
      ],
      "metadata": {
        "colab": {
          "base_uri": "https://localhost:8080/"
        },
        "id": "J-VI_VUEmxFS",
        "outputId": "82708e44-0246-488d-ddef-c30f4cbbd90a"
      },
      "execution_count": 43,
      "outputs": [
        {
          "output_type": "execute_result",
          "data": {
            "text/plain": [
              "0      False\n",
              "1      False\n",
              "2      False\n",
              "3      False\n",
              "4      False\n",
              "       ...  \n",
              "402    False\n",
              "403    False\n",
              "404    False\n",
              "405    False\n",
              "406    False\n",
              "Length: 407, dtype: bool"
            ]
          },
          "metadata": {},
          "execution_count": 43
        }
      ]
    },
    {
      "cell_type": "code",
      "source": [
        "data=df[~delete]"
      ],
      "metadata": {
        "id": "fPz7D4TxmyeA"
      },
      "execution_count": 44,
      "outputs": []
    },
    {
      "cell_type": "code",
      "source": [
        "data.head()"
      ],
      "metadata": {
        "colab": {
          "base_uri": "https://localhost:8080/",
          "height": 285
        },
        "id": "BQcDlLM2m1SX",
        "outputId": "b0821382-d3e2-422a-c822-6e5ee6a27eca"
      },
      "execution_count": 45,
      "outputs": [
        {
          "output_type": "execute_result",
          "data": {
            "text/plain": [
              "                                          name  ratings  price  \\\n",
              "0   SAMSUNG Galaxy F13 (Sunrise Copper, 64 GB)      4.3   9499   \n",
              "1  SAMSUNG Galaxy F13 (Waterfall Blue, 128 GB)      4.3  10499   \n",
              "2  SAMSUNG Galaxy F13 (Nightsky Green, 128 GB)      4.3  10499   \n",
              "3  SAMSUNG Galaxy F13 (Sunrise Copper, 128 GB)      4.3  10499   \n",
              "4    SAMSUNG Galaxy F23 5G (Aqua Blue, 128 GB)      4.3  15499   \n",
              "\n",
              "                                              imgURL  camera      display  \\\n",
              "0  https://rukminim2.flixcart.com/image/312/312/x...      50  other_types   \n",
              "1  https://rukminim2.flixcart.com/image/312/312/x...      50  other_types   \n",
              "2  https://rukminim2.flixcart.com/image/312/312/x...      50  other_types   \n",
              "3  https://rukminim2.flixcart.com/image/312/312/x...      50  other_types   \n",
              "4  https://rukminim2.flixcart.com/image/312/312/x...      50  other_types   \n",
              "\n",
              "   battery  storage  ram                processor  android_version  \n",
              "0     6000       64    4            not mentioned               12  \n",
              "1     6000      128    4            not mentioned               12  \n",
              "2     6000      128    4            not mentioned               12  \n",
              "3     6000      128    4            not mentioned               12  \n",
              "4     5000      128    6  Snapdragon750GProcessor               12  "
            ],
            "text/html": [
              "\n",
              "\n",
              "  <div id=\"df-cd59a994-3259-44fe-a203-263160017961\">\n",
              "    <div class=\"colab-df-container\">\n",
              "      <div>\n",
              "<style scoped>\n",
              "    .dataframe tbody tr th:only-of-type {\n",
              "        vertical-align: middle;\n",
              "    }\n",
              "\n",
              "    .dataframe tbody tr th {\n",
              "        vertical-align: top;\n",
              "    }\n",
              "\n",
              "    .dataframe thead th {\n",
              "        text-align: right;\n",
              "    }\n",
              "</style>\n",
              "<table border=\"1\" class=\"dataframe\">\n",
              "  <thead>\n",
              "    <tr style=\"text-align: right;\">\n",
              "      <th></th>\n",
              "      <th>name</th>\n",
              "      <th>ratings</th>\n",
              "      <th>price</th>\n",
              "      <th>imgURL</th>\n",
              "      <th>camera</th>\n",
              "      <th>display</th>\n",
              "      <th>battery</th>\n",
              "      <th>storage</th>\n",
              "      <th>ram</th>\n",
              "      <th>processor</th>\n",
              "      <th>android_version</th>\n",
              "    </tr>\n",
              "  </thead>\n",
              "  <tbody>\n",
              "    <tr>\n",
              "      <th>0</th>\n",
              "      <td>SAMSUNG Galaxy F13 (Sunrise Copper, 64 GB)</td>\n",
              "      <td>4.3</td>\n",
              "      <td>9499</td>\n",
              "      <td>https://rukminim2.flixcart.com/image/312/312/x...</td>\n",
              "      <td>50</td>\n",
              "      <td>other_types</td>\n",
              "      <td>6000</td>\n",
              "      <td>64</td>\n",
              "      <td>4</td>\n",
              "      <td>not mentioned</td>\n",
              "      <td>12</td>\n",
              "    </tr>\n",
              "    <tr>\n",
              "      <th>1</th>\n",
              "      <td>SAMSUNG Galaxy F13 (Waterfall Blue, 128 GB)</td>\n",
              "      <td>4.3</td>\n",
              "      <td>10499</td>\n",
              "      <td>https://rukminim2.flixcart.com/image/312/312/x...</td>\n",
              "      <td>50</td>\n",
              "      <td>other_types</td>\n",
              "      <td>6000</td>\n",
              "      <td>128</td>\n",
              "      <td>4</td>\n",
              "      <td>not mentioned</td>\n",
              "      <td>12</td>\n",
              "    </tr>\n",
              "    <tr>\n",
              "      <th>2</th>\n",
              "      <td>SAMSUNG Galaxy F13 (Nightsky Green, 128 GB)</td>\n",
              "      <td>4.3</td>\n",
              "      <td>10499</td>\n",
              "      <td>https://rukminim2.flixcart.com/image/312/312/x...</td>\n",
              "      <td>50</td>\n",
              "      <td>other_types</td>\n",
              "      <td>6000</td>\n",
              "      <td>128</td>\n",
              "      <td>4</td>\n",
              "      <td>not mentioned</td>\n",
              "      <td>12</td>\n",
              "    </tr>\n",
              "    <tr>\n",
              "      <th>3</th>\n",
              "      <td>SAMSUNG Galaxy F13 (Sunrise Copper, 128 GB)</td>\n",
              "      <td>4.3</td>\n",
              "      <td>10499</td>\n",
              "      <td>https://rukminim2.flixcart.com/image/312/312/x...</td>\n",
              "      <td>50</td>\n",
              "      <td>other_types</td>\n",
              "      <td>6000</td>\n",
              "      <td>128</td>\n",
              "      <td>4</td>\n",
              "      <td>not mentioned</td>\n",
              "      <td>12</td>\n",
              "    </tr>\n",
              "    <tr>\n",
              "      <th>4</th>\n",
              "      <td>SAMSUNG Galaxy F23 5G (Aqua Blue, 128 GB)</td>\n",
              "      <td>4.3</td>\n",
              "      <td>15499</td>\n",
              "      <td>https://rukminim2.flixcart.com/image/312/312/x...</td>\n",
              "      <td>50</td>\n",
              "      <td>other_types</td>\n",
              "      <td>5000</td>\n",
              "      <td>128</td>\n",
              "      <td>6</td>\n",
              "      <td>Snapdragon750GProcessor</td>\n",
              "      <td>12</td>\n",
              "    </tr>\n",
              "  </tbody>\n",
              "</table>\n",
              "</div>\n",
              "      <button class=\"colab-df-convert\" onclick=\"convertToInteractive('df-cd59a994-3259-44fe-a203-263160017961')\"\n",
              "              title=\"Convert this dataframe to an interactive table.\"\n",
              "              style=\"display:none;\">\n",
              "\n",
              "  <svg xmlns=\"http://www.w3.org/2000/svg\" height=\"24px\"viewBox=\"0 0 24 24\"\n",
              "       width=\"24px\">\n",
              "    <path d=\"M0 0h24v24H0V0z\" fill=\"none\"/>\n",
              "    <path d=\"M18.56 5.44l.94 2.06.94-2.06 2.06-.94-2.06-.94-.94-2.06-.94 2.06-2.06.94zm-11 1L8.5 8.5l.94-2.06 2.06-.94-2.06-.94L8.5 2.5l-.94 2.06-2.06.94zm10 10l.94 2.06.94-2.06 2.06-.94-2.06-.94-.94-2.06-.94 2.06-2.06.94z\"/><path d=\"M17.41 7.96l-1.37-1.37c-.4-.4-.92-.59-1.43-.59-.52 0-1.04.2-1.43.59L10.3 9.45l-7.72 7.72c-.78.78-.78 2.05 0 2.83L4 21.41c.39.39.9.59 1.41.59.51 0 1.02-.2 1.41-.59l7.78-7.78 2.81-2.81c.8-.78.8-2.07 0-2.86zM5.41 20L4 18.59l7.72-7.72 1.47 1.35L5.41 20z\"/>\n",
              "  </svg>\n",
              "      </button>\n",
              "\n",
              "\n",
              "\n",
              "    <div id=\"df-eb78c3f7-31b7-49eb-9b4d-8bd9317861f1\">\n",
              "      <button class=\"colab-df-quickchart\" onclick=\"quickchart('df-eb78c3f7-31b7-49eb-9b4d-8bd9317861f1')\"\n",
              "              title=\"Suggest charts.\"\n",
              "              style=\"display:none;\">\n",
              "\n",
              "<svg xmlns=\"http://www.w3.org/2000/svg\" height=\"24px\"viewBox=\"0 0 24 24\"\n",
              "     width=\"24px\">\n",
              "    <g>\n",
              "        <path d=\"M19 3H5c-1.1 0-2 .9-2 2v14c0 1.1.9 2 2 2h14c1.1 0 2-.9 2-2V5c0-1.1-.9-2-2-2zM9 17H7v-7h2v7zm4 0h-2V7h2v10zm4 0h-2v-4h2v4z\"/>\n",
              "    </g>\n",
              "</svg>\n",
              "      </button>\n",
              "    </div>\n",
              "\n",
              "<style>\n",
              "  .colab-df-quickchart {\n",
              "    background-color: #E8F0FE;\n",
              "    border: none;\n",
              "    border-radius: 50%;\n",
              "    cursor: pointer;\n",
              "    display: none;\n",
              "    fill: #1967D2;\n",
              "    height: 32px;\n",
              "    padding: 0 0 0 0;\n",
              "    width: 32px;\n",
              "  }\n",
              "\n",
              "  .colab-df-quickchart:hover {\n",
              "    background-color: #E2EBFA;\n",
              "    box-shadow: 0px 1px 2px rgba(60, 64, 67, 0.3), 0px 1px 3px 1px rgba(60, 64, 67, 0.15);\n",
              "    fill: #174EA6;\n",
              "  }\n",
              "\n",
              "  [theme=dark] .colab-df-quickchart {\n",
              "    background-color: #3B4455;\n",
              "    fill: #D2E3FC;\n",
              "  }\n",
              "\n",
              "  [theme=dark] .colab-df-quickchart:hover {\n",
              "    background-color: #434B5C;\n",
              "    box-shadow: 0px 1px 3px 1px rgba(0, 0, 0, 0.15);\n",
              "    filter: drop-shadow(0px 1px 2px rgba(0, 0, 0, 0.3));\n",
              "    fill: #FFFFFF;\n",
              "  }\n",
              "</style>\n",
              "\n",
              "    <script>\n",
              "      async function quickchart(key) {\n",
              "        const containerElement = document.querySelector('#' + key);\n",
              "        const charts = await google.colab.kernel.invokeFunction(\n",
              "            'suggestCharts', [key], {});\n",
              "      }\n",
              "    </script>\n",
              "\n",
              "      <script>\n",
              "\n",
              "function displayQuickchartButton(domScope) {\n",
              "  let quickchartButtonEl =\n",
              "    domScope.querySelector('#df-eb78c3f7-31b7-49eb-9b4d-8bd9317861f1 button.colab-df-quickchart');\n",
              "  quickchartButtonEl.style.display =\n",
              "    google.colab.kernel.accessAllowed ? 'block' : 'none';\n",
              "}\n",
              "\n",
              "        displayQuickchartButton(document);\n",
              "      </script>\n",
              "      <style>\n",
              "    .colab-df-container {\n",
              "      display:flex;\n",
              "      flex-wrap:wrap;\n",
              "      gap: 12px;\n",
              "    }\n",
              "\n",
              "    .colab-df-convert {\n",
              "      background-color: #E8F0FE;\n",
              "      border: none;\n",
              "      border-radius: 50%;\n",
              "      cursor: pointer;\n",
              "      display: none;\n",
              "      fill: #1967D2;\n",
              "      height: 32px;\n",
              "      padding: 0 0 0 0;\n",
              "      width: 32px;\n",
              "    }\n",
              "\n",
              "    .colab-df-convert:hover {\n",
              "      background-color: #E2EBFA;\n",
              "      box-shadow: 0px 1px 2px rgba(60, 64, 67, 0.3), 0px 1px 3px 1px rgba(60, 64, 67, 0.15);\n",
              "      fill: #174EA6;\n",
              "    }\n",
              "\n",
              "    [theme=dark] .colab-df-convert {\n",
              "      background-color: #3B4455;\n",
              "      fill: #D2E3FC;\n",
              "    }\n",
              "\n",
              "    [theme=dark] .colab-df-convert:hover {\n",
              "      background-color: #434B5C;\n",
              "      box-shadow: 0px 1px 3px 1px rgba(0, 0, 0, 0.15);\n",
              "      filter: drop-shadow(0px 1px 2px rgba(0, 0, 0, 0.3));\n",
              "      fill: #FFFFFF;\n",
              "    }\n",
              "  </style>\n",
              "\n",
              "      <script>\n",
              "        const buttonEl =\n",
              "          document.querySelector('#df-cd59a994-3259-44fe-a203-263160017961 button.colab-df-convert');\n",
              "        buttonEl.style.display =\n",
              "          google.colab.kernel.accessAllowed ? 'block' : 'none';\n",
              "\n",
              "        async function convertToInteractive(key) {\n",
              "          const element = document.querySelector('#df-cd59a994-3259-44fe-a203-263160017961');\n",
              "          const dataTable =\n",
              "            await google.colab.kernel.invokeFunction('convertToInteractive',\n",
              "                                                     [key], {});\n",
              "          if (!dataTable) return;\n",
              "\n",
              "          const docLinkHtml = 'Like what you see? Visit the ' +\n",
              "            '<a target=\"_blank\" href=https://colab.research.google.com/notebooks/data_table.ipynb>data table notebook</a>'\n",
              "            + ' to learn more about interactive tables.';\n",
              "          element.innerHTML = '';\n",
              "          dataTable['output_type'] = 'display_data';\n",
              "          await google.colab.output.renderOutput(dataTable, element);\n",
              "          const docLink = document.createElement('div');\n",
              "          docLink.innerHTML = docLinkHtml;\n",
              "          element.appendChild(docLink);\n",
              "        }\n",
              "      </script>\n",
              "    </div>\n",
              "  </div>\n"
            ]
          },
          "metadata": {},
          "execution_count": 45
        }
      ]
    },
    {
      "cell_type": "code",
      "source": [
        "data.shape"
      ],
      "metadata": {
        "colab": {
          "base_uri": "https://localhost:8080/"
        },
        "id": "y9gNAAP6m3_Y",
        "outputId": "985fe8ad-b434-456d-b5e4-5e1bafc3d8c8"
      },
      "execution_count": 46,
      "outputs": [
        {
          "output_type": "execute_result",
          "data": {
            "text/plain": [
              "(407, 11)"
            ]
          },
          "metadata": {},
          "execution_count": 46
        }
      ]
    },
    {
      "cell_type": "code",
      "source": [
        "subset"
      ],
      "metadata": {
        "colab": {
          "base_uri": "https://localhost:8080/",
          "height": 49
        },
        "id": "eoTYgUDTm7HI",
        "outputId": "90e23988-be02-47aa-a0f5-ec395a401154"
      },
      "execution_count": 47,
      "outputs": [
        {
          "output_type": "execute_result",
          "data": {
            "text/plain": [
              "Empty DataFrame\n",
              "Columns: [name, ratings, price, imgURL, camera, display, battery, storage, ram, processor, android_version]\n",
              "Index: []"
            ],
            "text/html": [
              "\n",
              "\n",
              "  <div id=\"df-22bf0bc1-bec2-4b17-9525-a34fa5a3c4f3\">\n",
              "    <div class=\"colab-df-container\">\n",
              "      <div>\n",
              "<style scoped>\n",
              "    .dataframe tbody tr th:only-of-type {\n",
              "        vertical-align: middle;\n",
              "    }\n",
              "\n",
              "    .dataframe tbody tr th {\n",
              "        vertical-align: top;\n",
              "    }\n",
              "\n",
              "    .dataframe thead th {\n",
              "        text-align: right;\n",
              "    }\n",
              "</style>\n",
              "<table border=\"1\" class=\"dataframe\">\n",
              "  <thead>\n",
              "    <tr style=\"text-align: right;\">\n",
              "      <th></th>\n",
              "      <th>name</th>\n",
              "      <th>ratings</th>\n",
              "      <th>price</th>\n",
              "      <th>imgURL</th>\n",
              "      <th>camera</th>\n",
              "      <th>display</th>\n",
              "      <th>battery</th>\n",
              "      <th>storage</th>\n",
              "      <th>ram</th>\n",
              "      <th>processor</th>\n",
              "      <th>android_version</th>\n",
              "    </tr>\n",
              "  </thead>\n",
              "  <tbody>\n",
              "  </tbody>\n",
              "</table>\n",
              "</div>\n",
              "      <button class=\"colab-df-convert\" onclick=\"convertToInteractive('df-22bf0bc1-bec2-4b17-9525-a34fa5a3c4f3')\"\n",
              "              title=\"Convert this dataframe to an interactive table.\"\n",
              "              style=\"display:none;\">\n",
              "\n",
              "  <svg xmlns=\"http://www.w3.org/2000/svg\" height=\"24px\"viewBox=\"0 0 24 24\"\n",
              "       width=\"24px\">\n",
              "    <path d=\"M0 0h24v24H0V0z\" fill=\"none\"/>\n",
              "    <path d=\"M18.56 5.44l.94 2.06.94-2.06 2.06-.94-2.06-.94-.94-2.06-.94 2.06-2.06.94zm-11 1L8.5 8.5l.94-2.06 2.06-.94-2.06-.94L8.5 2.5l-.94 2.06-2.06.94zm10 10l.94 2.06.94-2.06 2.06-.94-2.06-.94-.94-2.06-.94 2.06-2.06.94z\"/><path d=\"M17.41 7.96l-1.37-1.37c-.4-.4-.92-.59-1.43-.59-.52 0-1.04.2-1.43.59L10.3 9.45l-7.72 7.72c-.78.78-.78 2.05 0 2.83L4 21.41c.39.39.9.59 1.41.59.51 0 1.02-.2 1.41-.59l7.78-7.78 2.81-2.81c.8-.78.8-2.07 0-2.86zM5.41 20L4 18.59l7.72-7.72 1.47 1.35L5.41 20z\"/>\n",
              "  </svg>\n",
              "      </button>\n",
              "\n",
              "\n",
              "\n",
              "    <div id=\"df-a5a0c852-31ae-4223-b669-6098bc043ae7\">\n",
              "      <button class=\"colab-df-quickchart\" onclick=\"quickchart('df-a5a0c852-31ae-4223-b669-6098bc043ae7')\"\n",
              "              title=\"Suggest charts.\"\n",
              "              style=\"display:none;\">\n",
              "\n",
              "<svg xmlns=\"http://www.w3.org/2000/svg\" height=\"24px\"viewBox=\"0 0 24 24\"\n",
              "     width=\"24px\">\n",
              "    <g>\n",
              "        <path d=\"M19 3H5c-1.1 0-2 .9-2 2v14c0 1.1.9 2 2 2h14c1.1 0 2-.9 2-2V5c0-1.1-.9-2-2-2zM9 17H7v-7h2v7zm4 0h-2V7h2v10zm4 0h-2v-4h2v4z\"/>\n",
              "    </g>\n",
              "</svg>\n",
              "      </button>\n",
              "    </div>\n",
              "\n",
              "<style>\n",
              "  .colab-df-quickchart {\n",
              "    background-color: #E8F0FE;\n",
              "    border: none;\n",
              "    border-radius: 50%;\n",
              "    cursor: pointer;\n",
              "    display: none;\n",
              "    fill: #1967D2;\n",
              "    height: 32px;\n",
              "    padding: 0 0 0 0;\n",
              "    width: 32px;\n",
              "  }\n",
              "\n",
              "  .colab-df-quickchart:hover {\n",
              "    background-color: #E2EBFA;\n",
              "    box-shadow: 0px 1px 2px rgba(60, 64, 67, 0.3), 0px 1px 3px 1px rgba(60, 64, 67, 0.15);\n",
              "    fill: #174EA6;\n",
              "  }\n",
              "\n",
              "  [theme=dark] .colab-df-quickchart {\n",
              "    background-color: #3B4455;\n",
              "    fill: #D2E3FC;\n",
              "  }\n",
              "\n",
              "  [theme=dark] .colab-df-quickchart:hover {\n",
              "    background-color: #434B5C;\n",
              "    box-shadow: 0px 1px 3px 1px rgba(0, 0, 0, 0.15);\n",
              "    filter: drop-shadow(0px 1px 2px rgba(0, 0, 0, 0.3));\n",
              "    fill: #FFFFFF;\n",
              "  }\n",
              "</style>\n",
              "\n",
              "    <script>\n",
              "      async function quickchart(key) {\n",
              "        const containerElement = document.querySelector('#' + key);\n",
              "        const charts = await google.colab.kernel.invokeFunction(\n",
              "            'suggestCharts', [key], {});\n",
              "      }\n",
              "    </script>\n",
              "\n",
              "      <script>\n",
              "\n",
              "function displayQuickchartButton(domScope) {\n",
              "  let quickchartButtonEl =\n",
              "    domScope.querySelector('#df-a5a0c852-31ae-4223-b669-6098bc043ae7 button.colab-df-quickchart');\n",
              "  quickchartButtonEl.style.display =\n",
              "    google.colab.kernel.accessAllowed ? 'block' : 'none';\n",
              "}\n",
              "\n",
              "        displayQuickchartButton(document);\n",
              "      </script>\n",
              "      <style>\n",
              "    .colab-df-container {\n",
              "      display:flex;\n",
              "      flex-wrap:wrap;\n",
              "      gap: 12px;\n",
              "    }\n",
              "\n",
              "    .colab-df-convert {\n",
              "      background-color: #E8F0FE;\n",
              "      border: none;\n",
              "      border-radius: 50%;\n",
              "      cursor: pointer;\n",
              "      display: none;\n",
              "      fill: #1967D2;\n",
              "      height: 32px;\n",
              "      padding: 0 0 0 0;\n",
              "      width: 32px;\n",
              "    }\n",
              "\n",
              "    .colab-df-convert:hover {\n",
              "      background-color: #E2EBFA;\n",
              "      box-shadow: 0px 1px 2px rgba(60, 64, 67, 0.3), 0px 1px 3px 1px rgba(60, 64, 67, 0.15);\n",
              "      fill: #174EA6;\n",
              "    }\n",
              "\n",
              "    [theme=dark] .colab-df-convert {\n",
              "      background-color: #3B4455;\n",
              "      fill: #D2E3FC;\n",
              "    }\n",
              "\n",
              "    [theme=dark] .colab-df-convert:hover {\n",
              "      background-color: #434B5C;\n",
              "      box-shadow: 0px 1px 3px 1px rgba(0, 0, 0, 0.15);\n",
              "      filter: drop-shadow(0px 1px 2px rgba(0, 0, 0, 0.3));\n",
              "      fill: #FFFFFF;\n",
              "    }\n",
              "  </style>\n",
              "\n",
              "      <script>\n",
              "        const buttonEl =\n",
              "          document.querySelector('#df-22bf0bc1-bec2-4b17-9525-a34fa5a3c4f3 button.colab-df-convert');\n",
              "        buttonEl.style.display =\n",
              "          google.colab.kernel.accessAllowed ? 'block' : 'none';\n",
              "\n",
              "        async function convertToInteractive(key) {\n",
              "          const element = document.querySelector('#df-22bf0bc1-bec2-4b17-9525-a34fa5a3c4f3');\n",
              "          const dataTable =\n",
              "            await google.colab.kernel.invokeFunction('convertToInteractive',\n",
              "                                                     [key], {});\n",
              "          if (!dataTable) return;\n",
              "\n",
              "          const docLinkHtml = 'Like what you see? Visit the ' +\n",
              "            '<a target=\"_blank\" href=https://colab.research.google.com/notebooks/data_table.ipynb>data table notebook</a>'\n",
              "            + ' to learn more about interactive tables.';\n",
              "          element.innerHTML = '';\n",
              "          dataTable['output_type'] = 'display_data';\n",
              "          await google.colab.output.renderOutput(dataTable, element);\n",
              "          const docLink = document.createElement('div');\n",
              "          docLink.innerHTML = docLinkHtml;\n",
              "          element.appendChild(docLink);\n",
              "        }\n",
              "      </script>\n",
              "    </div>\n",
              "  </div>\n"
            ]
          },
          "metadata": {},
          "execution_count": 47
        }
      ]
    },
    {
      "cell_type": "code",
      "source": [
        "sns.countplot(data=data,x=\"battery\")"
      ],
      "metadata": {
        "colab": {
          "base_uri": "https://localhost:8080/",
          "height": 469
        },
        "id": "eDN5CF53nAqf",
        "outputId": "d680a80c-d8fe-408a-850f-89eb63411d08"
      },
      "execution_count": 48,
      "outputs": [
        {
          "output_type": "execute_result",
          "data": {
            "text/plain": [
              "<Axes: xlabel='battery', ylabel='count'>"
            ]
          },
          "metadata": {},
          "execution_count": 48
        },
        {
          "output_type": "display_data",
          "data": {
            "text/plain": [
              "<Figure size 640x480 with 1 Axes>"
            ],
            "image/png": "[encoded data removed]"
          },
          "metadata": {}
        }
      ]
    },
    {
      "cell_type": "code",
      "source": [
        "\n",
        "plt.xlabel('battery')\n",
        "plt.ylabel('ram')\n",
        "\n",
        "plt.show()"
      ],
      "metadata": {
        "colab": {
          "base_uri": "https://localhost:8080/",
          "height": 455
        },
        "id": "GZLGntlAnHLX",
        "outputId": "4511cfa0-90dd-4275-89ad-5a7c7521c881"
      },
      "execution_count": 51,
      "outputs": [
        {
          "output_type": "display_data",
          "data": {
            "text/plain": [
              "<Figure size 640x480 with 1 Axes>"
            ],
            "image/png": "[encoded data removed]"
          },
          "metadata": {}
        }
      ]
    },
    {
      "cell_type": "code",
      "source": [
        "lead_time_skewness = data['battery'].skew()\n",
        "\n",
        "print(\"Skewness of 'battery':\", lead_time_skewness)"
      ],
      "metadata": {
        "colab": {
          "base_uri": "https://localhost:8080/"
        },
        "id": "OC8xDKz_oEG_",
        "outputId": "ad31e04d-5eab-4325-9794-f42d3f5e3153"
      },
      "execution_count": 54,
      "outputs": [
        {
          "output_type": "stream",
          "name": "stdout",
          "text": [
            "Skewness of 'battery': -0.5003170267721915\n"
          ]
        }
      ]
    },
    {
      "cell_type": "code",
      "source": [
        "df.skew()"
      ],
      "metadata": {
        "colab": {
          "base_uri": "https://localhost:8080/"
        },
        "id": "fAyAl-QiomLB",
        "outputId": "33236ee3-28b1-40a2-c34d-67c057bb612c"
      },
      "execution_count": 55,
      "outputs": [
        {
          "output_type": "stream",
          "name": "stderr",
          "text": [
            "<ipython-input-55-9e0b1e29546f>:1: FutureWarning: The default value of numeric_only in DataFrame.skew is deprecated. In a future version, it will default to False. In addition, specifying 'numeric_only=None' is deprecated. Select only valid columns or specify the value of numeric_only to silence this warning.\n",
            "  df.skew()\n"
          ]
        },
        {
          "output_type": "execute_result",
          "data": {
            "text/plain": [
              "ratings           -1.786688\n",
              "price              0.568844\n",
              "camera             1.733046\n",
              "battery           -0.500317\n",
              "storage            1.432845\n",
              "ram                0.631929\n",
              "android_version   -1.753257\n",
              "dtype: float64"
            ]
          },
          "metadata": {},
          "execution_count": 55
        }
      ]
    },
    {
      "cell_type": "code",
      "source": [
        "# Visual inspection using box plots\n",
        "sns.boxplot(x=data['battery'])"
      ],
      "metadata": {
        "colab": {
          "base_uri": "https://localhost:8080/",
          "height": 466
        },
        "id": "adIHmo6QonqD",
        "outputId": "221d2ff3-f543-4731-9874-04e04d2223ee"
      },
      "execution_count": 57,
      "outputs": [
        {
          "output_type": "execute_result",
          "data": {
            "text/plain": [
              "<Axes: xlabel='battery'>"
            ]
          },
          "metadata": {},
          "execution_count": 57
        },
        {
          "output_type": "display_data",
          "data": {
            "text/plain": [
              "<Figure size 640x480 with 1 Axes>"
            ],
            "image/png": "[encoded data removed]"
          },
          "metadata": {}
        }
      ]
    },
    {
      "cell_type": "code",
      "source": [
        "sns.boxplot(x=data['ram'])"
      ],
      "metadata": {
        "colab": {
          "base_uri": "https://localhost:8080/",
          "height": 466
        },
        "id": "eGtXcVdAo2jx",
        "outputId": "7173e60e-4094-4f48-daee-781928e6dbd9"
      },
      "execution_count": 58,
      "outputs": [
        {
          "output_type": "execute_result",
          "data": {
            "text/plain": [
              "<Axes: xlabel='ram'>"
            ]
          },
          "metadata": {},
          "execution_count": 58
        },
        {
          "output_type": "display_data",
          "data": {
            "text/plain": [
              "<Figure size 640x480 with 1 Axes>"
            ],
            "image/png": "[encoded data removed]"
          },
          "metadata": {}
        }
      ]
    },
    {
      "cell_type": "code",
      "source": [
        "sns.boxplot(x=data['ram'])"
      ],
      "metadata": {
        "colab": {
          "base_uri": "https://localhost:8080/",
          "height": 466
        },
        "id": "tMZ1vDZSo54q",
        "outputId": "ce97cf6b-a196-41f5-d69c-65f149f0cc93"
      },
      "execution_count": 60,
      "outputs": [
        {
          "output_type": "execute_result",
          "data": {
            "text/plain": [
              "<Axes: xlabel='ram'>"
            ]
          },
          "metadata": {},
          "execution_count": 60
        },
        {
          "output_type": "display_data",
          "data": {
            "text/plain": [
              "<Figure size 640x480 with 1 Axes>"
            ],
            "image/png": "[encoded data removed]"
          },
          "metadata": {}
        }
      ]
    },
    {
      "cell_type": "code",
      "source": [
        "sns.boxplot(x=data['ram'])"
      ],
      "metadata": {
        "colab": {
          "base_uri": "https://localhost:8080/",
          "height": 466
        },
        "id": "zqpYpic5pH2g",
        "outputId": "eaa15df5-f2c2-49fc-f5fc-9bedeb76078e"
      },
      "execution_count": 62,
      "outputs": [
        {
          "output_type": "execute_result",
          "data": {
            "text/plain": [
              "<Axes: xlabel='ram'>"
            ]
          },
          "metadata": {},
          "execution_count": 62
        },
        {
          "output_type": "display_data",
          "data": {
            "text/plain": [
              "<Figure size 640x480 with 1 Axes>"
            ],
            "image/png": "[encoded data removed]"
          },
          "metadata": {}
        }
      ]
    },
    {
      "cell_type": "code",
      "source": [
        "Q1=data.quantile(0.25)\n",
        "Q3=data.quantile(0.75)\n",
        "IQR=Q3-Q1\n",
        "print(IQR)"
      ],
      "metadata": {
        "colab": {
          "base_uri": "https://localhost:8080/"
        },
        "id": "nbMFyqmrpR0A",
        "outputId": "a46e17a0-d940-422b-82e6-1632a8fe376f"
      },
      "execution_count": 63,
      "outputs": [
        {
          "output_type": "stream",
          "name": "stdout",
          "text": [
            "ratings               0.2\n",
            "price              9762.0\n",
            "camera               30.0\n",
            "battery            1000.0\n",
            "storage              64.0\n",
            "ram                   2.0\n",
            "android_version       2.0\n",
            "dtype: float64\n"
          ]
        },
        {
          "output_type": "stream",
          "name": "stderr",
          "text": [
            "<ipython-input-63-ca89f85837e9>:1: FutureWarning: The default value of numeric_only in DataFrame.quantile is deprecated. In a future version, it will default to False. Select only valid columns or specify the value of numeric_only to silence this warning.\n",
            "  Q1=data.quantile(0.25)\n",
            "<ipython-input-63-ca89f85837e9>:2: FutureWarning: The default value of numeric_only in DataFrame.quantile is deprecated. In a future version, it will default to False. Select only valid columns or specify the value of numeric_only to silence this warning.\n",
            "  Q3=data.quantile(0.75)\n"
          ]
        }
      ]
    },
    {
      "cell_type": "code",
      "source": [
        "data= data[~((data<(Q1-1.5*IQR))|(data>(Q3+1.5*IQR))).any(axis=1)]\n",
        "data.shape"
      ],
      "metadata": {
        "colab": {
          "base_uri": "https://localhost:8080/"
        },
        "id": "9A5-B91fpVyh",
        "outputId": "8cc5c849-2cc6-4595-ea8f-4f22e87c6ed8"
      },
      "execution_count": 64,
      "outputs": [
        {
          "output_type": "stream",
          "name": "stderr",
          "text": [
            "<ipython-input-64-6ff698f5666d>:1: FutureWarning: Automatic reindexing on DataFrame vs Series comparisons is deprecated and will raise ValueError in a future version. Do `left, right = left.align(right, axis=1, copy=False)` before e.g. `left == right`\n",
            "  data= data[~((data<(Q1-1.5*IQR))|(data>(Q3+1.5*IQR))).any(axis=1)]\n"
          ]
        },
        {
          "output_type": "execute_result",
          "data": {
            "text/plain": [
              "(346, 11)"
            ]
          },
          "metadata": {},
          "execution_count": 64
        }
      ]
    },
    {
      "cell_type": "code",
      "source": [
        "sns.boxplot(x=data['battery'])"
      ],
      "metadata": {
        "colab": {
          "base_uri": "https://localhost:8080/",
          "height": 466
        },
        "id": "8xJwPJVLpZr4",
        "outputId": "b414c270-0c71-4507-c9e3-c0d6a4289c68"
      },
      "execution_count": 65,
      "outputs": [
        {
          "output_type": "execute_result",
          "data": {
            "text/plain": [
              "<Axes: xlabel='battery'>"
            ]
          },
          "metadata": {},
          "execution_count": 65
        },
        {
          "output_type": "display_data",
          "data": {
            "text/plain": [
              "<Figure size 640x480 with 1 Axes>"
            ],
            "image/png": "[encoded data removed]"
          },
          "metadata": {}
        }
      ]
    },
    {
      "cell_type": "code",
      "source": [
        "sns.boxplot(x=data['ram'])"
      ],
      "metadata": {
        "colab": {
          "base_uri": "https://localhost:8080/",
          "height": 466
        },
        "id": "H28CCaaZpfch",
        "outputId": "f45925c7-ae03-45a3-fc33-2bac4e5601ac"
      },
      "execution_count": 68,
      "outputs": [
        {
          "output_type": "execute_result",
          "data": {
            "text/plain": [
              "<Axes: xlabel='ram'>"
            ]
          },
          "metadata": {},
          "execution_count": 68
        },
        {
          "output_type": "display_data",
          "data": {
            "text/plain": [
              "<Figure size 640x480 with 1 Axes>"
            ],
            "image/png": "[encoded data removed]"
          },
          "metadata": {}
        }
      ]
    },
    {
      "cell_type": "code",
      "source": [
        "data.columns"
      ],
      "metadata": {
        "colab": {
          "base_uri": "https://localhost:8080/"
        },
        "id": "SIrDmq4jpqsY",
        "outputId": "200c3fc4-7753-4455-fb4b-944011e82bc5"
      },
      "execution_count": 69,
      "outputs": [
        {
          "output_type": "execute_result",
          "data": {
            "text/plain": [
              "Index(['name', 'ratings', 'price', 'imgURL', 'camera', 'display', 'battery',\n",
              "       'storage', 'ram', 'processor', 'android_version'],\n",
              "      dtype='object')"
            ]
          },
          "metadata": {},
          "execution_count": 69
        }
      ]
    },
    {
      "cell_type": "code",
      "source": [
        "data=data.drop(['battery','ram'], axis=1)"
      ],
      "metadata": {
        "id": "gThIVznrpuwQ"
      },
      "execution_count": 70,
      "outputs": []
    },
    {
      "cell_type": "code",
      "source": [
        "data.columns"
      ],
      "metadata": {
        "colab": {
          "base_uri": "https://localhost:8080/"
        },
        "id": "z3CMeTp8p9GD",
        "outputId": "2044af21-4318-467f-dc04-c3dc699c88fb"
      },
      "execution_count": 71,
      "outputs": [
        {
          "output_type": "execute_result",
          "data": {
            "text/plain": [
              "Index(['name', 'ratings', 'price', 'imgURL', 'camera', 'display', 'storage',\n",
              "       'processor', 'android_version'],\n",
              "      dtype='object')"
            ]
          },
          "metadata": {},
          "execution_count": 71
        }
      ]
    },
    {
      "cell_type": "code",
      "source": [
        "data.shape"
      ],
      "metadata": {
        "colab": {
          "base_uri": "https://localhost:8080/"
        },
        "id": "v-BbgS6ip-cZ",
        "outputId": "41008736-0d01-4ad2-8a6a-7fc357f9a2e6"
      },
      "execution_count": 72,
      "outputs": [
        {
          "output_type": "execute_result",
          "data": {
            "text/plain": [
              "(346, 9)"
            ]
          },
          "metadata": {},
          "execution_count": 72
        }
      ]
    },
    {
      "cell_type": "markdown",
      "source": [
        "Encoding\n",
        "\n",
        "Encoding is the process of converting data from one representation or format to another. In the context of data preprocessing and machine learning, encoding typically refers to the transformation of categorical variables into numerical form, as many machine learning algorithms work with numerical data."
      ],
      "metadata": {
        "id": "SDk8k__nqEVi"
      }
    },
    {
      "cell_type": "code",
      "source": [
        "from sklearn.preprocessing import OrdinalEncoder"
      ],
      "metadata": {
        "id": "xe-ruUaDqBYZ"
      },
      "execution_count": 73,
      "outputs": []
    },
    {
      "cell_type": "markdown",
      "source": [
        "Here, we are importing OrdinalEncoder from sklearn.preprocessing"
      ],
      "metadata": {
        "id": "A2jdvVceqNZJ"
      }
    },
    {
      "cell_type": "code",
      "source": [
        "data.info()"
      ],
      "metadata": {
        "colab": {
          "base_uri": "https://localhost:8080/"
        },
        "id": "rdYj82fwqJpa",
        "outputId": "c7e48afc-1de7-45c0-ef05-516ac4242edf"
      },
      "execution_count": 74,
      "outputs": [
        {
          "output_type": "stream",
          "name": "stdout",
          "text": [
            "<class 'pandas.core.frame.DataFrame'>\n",
            "Int64Index: 346 entries, 0 to 406\n",
            "Data columns (total 9 columns):\n",
            " #   Column           Non-Null Count  Dtype  \n",
            "---  ------           --------------  -----  \n",
            " 0   name             346 non-null    object \n",
            " 1   ratings          346 non-null    float64\n",
            " 2   price            346 non-null    int64  \n",
            " 3   imgURL           346 non-null    object \n",
            " 4   camera           346 non-null    int64  \n",
            " 5   display          346 non-null    object \n",
            " 6   storage          346 non-null    int64  \n",
            " 7   processor        346 non-null    object \n",
            " 8   android_version  346 non-null    int64  \n",
            "dtypes: float64(1), int64(4), object(4)\n",
            "memory usage: 27.0+ KB\n"
          ]
        }
      ]
    },
    {
      "cell_type": "code",
      "source": [
        "data.info()"
      ],
      "metadata": {
        "colab": {
          "base_uri": "https://localhost:8080/"
        },
        "id": "asFH_A8aqUDR",
        "outputId": "3fae254c-c973-4ff0-9736-519552666694"
      },
      "execution_count": 77,
      "outputs": [
        {
          "output_type": "stream",
          "name": "stdout",
          "text": [
            "<class 'pandas.core.frame.DataFrame'>\n",
            "Int64Index: 346 entries, 0 to 406\n",
            "Data columns (total 9 columns):\n",
            " #   Column           Non-Null Count  Dtype  \n",
            "---  ------           --------------  -----  \n",
            " 0   name             346 non-null    object \n",
            " 1   ratings          346 non-null    float64\n",
            " 2   price            346 non-null    int64  \n",
            " 3   imgURL           346 non-null    object \n",
            " 4   camera           346 non-null    int64  \n",
            " 5   display          346 non-null    object \n",
            " 6   storage          346 non-null    int64  \n",
            " 7   processor        346 non-null    object \n",
            " 8   android_version  346 non-null    int64  \n",
            "dtypes: float64(1), int64(4), object(4)\n",
            "memory usage: 27.0+ KB\n"
          ]
        }
      ]
    },
    {
      "cell_type": "code",
      "source": [
        "data.head()"
      ],
      "metadata": {
        "colab": {
          "base_uri": "https://localhost:8080/",
          "height": 206
        },
        "id": "UIGZ587UqnK6",
        "outputId": "11e02bca-ec98-48b1-8fff-0d1d833a1220"
      },
      "execution_count": 78,
      "outputs": [
        {
          "output_type": "execute_result",
          "data": {
            "text/plain": [
              "                                          name  ratings  price  \\\n",
              "0   SAMSUNG Galaxy F13 (Sunrise Copper, 64 GB)      4.3   9499   \n",
              "1  SAMSUNG Galaxy F13 (Waterfall Blue, 128 GB)      4.3  10499   \n",
              "2  SAMSUNG Galaxy F13 (Nightsky Green, 128 GB)      4.3  10499   \n",
              "3  SAMSUNG Galaxy F13 (Sunrise Copper, 128 GB)      4.3  10499   \n",
              "4    SAMSUNG Galaxy F23 5G (Aqua Blue, 128 GB)      4.3  15499   \n",
              "\n",
              "                                              imgURL  camera      display  \\\n",
              "0  https://rukminim2.flixcart.com/image/312/312/x...      50  other_types   \n",
              "1  https://rukminim2.flixcart.com/image/312/312/x...      50  other_types   \n",
              "2  https://rukminim2.flixcart.com/image/312/312/x...      50  other_types   \n",
              "3  https://rukminim2.flixcart.com/image/312/312/x...      50  other_types   \n",
              "4  https://rukminim2.flixcart.com/image/312/312/x...      50  other_types   \n",
              "\n",
              "   storage                processor  android_version  \n",
              "0       64            not mentioned               12  \n",
              "1      128            not mentioned               12  \n",
              "2      128            not mentioned               12  \n",
              "3      128            not mentioned               12  \n",
              "4      128  Snapdragon750GProcessor               12  "
            ],
            "text/html": [
              "\n",
              "\n",
              "  <div id=\"df-d6c2317a-bb67-4375-b2f7-650fb1ef830d\">\n",
              "    <div class=\"colab-df-container\">\n",
              "      <div>\n",
              "<style scoped>\n",
              "    .dataframe tbody tr th:only-of-type {\n",
              "        vertical-align: middle;\n",
              "    }\n",
              "\n",
              "    .dataframe tbody tr th {\n",
              "        vertical-align: top;\n",
              "    }\n",
              "\n",
              "    .dataframe thead th {\n",
              "        text-align: right;\n",
              "    }\n",
              "</style>\n",
              "<table border=\"1\" class=\"dataframe\">\n",
              "  <thead>\n",
              "    <tr style=\"text-align: right;\">\n",
              "      <th></th>\n",
              "      <th>name</th>\n",
              "      <th>ratings</th>\n",
              "      <th>price</th>\n",
              "      <th>imgURL</th>\n",
              "      <th>camera</th>\n",
              "      <th>display</th>\n",
              "      <th>storage</th>\n",
              "      <th>processor</th>\n",
              "      <th>android_version</th>\n",
              "    </tr>\n",
              "  </thead>\n",
              "  <tbody>\n",
              "    <tr>\n",
              "      <th>0</th>\n",
              "      <td>SAMSUNG Galaxy F13 (Sunrise Copper, 64 GB)</td>\n",
              "      <td>4.3</td>\n",
              "      <td>9499</td>\n",
              "      <td>https://rukminim2.flixcart.com/image/312/312/x...</td>\n",
              "      <td>50</td>\n",
              "      <td>other_types</td>\n",
              "      <td>64</td>\n",
              "      <td>not mentioned</td>\n",
              "      <td>12</td>\n",
              "    </tr>\n",
              "    <tr>\n",
              "      <th>1</th>\n",
              "      <td>SAMSUNG Galaxy F13 (Waterfall Blue, 128 GB)</td>\n",
              "      <td>4.3</td>\n",
              "      <td>10499</td>\n",
              "      <td>https://rukminim2.flixcart.com/image/312/312/x...</td>\n",
              "      <td>50</td>\n",
              "      <td>other_types</td>\n",
              "      <td>128</td>\n",
              "      <td>not mentioned</td>\n",
              "      <td>12</td>\n",
              "    </tr>\n",
              "    <tr>\n",
              "      <th>2</th>\n",
              "      <td>SAMSUNG Galaxy F13 (Nightsky Green, 128 GB)</td>\n",
              "      <td>4.3</td>\n",
              "      <td>10499</td>\n",
              "      <td>https://rukminim2.flixcart.com/image/312/312/x...</td>\n",
              "      <td>50</td>\n",
              "      <td>other_types</td>\n",
              "      <td>128</td>\n",
              "      <td>not mentioned</td>\n",
              "      <td>12</td>\n",
              "    </tr>\n",
              "    <tr>\n",
              "      <th>3</th>\n",
              "      <td>SAMSUNG Galaxy F13 (Sunrise Copper, 128 GB)</td>\n",
              "      <td>4.3</td>\n",
              "      <td>10499</td>\n",
              "      <td>https://rukminim2.flixcart.com/image/312/312/x...</td>\n",
              "      <td>50</td>\n",
              "      <td>other_types</td>\n",
              "      <td>128</td>\n",
              "      <td>not mentioned</td>\n",
              "      <td>12</td>\n",
              "    </tr>\n",
              "    <tr>\n",
              "      <th>4</th>\n",
              "      <td>SAMSUNG Galaxy F23 5G (Aqua Blue, 128 GB)</td>\n",
              "      <td>4.3</td>\n",
              "      <td>15499</td>\n",
              "      <td>https://rukminim2.flixcart.com/image/312/312/x...</td>\n",
              "      <td>50</td>\n",
              "      <td>other_types</td>\n",
              "      <td>128</td>\n",
              "      <td>Snapdragon750GProcessor</td>\n",
              "      <td>12</td>\n",
              "    </tr>\n",
              "  </tbody>\n",
              "</table>\n",
              "</div>\n",
              "      <button class=\"colab-df-convert\" onclick=\"convertToInteractive('df-d6c2317a-bb67-4375-b2f7-650fb1ef830d')\"\n",
              "              title=\"Convert this dataframe to an interactive table.\"\n",
              "              style=\"display:none;\">\n",
              "\n",
              "  <svg xmlns=\"http://www.w3.org/2000/svg\" height=\"24px\"viewBox=\"0 0 24 24\"\n",
              "       width=\"24px\">\n",
              "    <path d=\"M0 0h24v24H0V0z\" fill=\"none\"/>\n",
              "    <path d=\"M18.56 5.44l.94 2.06.94-2.06 2.06-.94-2.06-.94-.94-2.06-.94 2.06-2.06.94zm-11 1L8.5 8.5l.94-2.06 2.06-.94-2.06-.94L8.5 2.5l-.94 2.06-2.06.94zm10 10l.94 2.06.94-2.06 2.06-.94-2.06-.94-.94-2.06-.94 2.06-2.06.94z\"/><path d=\"M17.41 7.96l-1.37-1.37c-.4-.4-.92-.59-1.43-.59-.52 0-1.04.2-1.43.59L10.3 9.45l-7.72 7.72c-.78.78-.78 2.05 0 2.83L4 21.41c.39.39.9.59 1.41.59.51 0 1.02-.2 1.41-.59l7.78-7.78 2.81-2.81c.8-.78.8-2.07 0-2.86zM5.41 20L4 18.59l7.72-7.72 1.47 1.35L5.41 20z\"/>\n",
              "  </svg>\n",
              "      </button>\n",
              "\n",
              "\n",
              "\n",
              "    <div id=\"df-22fdcd3c-562d-4d86-bf03-2d6e6868a5eb\">\n",
              "      <button class=\"colab-df-quickchart\" onclick=\"quickchart('df-22fdcd3c-562d-4d86-bf03-2d6e6868a5eb')\"\n",
              "              title=\"Suggest charts.\"\n",
              "              style=\"display:none;\">\n",
              "\n",
              "<svg xmlns=\"http://www.w3.org/2000/svg\" height=\"24px\"viewBox=\"0 0 24 24\"\n",
              "     width=\"24px\">\n",
              "    <g>\n",
              "        <path d=\"M19 3H5c-1.1 0-2 .9-2 2v14c0 1.1.9 2 2 2h14c1.1 0 2-.9 2-2V5c0-1.1-.9-2-2-2zM9 17H7v-7h2v7zm4 0h-2V7h2v10zm4 0h-2v-4h2v4z\"/>\n",
              "    </g>\n",
              "</svg>\n",
              "      </button>\n",
              "    </div>\n",
              "\n",
              "<style>\n",
              "  .colab-df-quickchart {\n",
              "    background-color: #E8F0FE;\n",
              "    border: none;\n",
              "    border-radius: 50%;\n",
              "    cursor: pointer;\n",
              "    display: none;\n",
              "    fill: #1967D2;\n",
              "    height: 32px;\n",
              "    padding: 0 0 0 0;\n",
              "    width: 32px;\n",
              "  }\n",
              "\n",
              "  .colab-df-quickchart:hover {\n",
              "    background-color: #E2EBFA;\n",
              "    box-shadow: 0px 1px 2px rgba(60, 64, 67, 0.3), 0px 1px 3px 1px rgba(60, 64, 67, 0.15);\n",
              "    fill: #174EA6;\n",
              "  }\n",
              "\n",
              "  [theme=dark] .colab-df-quickchart {\n",
              "    background-color: #3B4455;\n",
              "    fill: #D2E3FC;\n",
              "  }\n",
              "\n",
              "  [theme=dark] .colab-df-quickchart:hover {\n",
              "    background-color: #434B5C;\n",
              "    box-shadow: 0px 1px 3px 1px rgba(0, 0, 0, 0.15);\n",
              "    filter: drop-shadow(0px 1px 2px rgba(0, 0, 0, 0.3));\n",
              "    fill: #FFFFFF;\n",
              "  }\n",
              "</style>\n",
              "\n",
              "    <script>\n",
              "      async function quickchart(key) {\n",
              "        const containerElement = document.querySelector('#' + key);\n",
              "        const charts = await google.colab.kernel.invokeFunction(\n",
              "            'suggestCharts', [key], {});\n",
              "      }\n",
              "    </script>\n",
              "\n",
              "      <script>\n",
              "\n",
              "function displayQuickchartButton(domScope) {\n",
              "  let quickchartButtonEl =\n",
              "    domScope.querySelector('#df-22fdcd3c-562d-4d86-bf03-2d6e6868a5eb button.colab-df-quickchart');\n",
              "  quickchartButtonEl.style.display =\n",
              "    google.colab.kernel.accessAllowed ? 'block' : 'none';\n",
              "}\n",
              "\n",
              "        displayQuickchartButton(document);\n",
              "      </script>\n",
              "      <style>\n",
              "    .colab-df-container {\n",
              "      display:flex;\n",
              "      flex-wrap:wrap;\n",
              "      gap: 12px;\n",
              "    }\n",
              "\n",
              "    .colab-df-convert {\n",
              "      background-color: #E8F0FE;\n",
              "      border: none;\n",
              "      border-radius: 50%;\n",
              "      cursor: pointer;\n",
              "      display: none;\n",
              "      fill: #1967D2;\n",
              "      height: 32px;\n",
              "      padding: 0 0 0 0;\n",
              "      width: 32px;\n",
              "    }\n",
              "\n",
              "    .colab-df-convert:hover {\n",
              "      background-color: #E2EBFA;\n",
              "      box-shadow: 0px 1px 2px rgba(60, 64, 67, 0.3), 0px 1px 3px 1px rgba(60, 64, 67, 0.15);\n",
              "      fill: #174EA6;\n",
              "    }\n",
              "\n",
              "    [theme=dark] .colab-df-convert {\n",
              "      background-color: #3B4455;\n",
              "      fill: #D2E3FC;\n",
              "    }\n",
              "\n",
              "    [theme=dark] .colab-df-convert:hover {\n",
              "      background-color: #434B5C;\n",
              "      box-shadow: 0px 1px 3px 1px rgba(0, 0, 0, 0.15);\n",
              "      filter: drop-shadow(0px 1px 2px rgba(0, 0, 0, 0.3));\n",
              "      fill: #FFFFFF;\n",
              "    }\n",
              "  </style>\n",
              "\n",
              "      <script>\n",
              "        const buttonEl =\n",
              "          document.querySelector('#df-d6c2317a-bb67-4375-b2f7-650fb1ef830d button.colab-df-convert');\n",
              "        buttonEl.style.display =\n",
              "          google.colab.kernel.accessAllowed ? 'block' : 'none';\n",
              "\n",
              "        async function convertToInteractive(key) {\n",
              "          const element = document.querySelector('#df-d6c2317a-bb67-4375-b2f7-650fb1ef830d');\n",
              "          const dataTable =\n",
              "            await google.colab.kernel.invokeFunction('convertToInteractive',\n",
              "                                                     [key], {});\n",
              "          if (!dataTable) return;\n",
              "\n",
              "          const docLinkHtml = 'Like what you see? Visit the ' +\n",
              "            '<a target=\"_blank\" href=https://colab.research.google.com/notebooks/data_table.ipynb>data table notebook</a>'\n",
              "            + ' to learn more about interactive tables.';\n",
              "          element.innerHTML = '';\n",
              "          dataTable['output_type'] = 'display_data';\n",
              "          await google.colab.output.renderOutput(dataTable, element);\n",
              "          const docLink = document.createElement('div');\n",
              "          docLink.innerHTML = docLinkHtml;\n",
              "          element.appendChild(docLink);\n",
              "        }\n",
              "      </script>\n",
              "    </div>\n",
              "  </div>\n"
            ]
          },
          "metadata": {},
          "execution_count": 78
        }
      ]
    },
    {
      "cell_type": "markdown",
      "source": [
        "Data Preprocessing\n",
        "\n",
        "Data preprocessing is a crucial step in data analysis and machine learning workflows. It involves cleaning, transforming, and preparing raw data into a format suitable for analysis or modeling. The goal of data preprocessing is to ensure that the data is accurate, consistent, and in a suitable form that can be used effectively for further analysis or to build machine learning models."
      ],
      "metadata": {
        "id": "pA_EGnU9qr-5"
      }
    },
    {
      "cell_type": "code",
      "source": [
        "data.head()"
      ],
      "metadata": {
        "colab": {
          "base_uri": "https://localhost:8080/",
          "height": 206
        },
        "id": "Ys2DVnXbqwQ7",
        "outputId": "245d488f-44a8-4c44-fee2-592873f360dc"
      },
      "execution_count": 82,
      "outputs": [
        {
          "output_type": "execute_result",
          "data": {
            "text/plain": [
              "                                          name  ratings  price  \\\n",
              "0   SAMSUNG Galaxy F13 (Sunrise Copper, 64 GB)      4.3   9499   \n",
              "1  SAMSUNG Galaxy F13 (Waterfall Blue, 128 GB)      4.3  10499   \n",
              "2  SAMSUNG Galaxy F13 (Nightsky Green, 128 GB)      4.3  10499   \n",
              "3  SAMSUNG Galaxy F13 (Sunrise Copper, 128 GB)      4.3  10499   \n",
              "4    SAMSUNG Galaxy F23 5G (Aqua Blue, 128 GB)      4.3  15499   \n",
              "\n",
              "                                              imgURL  camera      display  \\\n",
              "0  https://rukminim2.flixcart.com/image/312/312/x...      50  other_types   \n",
              "1  https://rukminim2.flixcart.com/image/312/312/x...      50  other_types   \n",
              "2  https://rukminim2.flixcart.com/image/312/312/x...      50  other_types   \n",
              "3  https://rukminim2.flixcart.com/image/312/312/x...      50  other_types   \n",
              "4  https://rukminim2.flixcart.com/image/312/312/x...      50  other_types   \n",
              "\n",
              "   storage                processor  android_version  \n",
              "0       64            not mentioned               12  \n",
              "1      128            not mentioned               12  \n",
              "2      128            not mentioned               12  \n",
              "3      128            not mentioned               12  \n",
              "4      128  Snapdragon750GProcessor               12  "
            ],
            "text/html": [
              "\n",
              "\n",
              "  <div id=\"df-56677139-38c0-40a7-ac40-969aa082754a\">\n",
              "    <div class=\"colab-df-container\">\n",
              "      <div>\n",
              "<style scoped>\n",
              "    .dataframe tbody tr th:only-of-type {\n",
              "        vertical-align: middle;\n",
              "    }\n",
              "\n",
              "    .dataframe tbody tr th {\n",
              "        vertical-align: top;\n",
              "    }\n",
              "\n",
              "    .dataframe thead th {\n",
              "        text-align: right;\n",
              "    }\n",
              "</style>\n",
              "<table border=\"1\" class=\"dataframe\">\n",
              "  <thead>\n",
              "    <tr style=\"text-align: right;\">\n",
              "      <th></th>\n",
              "      <th>name</th>\n",
              "      <th>ratings</th>\n",
              "      <th>price</th>\n",
              "      <th>imgURL</th>\n",
              "      <th>camera</th>\n",
              "      <th>display</th>\n",
              "      <th>storage</th>\n",
              "      <th>processor</th>\n",
              "      <th>android_version</th>\n",
              "    </tr>\n",
              "  </thead>\n",
              "  <tbody>\n",
              "    <tr>\n",
              "      <th>0</th>\n",
              "      <td>SAMSUNG Galaxy F13 (Sunrise Copper, 64 GB)</td>\n",
              "      <td>4.3</td>\n",
              "      <td>9499</td>\n",
              "      <td>https://rukminim2.flixcart.com/image/312/312/x...</td>\n",
              "      <td>50</td>\n",
              "      <td>other_types</td>\n",
              "      <td>64</td>\n",
              "      <td>not mentioned</td>\n",
              "      <td>12</td>\n",
              "    </tr>\n",
              "    <tr>\n",
              "      <th>1</th>\n",
              "      <td>SAMSUNG Galaxy F13 (Waterfall Blue, 128 GB)</td>\n",
              "      <td>4.3</td>\n",
              "      <td>10499</td>\n",
              "      <td>https://rukminim2.flixcart.com/image/312/312/x...</td>\n",
              "      <td>50</td>\n",
              "      <td>other_types</td>\n",
              "      <td>128</td>\n",
              "      <td>not mentioned</td>\n",
              "      <td>12</td>\n",
              "    </tr>\n",
              "    <tr>\n",
              "      <th>2</th>\n",
              "      <td>SAMSUNG Galaxy F13 (Nightsky Green, 128 GB)</td>\n",
              "      <td>4.3</td>\n",
              "      <td>10499</td>\n",
              "      <td>https://rukminim2.flixcart.com/image/312/312/x...</td>\n",
              "      <td>50</td>\n",
              "      <td>other_types</td>\n",
              "      <td>128</td>\n",
              "      <td>not mentioned</td>\n",
              "      <td>12</td>\n",
              "    </tr>\n",
              "    <tr>\n",
              "      <th>3</th>\n",
              "      <td>SAMSUNG Galaxy F13 (Sunrise Copper, 128 GB)</td>\n",
              "      <td>4.3</td>\n",
              "      <td>10499</td>\n",
              "      <td>https://rukminim2.flixcart.com/image/312/312/x...</td>\n",
              "      <td>50</td>\n",
              "      <td>other_types</td>\n",
              "      <td>128</td>\n",
              "      <td>not mentioned</td>\n",
              "      <td>12</td>\n",
              "    </tr>\n",
              "    <tr>\n",
              "      <th>4</th>\n",
              "      <td>SAMSUNG Galaxy F23 5G (Aqua Blue, 128 GB)</td>\n",
              "      <td>4.3</td>\n",
              "      <td>15499</td>\n",
              "      <td>https://rukminim2.flixcart.com/image/312/312/x...</td>\n",
              "      <td>50</td>\n",
              "      <td>other_types</td>\n",
              "      <td>128</td>\n",
              "      <td>Snapdragon750GProcessor</td>\n",
              "      <td>12</td>\n",
              "    </tr>\n",
              "  </tbody>\n",
              "</table>\n",
              "</div>\n",
              "      <button class=\"colab-df-convert\" onclick=\"convertToInteractive('df-56677139-38c0-40a7-ac40-969aa082754a')\"\n",
              "              title=\"Convert this dataframe to an interactive table.\"\n",
              "              style=\"display:none;\">\n",
              "\n",
              "  <svg xmlns=\"http://www.w3.org/2000/svg\" height=\"24px\"viewBox=\"0 0 24 24\"\n",
              "       width=\"24px\">\n",
              "    <path d=\"M0 0h24v24H0V0z\" fill=\"none\"/>\n",
              "    <path d=\"M18.56 5.44l.94 2.06.94-2.06 2.06-.94-2.06-.94-.94-2.06-.94 2.06-2.06.94zm-11 1L8.5 8.5l.94-2.06 2.06-.94-2.06-.94L8.5 2.5l-.94 2.06-2.06.94zm10 10l.94 2.06.94-2.06 2.06-.94-2.06-.94-.94-2.06-.94 2.06-2.06.94z\"/><path d=\"M17.41 7.96l-1.37-1.37c-.4-.4-.92-.59-1.43-.59-.52 0-1.04.2-1.43.59L10.3 9.45l-7.72 7.72c-.78.78-.78 2.05 0 2.83L4 21.41c.39.39.9.59 1.41.59.51 0 1.02-.2 1.41-.59l7.78-7.78 2.81-2.81c.8-.78.8-2.07 0-2.86zM5.41 20L4 18.59l7.72-7.72 1.47 1.35L5.41 20z\"/>\n",
              "  </svg>\n",
              "      </button>\n",
              "\n",
              "\n",
              "\n",
              "    <div id=\"df-4c5e5436-f475-463c-8fcd-3bfd1d66753b\">\n",
              "      <button class=\"colab-df-quickchart\" onclick=\"quickchart('df-4c5e5436-f475-463c-8fcd-3bfd1d66753b')\"\n",
              "              title=\"Suggest charts.\"\n",
              "              style=\"display:none;\">\n",
              "\n",
              "<svg xmlns=\"http://www.w3.org/2000/svg\" height=\"24px\"viewBox=\"0 0 24 24\"\n",
              "     width=\"24px\">\n",
              "    <g>\n",
              "        <path d=\"M19 3H5c-1.1 0-2 .9-2 2v14c0 1.1.9 2 2 2h14c1.1 0 2-.9 2-2V5c0-1.1-.9-2-2-2zM9 17H7v-7h2v7zm4 0h-2V7h2v10zm4 0h-2v-4h2v4z\"/>\n",
              "    </g>\n",
              "</svg>\n",
              "      </button>\n",
              "    </div>\n",
              "\n",
              "<style>\n",
              "  .colab-df-quickchart {\n",
              "    background-color: #E8F0FE;\n",
              "    border: none;\n",
              "    border-radius: 50%;\n",
              "    cursor: pointer;\n",
              "    display: none;\n",
              "    fill: #1967D2;\n",
              "    height: 32px;\n",
              "    padding: 0 0 0 0;\n",
              "    width: 32px;\n",
              "  }\n",
              "\n",
              "  .colab-df-quickchart:hover {\n",
              "    background-color: #E2EBFA;\n",
              "    box-shadow: 0px 1px 2px rgba(60, 64, 67, 0.3), 0px 1px 3px 1px rgba(60, 64, 67, 0.15);\n",
              "    fill: #174EA6;\n",
              "  }\n",
              "\n",
              "  [theme=dark] .colab-df-quickchart {\n",
              "    background-color: #3B4455;\n",
              "    fill: #D2E3FC;\n",
              "  }\n",
              "\n",
              "  [theme=dark] .colab-df-quickchart:hover {\n",
              "    background-color: #434B5C;\n",
              "    box-shadow: 0px 1px 3px 1px rgba(0, 0, 0, 0.15);\n",
              "    filter: drop-shadow(0px 1px 2px rgba(0, 0, 0, 0.3));\n",
              "    fill: #FFFFFF;\n",
              "  }\n",
              "</style>\n",
              "\n",
              "    <script>\n",
              "      async function quickchart(key) {\n",
              "        const containerElement = document.querySelector('#' + key);\n",
              "        const charts = await google.colab.kernel.invokeFunction(\n",
              "            'suggestCharts', [key], {});\n",
              "      }\n",
              "    </script>\n",
              "\n",
              "      <script>\n",
              "\n",
              "function displayQuickchartButton(domScope) {\n",
              "  let quickchartButtonEl =\n",
              "    domScope.querySelector('#df-4c5e5436-f475-463c-8fcd-3bfd1d66753b button.colab-df-quickchart');\n",
              "  quickchartButtonEl.style.display =\n",
              "    google.colab.kernel.accessAllowed ? 'block' : 'none';\n",
              "}\n",
              "\n",
              "        displayQuickchartButton(document);\n",
              "      </script>\n",
              "      <style>\n",
              "    .colab-df-container {\n",
              "      display:flex;\n",
              "      flex-wrap:wrap;\n",
              "      gap: 12px;\n",
              "    }\n",
              "\n",
              "    .colab-df-convert {\n",
              "      background-color: #E8F0FE;\n",
              "      border: none;\n",
              "      border-radius: 50%;\n",
              "      cursor: pointer;\n",
              "      display: none;\n",
              "      fill: #1967D2;\n",
              "      height: 32px;\n",
              "      padding: 0 0 0 0;\n",
              "      width: 32px;\n",
              "    }\n",
              "\n",
              "    .colab-df-convert:hover {\n",
              "      background-color: #E2EBFA;\n",
              "      box-shadow: 0px 1px 2px rgba(60, 64, 67, 0.3), 0px 1px 3px 1px rgba(60, 64, 67, 0.15);\n",
              "      fill: #174EA6;\n",
              "    }\n",
              "\n",
              "    [theme=dark] .colab-df-convert {\n",
              "      background-color: #3B4455;\n",
              "      fill: #D2E3FC;\n",
              "    }\n",
              "\n",
              "    [theme=dark] .colab-df-convert:hover {\n",
              "      background-color: #434B5C;\n",
              "      box-shadow: 0px 1px 3px 1px rgba(0, 0, 0, 0.15);\n",
              "      filter: drop-shadow(0px 1px 2px rgba(0, 0, 0, 0.3));\n",
              "      fill: #FFFFFF;\n",
              "    }\n",
              "  </style>\n",
              "\n",
              "      <script>\n",
              "        const buttonEl =\n",
              "          document.querySelector('#df-56677139-38c0-40a7-ac40-969aa082754a button.colab-df-convert');\n",
              "        buttonEl.style.display =\n",
              "          google.colab.kernel.accessAllowed ? 'block' : 'none';\n",
              "\n",
              "        async function convertToInteractive(key) {\n",
              "          const element = document.querySelector('#df-56677139-38c0-40a7-ac40-969aa082754a');\n",
              "          const dataTable =\n",
              "            await google.colab.kernel.invokeFunction('convertToInteractive',\n",
              "                                                     [key], {});\n",
              "          if (!dataTable) return;\n",
              "\n",
              "          const docLinkHtml = 'Like what you see? Visit the ' +\n",
              "            '<a target=\"_blank\" href=https://colab.research.google.com/notebooks/data_table.ipynb>data table notebook</a>'\n",
              "            + ' to learn more about interactive tables.';\n",
              "          element.innerHTML = '';\n",
              "          dataTable['output_type'] = 'display_data';\n",
              "          await google.colab.output.renderOutput(dataTable, element);\n",
              "          const docLink = document.createElement('div');\n",
              "          docLink.innerHTML = docLinkHtml;\n",
              "          element.appendChild(docLink);\n",
              "        }\n",
              "      </script>\n",
              "    </div>\n",
              "  </div>\n"
            ]
          },
          "metadata": {},
          "execution_count": 82
        }
      ]
    },
    {
      "cell_type": "code",
      "source": [
        "data1 = data.reset_index(drop=True)"
      ],
      "metadata": {
        "id": "YdQATGqmrGI6"
      },
      "execution_count": 83,
      "outputs": []
    },
    {
      "cell_type": "code",
      "source": [
        "data1.head()"
      ],
      "metadata": {
        "colab": {
          "base_uri": "https://localhost:8080/",
          "height": 206
        },
        "id": "EHv29u4trJ3h",
        "outputId": "49aeaa92-33fa-48cd-8e34-e5640dd70542"
      },
      "execution_count": 84,
      "outputs": [
        {
          "output_type": "execute_result",
          "data": {
            "text/plain": [
              "                                          name  ratings  price  \\\n",
              "0   SAMSUNG Galaxy F13 (Sunrise Copper, 64 GB)      4.3   9499   \n",
              "1  SAMSUNG Galaxy F13 (Waterfall Blue, 128 GB)      4.3  10499   \n",
              "2  SAMSUNG Galaxy F13 (Nightsky Green, 128 GB)      4.3  10499   \n",
              "3  SAMSUNG Galaxy F13 (Sunrise Copper, 128 GB)      4.3  10499   \n",
              "4    SAMSUNG Galaxy F23 5G (Aqua Blue, 128 GB)      4.3  15499   \n",
              "\n",
              "                                              imgURL  camera      display  \\\n",
              "0  https://rukminim2.flixcart.com/image/312/312/x...      50  other_types   \n",
              "1  https://rukminim2.flixcart.com/image/312/312/x...      50  other_types   \n",
              "2  https://rukminim2.flixcart.com/image/312/312/x...      50  other_types   \n",
              "3  https://rukminim2.flixcart.com/image/312/312/x...      50  other_types   \n",
              "4  https://rukminim2.flixcart.com/image/312/312/x...      50  other_types   \n",
              "\n",
              "   storage                processor  android_version  \n",
              "0       64            not mentioned               12  \n",
              "1      128            not mentioned               12  \n",
              "2      128            not mentioned               12  \n",
              "3      128            not mentioned               12  \n",
              "4      128  Snapdragon750GProcessor               12  "
            ],
            "text/html": [
              "\n",
              "\n",
              "  <div id=\"df-9f00029a-2b1a-4f42-b3b2-3ca36e01fb7a\">\n",
              "    <div class=\"colab-df-container\">\n",
              "      <div>\n",
              "<style scoped>\n",
              "    .dataframe tbody tr th:only-of-type {\n",
              "        vertical-align: middle;\n",
              "    }\n",
              "\n",
              "    .dataframe tbody tr th {\n",
              "        vertical-align: top;\n",
              "    }\n",
              "\n",
              "    .dataframe thead th {\n",
              "        text-align: right;\n",
              "    }\n",
              "</style>\n",
              "<table border=\"1\" class=\"dataframe\">\n",
              "  <thead>\n",
              "    <tr style=\"text-align: right;\">\n",
              "      <th></th>\n",
              "      <th>name</th>\n",
              "      <th>ratings</th>\n",
              "      <th>price</th>\n",
              "      <th>imgURL</th>\n",
              "      <th>camera</th>\n",
              "      <th>display</th>\n",
              "      <th>storage</th>\n",
              "      <th>processor</th>\n",
              "      <th>android_version</th>\n",
              "    </tr>\n",
              "  </thead>\n",
              "  <tbody>\n",
              "    <tr>\n",
              "      <th>0</th>\n",
              "      <td>SAMSUNG Galaxy F13 (Sunrise Copper, 64 GB)</td>\n",
              "      <td>4.3</td>\n",
              "      <td>9499</td>\n",
              "      <td>https://rukminim2.flixcart.com/image/312/312/x...</td>\n",
              "      <td>50</td>\n",
              "      <td>other_types</td>\n",
              "      <td>64</td>\n",
              "      <td>not mentioned</td>\n",
              "      <td>12</td>\n",
              "    </tr>\n",
              "    <tr>\n",
              "      <th>1</th>\n",
              "      <td>SAMSUNG Galaxy F13 (Waterfall Blue, 128 GB)</td>\n",
              "      <td>4.3</td>\n",
              "      <td>10499</td>\n",
              "      <td>https://rukminim2.flixcart.com/image/312/312/x...</td>\n",
              "      <td>50</td>\n",
              "      <td>other_types</td>\n",
              "      <td>128</td>\n",
              "      <td>not mentioned</td>\n",
              "      <td>12</td>\n",
              "    </tr>\n",
              "    <tr>\n",
              "      <th>2</th>\n",
              "      <td>SAMSUNG Galaxy F13 (Nightsky Green, 128 GB)</td>\n",
              "      <td>4.3</td>\n",
              "      <td>10499</td>\n",
              "      <td>https://rukminim2.flixcart.com/image/312/312/x...</td>\n",
              "      <td>50</td>\n",
              "      <td>other_types</td>\n",
              "      <td>128</td>\n",
              "      <td>not mentioned</td>\n",
              "      <td>12</td>\n",
              "    </tr>\n",
              "    <tr>\n",
              "      <th>3</th>\n",
              "      <td>SAMSUNG Galaxy F13 (Sunrise Copper, 128 GB)</td>\n",
              "      <td>4.3</td>\n",
              "      <td>10499</td>\n",
              "      <td>https://rukminim2.flixcart.com/image/312/312/x...</td>\n",
              "      <td>50</td>\n",
              "      <td>other_types</td>\n",
              "      <td>128</td>\n",
              "      <td>not mentioned</td>\n",
              "      <td>12</td>\n",
              "    </tr>\n",
              "    <tr>\n",
              "      <th>4</th>\n",
              "      <td>SAMSUNG Galaxy F23 5G (Aqua Blue, 128 GB)</td>\n",
              "      <td>4.3</td>\n",
              "      <td>15499</td>\n",
              "      <td>https://rukminim2.flixcart.com/image/312/312/x...</td>\n",
              "      <td>50</td>\n",
              "      <td>other_types</td>\n",
              "      <td>128</td>\n",
              "      <td>Snapdragon750GProcessor</td>\n",
              "      <td>12</td>\n",
              "    </tr>\n",
              "  </tbody>\n",
              "</table>\n",
              "</div>\n",
              "      <button class=\"colab-df-convert\" onclick=\"convertToInteractive('df-9f00029a-2b1a-4f42-b3b2-3ca36e01fb7a')\"\n",
              "              title=\"Convert this dataframe to an interactive table.\"\n",
              "              style=\"display:none;\">\n",
              "\n",
              "  <svg xmlns=\"http://www.w3.org/2000/svg\" height=\"24px\"viewBox=\"0 0 24 24\"\n",
              "       width=\"24px\">\n",
              "    <path d=\"M0 0h24v24H0V0z\" fill=\"none\"/>\n",
              "    <path d=\"M18.56 5.44l.94 2.06.94-2.06 2.06-.94-2.06-.94-.94-2.06-.94 2.06-2.06.94zm-11 1L8.5 8.5l.94-2.06 2.06-.94-2.06-.94L8.5 2.5l-.94 2.06-2.06.94zm10 10l.94 2.06.94-2.06 2.06-.94-2.06-.94-.94-2.06-.94 2.06-2.06.94z\"/><path d=\"M17.41 7.96l-1.37-1.37c-.4-.4-.92-.59-1.43-.59-.52 0-1.04.2-1.43.59L10.3 9.45l-7.72 7.72c-.78.78-.78 2.05 0 2.83L4 21.41c.39.39.9.59 1.41.59.51 0 1.02-.2 1.41-.59l7.78-7.78 2.81-2.81c.8-.78.8-2.07 0-2.86zM5.41 20L4 18.59l7.72-7.72 1.47 1.35L5.41 20z\"/>\n",
              "  </svg>\n",
              "      </button>\n",
              "\n",
              "\n",
              "\n",
              "    <div id=\"df-39e5328d-8f74-40ee-a751-2bc26d7b0055\">\n",
              "      <button class=\"colab-df-quickchart\" onclick=\"quickchart('df-39e5328d-8f74-40ee-a751-2bc26d7b0055')\"\n",
              "              title=\"Suggest charts.\"\n",
              "              style=\"display:none;\">\n",
              "\n",
              "<svg xmlns=\"http://www.w3.org/2000/svg\" height=\"24px\"viewBox=\"0 0 24 24\"\n",
              "     width=\"24px\">\n",
              "    <g>\n",
              "        <path d=\"M19 3H5c-1.1 0-2 .9-2 2v14c0 1.1.9 2 2 2h14c1.1 0 2-.9 2-2V5c0-1.1-.9-2-2-2zM9 17H7v-7h2v7zm4 0h-2V7h2v10zm4 0h-2v-4h2v4z\"/>\n",
              "    </g>\n",
              "</svg>\n",
              "      </button>\n",
              "    </div>\n",
              "\n",
              "<style>\n",
              "  .colab-df-quickchart {\n",
              "    background-color: #E8F0FE;\n",
              "    border: none;\n",
              "    border-radius: 50%;\n",
              "    cursor: pointer;\n",
              "    display: none;\n",
              "    fill: #1967D2;\n",
              "    height: 32px;\n",
              "    padding: 0 0 0 0;\n",
              "    width: 32px;\n",
              "  }\n",
              "\n",
              "  .colab-df-quickchart:hover {\n",
              "    background-color: #E2EBFA;\n",
              "    box-shadow: 0px 1px 2px rgba(60, 64, 67, 0.3), 0px 1px 3px 1px rgba(60, 64, 67, 0.15);\n",
              "    fill: #174EA6;\n",
              "  }\n",
              "\n",
              "  [theme=dark] .colab-df-quickchart {\n",
              "    background-color: #3B4455;\n",
              "    fill: #D2E3FC;\n",
              "  }\n",
              "\n",
              "  [theme=dark] .colab-df-quickchart:hover {\n",
              "    background-color: #434B5C;\n",
              "    box-shadow: 0px 1px 3px 1px rgba(0, 0, 0, 0.15);\n",
              "    filter: drop-shadow(0px 1px 2px rgba(0, 0, 0, 0.3));\n",
              "    fill: #FFFFFF;\n",
              "  }\n",
              "</style>\n",
              "\n",
              "    <script>\n",
              "      async function quickchart(key) {\n",
              "        const containerElement = document.querySelector('#' + key);\n",
              "        const charts = await google.colab.kernel.invokeFunction(\n",
              "            'suggestCharts', [key], {});\n",
              "      }\n",
              "    </script>\n",
              "\n",
              "      <script>\n",
              "\n",
              "function displayQuickchartButton(domScope) {\n",
              "  let quickchartButtonEl =\n",
              "    domScope.querySelector('#df-39e5328d-8f74-40ee-a751-2bc26d7b0055 button.colab-df-quickchart');\n",
              "  quickchartButtonEl.style.display =\n",
              "    google.colab.kernel.accessAllowed ? 'block' : 'none';\n",
              "}\n",
              "\n",
              "        displayQuickchartButton(document);\n",
              "      </script>\n",
              "      <style>\n",
              "    .colab-df-container {\n",
              "      display:flex;\n",
              "      flex-wrap:wrap;\n",
              "      gap: 12px;\n",
              "    }\n",
              "\n",
              "    .colab-df-convert {\n",
              "      background-color: #E8F0FE;\n",
              "      border: none;\n",
              "      border-radius: 50%;\n",
              "      cursor: pointer;\n",
              "      display: none;\n",
              "      fill: #1967D2;\n",
              "      height: 32px;\n",
              "      padding: 0 0 0 0;\n",
              "      width: 32px;\n",
              "    }\n",
              "\n",
              "    .colab-df-convert:hover {\n",
              "      background-color: #E2EBFA;\n",
              "      box-shadow: 0px 1px 2px rgba(60, 64, 67, 0.3), 0px 1px 3px 1px rgba(60, 64, 67, 0.15);\n",
              "      fill: #174EA6;\n",
              "    }\n",
              "\n",
              "    [theme=dark] .colab-df-convert {\n",
              "      background-color: #3B4455;\n",
              "      fill: #D2E3FC;\n",
              "    }\n",
              "\n",
              "    [theme=dark] .colab-df-convert:hover {\n",
              "      background-color: #434B5C;\n",
              "      box-shadow: 0px 1px 3px 1px rgba(0, 0, 0, 0.15);\n",
              "      filter: drop-shadow(0px 1px 2px rgba(0, 0, 0, 0.3));\n",
              "      fill: #FFFFFF;\n",
              "    }\n",
              "  </style>\n",
              "\n",
              "      <script>\n",
              "        const buttonEl =\n",
              "          document.querySelector('#df-9f00029a-2b1a-4f42-b3b2-3ca36e01fb7a button.colab-df-convert');\n",
              "        buttonEl.style.display =\n",
              "          google.colab.kernel.accessAllowed ? 'block' : 'none';\n",
              "\n",
              "        async function convertToInteractive(key) {\n",
              "          const element = document.querySelector('#df-9f00029a-2b1a-4f42-b3b2-3ca36e01fb7a');\n",
              "          const dataTable =\n",
              "            await google.colab.kernel.invokeFunction('convertToInteractive',\n",
              "                                                     [key], {});\n",
              "          if (!dataTable) return;\n",
              "\n",
              "          const docLinkHtml = 'Like what you see? Visit the ' +\n",
              "            '<a target=\"_blank\" href=https://colab.research.google.com/notebooks/data_table.ipynb>data table notebook</a>'\n",
              "            + ' to learn more about interactive tables.';\n",
              "          element.innerHTML = '';\n",
              "          dataTable['output_type'] = 'display_data';\n",
              "          await google.colab.output.renderOutput(dataTable, element);\n",
              "          const docLink = document.createElement('div');\n",
              "          docLink.innerHTML = docLinkHtml;\n",
              "          element.appendChild(docLink);\n",
              "        }\n",
              "      </script>\n",
              "    </div>\n",
              "  </div>\n"
            ]
          },
          "metadata": {},
          "execution_count": 84
        }
      ]
    },
    {
      "cell_type": "code",
      "source": [
        "x = data1.iloc[:,1:]\n",
        "y = data1.iloc[:,0]"
      ],
      "metadata": {
        "id": "5zAFylrGrMly"
      },
      "execution_count": 85,
      "outputs": []
    },
    {
      "cell_type": "markdown",
      "source": [
        "In this code, two pandas DataFrame slices are created from the DataFrame data. The slices are used to separate the features (input variables) and the target variable (output variable)."
      ],
      "metadata": {
        "id": "etXTjrgFrS87"
      }
    },
    {
      "cell_type": "code",
      "source": [
        "x.dtypes"
      ],
      "metadata": {
        "colab": {
          "base_uri": "https://localhost:8080/"
        },
        "id": "kFKtZk-krUGE",
        "outputId": "78a353b3-4ba8-43fe-ec87-29a9aa78b89e"
      },
      "execution_count": 86,
      "outputs": [
        {
          "output_type": "execute_result",
          "data": {
            "text/plain": [
              "ratings            float64\n",
              "price                int64\n",
              "imgURL              object\n",
              "camera               int64\n",
              "display             object\n",
              "storage              int64\n",
              "processor           object\n",
              "android_version      int64\n",
              "dtype: object"
            ]
          },
          "metadata": {},
          "execution_count": 86
        }
      ]
    },
    {
      "cell_type": "code",
      "source": [
        "print(x)"
      ],
      "metadata": {
        "colab": {
          "base_uri": "https://localhost:8080/"
        },
        "id": "xyM1jSJqrXZa",
        "outputId": "0c5e5780-193d-434a-a417-326d350d1129"
      },
      "execution_count": 87,
      "outputs": [
        {
          "output_type": "stream",
          "name": "stdout",
          "text": [
            "     ratings  price                                             imgURL  \\\n",
            "0        4.3   9499  https://rukminim2.flixcart.com/image/312/312/x...   \n",
            "1        4.3  10499  https://rukminim2.flixcart.com/image/312/312/x...   \n",
            "2        4.3  10499  https://rukminim2.flixcart.com/image/312/312/x...   \n",
            "3        4.3  10499  https://rukminim2.flixcart.com/image/312/312/x...   \n",
            "4        4.3  15499  https://rukminim2.flixcart.com/image/312/312/x...   \n",
            "..       ...    ...                                                ...   \n",
            "341      4.5  21490  https://rukminim2.flixcart.com/image/312/312/k...   \n",
            "342      4.3  16199  https://rukminim2.flixcart.com/image/312/312/k...   \n",
            "343      4.4   9000  https://rukminim2.flixcart.com/image/312/312/j...   \n",
            "344      4.2  10999  https://rukminim2.flixcart.com/image/312/312/k...   \n",
            "345      4.2  20463  https://rukminim2.flixcart.com/image/312/312/x...   \n",
            "\n",
            "     camera      display  storage                processor  android_version  \n",
            "0        50  other_types       64            not mentioned               12  \n",
            "1        50  other_types      128            not mentioned               12  \n",
            "2        50  other_types      128            not mentioned               12  \n",
            "3        50  other_types      128            not mentioned               12  \n",
            "4        50  other_types      128  Snapdragon750GProcessor               12  \n",
            "..      ...          ...      ...                      ...              ...  \n",
            "341      32  other_types      128            not mentioned                9  \n",
            "342      25  other_types       64            not mentioned               12  \n",
            "343      13  other_types       32           Snapdragon425P                8  \n",
            "344      13  other_types       32                 MediaTek                9  \n",
            "345      50  other_types      128            not mentioned               12  \n",
            "\n",
            "[346 rows x 8 columns]\n"
          ]
        }
      ]
    },
    {
      "cell_type": "code",
      "source": [
        "print(y)"
      ],
      "metadata": {
        "colab": {
          "base_uri": "https://localhost:8080/"
        },
        "id": "d6qcHEm1rbbU",
        "outputId": "a742f2ce-8eec-4136-f571-abdd8f1ce33a"
      },
      "execution_count": 88,
      "outputs": [
        {
          "output_type": "stream",
          "name": "stdout",
          "text": [
            "0           SAMSUNG Galaxy F13 (Sunrise Copper, 64 GB)\n",
            "1          SAMSUNG Galaxy F13 (Waterfall Blue, 128 GB)\n",
            "2          SAMSUNG Galaxy F13 (Nightsky Green, 128 GB)\n",
            "3          SAMSUNG Galaxy F13 (Sunrise Copper, 128 GB)\n",
            "4            SAMSUNG Galaxy F23 5G (Aqua Blue, 128 GB)\n",
            "                            ...                       \n",
            "341         SAMSUNG Galaxy M40 (Seawater Blue, 128 GB)\n",
            "342    SAMSUNG Galaxy A30s (Prism Crush Violet, 64 GB)\n",
            "343              SAMSUNG Galaxy J4 Plus (Black, 32 GB)\n",
            "344                  SAMSUNG Galaxy M01s (Gray, 32 GB)\n",
            "345             SAMSUNG Galaxy S22 (Pink Gold, 128 GB)\n",
            "Name: name, Length: 346, dtype: object\n"
          ]
        }
      ]
    },
    {
      "cell_type": "code",
      "source": [
        "print(x.shape)\n",
        "print(y.shape)"
      ],
      "metadata": {
        "colab": {
          "base_uri": "https://localhost:8080/"
        },
        "id": "hSUVCAYmrea7",
        "outputId": "980bb240-9923-43ad-fa54-00b1c8f4328d"
      },
      "execution_count": 89,
      "outputs": [
        {
          "output_type": "stream",
          "name": "stdout",
          "text": [
            "(346, 8)\n",
            "(346,)\n"
          ]
        }
      ]
    },
    {
      "cell_type": "markdown",
      "source": [
        "Creating Training and Testing Set"
      ],
      "metadata": {
        "id": "knIg1_vwrpYa"
      }
    },
    {
      "cell_type": "code",
      "source": [
        "from sklearn.model_selection import train_test_split"
      ],
      "metadata": {
        "id": "Jj5dpdOkrh7D"
      },
      "execution_count": 90,
      "outputs": []
    },
    {
      "cell_type": "markdown",
      "source": [
        "Here, we are importing train_test_split from from sklearn.model_selection.\n",
        "\n",
        "The train_test_split function is used to split a dataset into separate training and testing subsets, which are essential for training and evaluating machine learning models."
      ],
      "metadata": {
        "id": "4c31cfhvrxJC"
      }
    },
    {
      "cell_type": "code",
      "source": [
        "# Split the data into training and testing sets\n",
        "x_train, x_test, y_train, y_test = train_test_split(x, y, test_size=0.2, random_state=42)"
      ],
      "metadata": {
        "id": "Y1t0TOMAryOa"
      },
      "execution_count": 91,
      "outputs": []
    },
    {
      "cell_type": "code",
      "source": [
        "from sklearn.preprocessing import StandardScaler\n",
        "from sklearn.linear_model import LogisticRegression\n",
        "from sklearn.metrics import accuracy_score, classification_report, confusion_matrix"
      ],
      "metadata": {
        "id": "-JNEAP5Br4L0"
      },
      "execution_count": 92,
      "outputs": []
    },
    {
      "cell_type": "markdown",
      "source": [
        "Evaluating the model"
      ],
      "metadata": {
        "id": "h4-8SYNAsL8C"
      }
    },
    {
      "cell_type": "code",
      "source": [
        "data1.columns"
      ],
      "metadata": {
        "colab": {
          "base_uri": "https://localhost:8080/"
        },
        "id": "JvLBIWswsW8K",
        "outputId": "554b922a-fdf3-470b-9274-cde2e3ef8eae"
      },
      "execution_count": 99,
      "outputs": [
        {
          "output_type": "execute_result",
          "data": {
            "text/plain": [
              "Index(['name', 'ratings', 'price', 'imgURL', 'camera', 'display', 'storage',\n",
              "       'processor', 'android_version'],\n",
              "      dtype='object')"
            ]
          },
          "metadata": {},
          "execution_count": 99
        }
      ]
    },
    {
      "cell_type": "code",
      "source": [
        "data1.head()"
      ],
      "metadata": {
        "colab": {
          "base_uri": "https://localhost:8080/",
          "height": 206
        },
        "id": "af0JCLLSsbjb",
        "outputId": "5223cdde-ac06-4317-f8cc-8a67edc7f321"
      },
      "execution_count": 100,
      "outputs": [
        {
          "output_type": "execute_result",
          "data": {
            "text/plain": [
              "                                          name  ratings  price  \\\n",
              "0   SAMSUNG Galaxy F13 (Sunrise Copper, 64 GB)      4.3   9499   \n",
              "1  SAMSUNG Galaxy F13 (Waterfall Blue, 128 GB)      4.3  10499   \n",
              "2  SAMSUNG Galaxy F13 (Nightsky Green, 128 GB)      4.3  10499   \n",
              "3  SAMSUNG Galaxy F13 (Sunrise Copper, 128 GB)      4.3  10499   \n",
              "4    SAMSUNG Galaxy F23 5G (Aqua Blue, 128 GB)      4.3  15499   \n",
              "\n",
              "                                              imgURL  camera      display  \\\n",
              "0  https://rukminim2.flixcart.com/image/312/312/x...      50  other_types   \n",
              "1  https://rukminim2.flixcart.com/image/312/312/x...      50  other_types   \n",
              "2  https://rukminim2.flixcart.com/image/312/312/x...      50  other_types   \n",
              "3  https://rukminim2.flixcart.com/image/312/312/x...      50  other_types   \n",
              "4  https://rukminim2.flixcart.com/image/312/312/x...      50  other_types   \n",
              "\n",
              "   storage                processor  android_version  \n",
              "0       64            not mentioned               12  \n",
              "1      128            not mentioned               12  \n",
              "2      128            not mentioned               12  \n",
              "3      128            not mentioned               12  \n",
              "4      128  Snapdragon750GProcessor               12  "
            ],
            "text/html": [
              "\n",
              "\n",
              "  <div id=\"df-d4f7a587-5632-482b-8e87-806f4226bdc4\">\n",
              "    <div class=\"colab-df-container\">\n",
              "      <div>\n",
              "<style scoped>\n",
              "    .dataframe tbody tr th:only-of-type {\n",
              "        vertical-align: middle;\n",
              "    }\n",
              "\n",
              "    .dataframe tbody tr th {\n",
              "        vertical-align: top;\n",
              "    }\n",
              "\n",
              "    .dataframe thead th {\n",
              "        text-align: right;\n",
              "    }\n",
              "</style>\n",
              "<table border=\"1\" class=\"dataframe\">\n",
              "  <thead>\n",
              "    <tr style=\"text-align: right;\">\n",
              "      <th></th>\n",
              "      <th>name</th>\n",
              "      <th>ratings</th>\n",
              "      <th>price</th>\n",
              "      <th>imgURL</th>\n",
              "      <th>camera</th>\n",
              "      <th>display</th>\n",
              "      <th>storage</th>\n",
              "      <th>processor</th>\n",
              "      <th>android_version</th>\n",
              "    </tr>\n",
              "  </thead>\n",
              "  <tbody>\n",
              "    <tr>\n",
              "      <th>0</th>\n",
              "      <td>SAMSUNG Galaxy F13 (Sunrise Copper, 64 GB)</td>\n",
              "      <td>4.3</td>\n",
              "      <td>9499</td>\n",
              "      <td>https://rukminim2.flixcart.com/image/312/312/x...</td>\n",
              "      <td>50</td>\n",
              "      <td>other_types</td>\n",
              "      <td>64</td>\n",
              "      <td>not mentioned</td>\n",
              "      <td>12</td>\n",
              "    </tr>\n",
              "    <tr>\n",
              "      <th>1</th>\n",
              "      <td>SAMSUNG Galaxy F13 (Waterfall Blue, 128 GB)</td>\n",
              "      <td>4.3</td>\n",
              "      <td>10499</td>\n",
              "      <td>https://rukminim2.flixcart.com/image/312/312/x...</td>\n",
              "      <td>50</td>\n",
              "      <td>other_types</td>\n",
              "      <td>128</td>\n",
              "      <td>not mentioned</td>\n",
              "      <td>12</td>\n",
              "    </tr>\n",
              "    <tr>\n",
              "      <th>2</th>\n",
              "      <td>SAMSUNG Galaxy F13 (Nightsky Green, 128 GB)</td>\n",
              "      <td>4.3</td>\n",
              "      <td>10499</td>\n",
              "      <td>https://rukminim2.flixcart.com/image/312/312/x...</td>\n",
              "      <td>50</td>\n",
              "      <td>other_types</td>\n",
              "      <td>128</td>\n",
              "      <td>not mentioned</td>\n",
              "      <td>12</td>\n",
              "    </tr>\n",
              "    <tr>\n",
              "      <th>3</th>\n",
              "      <td>SAMSUNG Galaxy F13 (Sunrise Copper, 128 GB)</td>\n",
              "      <td>4.3</td>\n",
              "      <td>10499</td>\n",
              "      <td>https://rukminim2.flixcart.com/image/312/312/x...</td>\n",
              "      <td>50</td>\n",
              "      <td>other_types</td>\n",
              "      <td>128</td>\n",
              "      <td>not mentioned</td>\n",
              "      <td>12</td>\n",
              "    </tr>\n",
              "    <tr>\n",
              "      <th>4</th>\n",
              "      <td>SAMSUNG Galaxy F23 5G (Aqua Blue, 128 GB)</td>\n",
              "      <td>4.3</td>\n",
              "      <td>15499</td>\n",
              "      <td>https://rukminim2.flixcart.com/image/312/312/x...</td>\n",
              "      <td>50</td>\n",
              "      <td>other_types</td>\n",
              "      <td>128</td>\n",
              "      <td>Snapdragon750GProcessor</td>\n",
              "      <td>12</td>\n",
              "    </tr>\n",
              "  </tbody>\n",
              "</table>\n",
              "</div>\n",
              "      <button class=\"colab-df-convert\" onclick=\"convertToInteractive('df-d4f7a587-5632-482b-8e87-806f4226bdc4')\"\n",
              "              title=\"Convert this dataframe to an interactive table.\"\n",
              "              style=\"display:none;\">\n",
              "\n",
              "  <svg xmlns=\"http://www.w3.org/2000/svg\" height=\"24px\"viewBox=\"0 0 24 24\"\n",
              "       width=\"24px\">\n",
              "    <path d=\"M0 0h24v24H0V0z\" fill=\"none\"/>\n",
              "    <path d=\"M18.56 5.44l.94 2.06.94-2.06 2.06-.94-2.06-.94-.94-2.06-.94 2.06-2.06.94zm-11 1L8.5 8.5l.94-2.06 2.06-.94-2.06-.94L8.5 2.5l-.94 2.06-2.06.94zm10 10l.94 2.06.94-2.06 2.06-.94-2.06-.94-.94-2.06-.94 2.06-2.06.94z\"/><path d=\"M17.41 7.96l-1.37-1.37c-.4-.4-.92-.59-1.43-.59-.52 0-1.04.2-1.43.59L10.3 9.45l-7.72 7.72c-.78.78-.78 2.05 0 2.83L4 21.41c.39.39.9.59 1.41.59.51 0 1.02-.2 1.41-.59l7.78-7.78 2.81-2.81c.8-.78.8-2.07 0-2.86zM5.41 20L4 18.59l7.72-7.72 1.47 1.35L5.41 20z\"/>\n",
              "  </svg>\n",
              "      </button>\n",
              "\n",
              "\n",
              "\n",
              "    <div id=\"df-f1401131-f37e-496c-8318-a0ffe59b1500\">\n",
              "      <button class=\"colab-df-quickchart\" onclick=\"quickchart('df-f1401131-f37e-496c-8318-a0ffe59b1500')\"\n",
              "              title=\"Suggest charts.\"\n",
              "              style=\"display:none;\">\n",
              "\n",
              "<svg xmlns=\"http://www.w3.org/2000/svg\" height=\"24px\"viewBox=\"0 0 24 24\"\n",
              "     width=\"24px\">\n",
              "    <g>\n",
              "        <path d=\"M19 3H5c-1.1 0-2 .9-2 2v14c0 1.1.9 2 2 2h14c1.1 0 2-.9 2-2V5c0-1.1-.9-2-2-2zM9 17H7v-7h2v7zm4 0h-2V7h2v10zm4 0h-2v-4h2v4z\"/>\n",
              "    </g>\n",
              "</svg>\n",
              "      </button>\n",
              "    </div>\n",
              "\n",
              "<style>\n",
              "  .colab-df-quickchart {\n",
              "    background-color: #E8F0FE;\n",
              "    border: none;\n",
              "    border-radius: 50%;\n",
              "    cursor: pointer;\n",
              "    display: none;\n",
              "    fill: #1967D2;\n",
              "    height: 32px;\n",
              "    padding: 0 0 0 0;\n",
              "    width: 32px;\n",
              "  }\n",
              "\n",
              "  .colab-df-quickchart:hover {\n",
              "    background-color: #E2EBFA;\n",
              "    box-shadow: 0px 1px 2px rgba(60, 64, 67, 0.3), 0px 1px 3px 1px rgba(60, 64, 67, 0.15);\n",
              "    fill: #174EA6;\n",
              "  }\n",
              "\n",
              "  [theme=dark] .colab-df-quickchart {\n",
              "    background-color: #3B4455;\n",
              "    fill: #D2E3FC;\n",
              "  }\n",
              "\n",
              "  [theme=dark] .colab-df-quickchart:hover {\n",
              "    background-color: #434B5C;\n",
              "    box-shadow: 0px 1px 3px 1px rgba(0, 0, 0, 0.15);\n",
              "    filter: drop-shadow(0px 1px 2px rgba(0, 0, 0, 0.3));\n",
              "    fill: #FFFFFF;\n",
              "  }\n",
              "</style>\n",
              "\n",
              "    <script>\n",
              "      async function quickchart(key) {\n",
              "        const containerElement = document.querySelector('#' + key);\n",
              "        const charts = await google.colab.kernel.invokeFunction(\n",
              "            'suggestCharts', [key], {});\n",
              "      }\n",
              "    </script>\n",
              "\n",
              "      <script>\n",
              "\n",
              "function displayQuickchartButton(domScope) {\n",
              "  let quickchartButtonEl =\n",
              "    domScope.querySelector('#df-f1401131-f37e-496c-8318-a0ffe59b1500 button.colab-df-quickchart');\n",
              "  quickchartButtonEl.style.display =\n",
              "    google.colab.kernel.accessAllowed ? 'block' : 'none';\n",
              "}\n",
              "\n",
              "        displayQuickchartButton(document);\n",
              "      </script>\n",
              "      <style>\n",
              "    .colab-df-container {\n",
              "      display:flex;\n",
              "      flex-wrap:wrap;\n",
              "      gap: 12px;\n",
              "    }\n",
              "\n",
              "    .colab-df-convert {\n",
              "      background-color: #E8F0FE;\n",
              "      border: none;\n",
              "      border-radius: 50%;\n",
              "      cursor: pointer;\n",
              "      display: none;\n",
              "      fill: #1967D2;\n",
              "      height: 32px;\n",
              "      padding: 0 0 0 0;\n",
              "      width: 32px;\n",
              "    }\n",
              "\n",
              "    .colab-df-convert:hover {\n",
              "      background-color: #E2EBFA;\n",
              "      box-shadow: 0px 1px 2px rgba(60, 64, 67, 0.3), 0px 1px 3px 1px rgba(60, 64, 67, 0.15);\n",
              "      fill: #174EA6;\n",
              "    }\n",
              "\n",
              "    [theme=dark] .colab-df-convert {\n",
              "      background-color: #3B4455;\n",
              "      fill: #D2E3FC;\n",
              "    }\n",
              "\n",
              "    [theme=dark] .colab-df-convert:hover {\n",
              "      background-color: #434B5C;\n",
              "      box-shadow: 0px 1px 3px 1px rgba(0, 0, 0, 0.15);\n",
              "      filter: drop-shadow(0px 1px 2px rgba(0, 0, 0, 0.3));\n",
              "      fill: #FFFFFF;\n",
              "    }\n",
              "  </style>\n",
              "\n",
              "      <script>\n",
              "        const buttonEl =\n",
              "          document.querySelector('#df-d4f7a587-5632-482b-8e87-806f4226bdc4 button.colab-df-convert');\n",
              "        buttonEl.style.display =\n",
              "          google.colab.kernel.accessAllowed ? 'block' : 'none';\n",
              "\n",
              "        async function convertToInteractive(key) {\n",
              "          const element = document.querySelector('#df-d4f7a587-5632-482b-8e87-806f4226bdc4');\n",
              "          const dataTable =\n",
              "            await google.colab.kernel.invokeFunction('convertToInteractive',\n",
              "                                                     [key], {});\n",
              "          if (!dataTable) return;\n",
              "\n",
              "          const docLinkHtml = 'Like what you see? Visit the ' +\n",
              "            '<a target=\"_blank\" href=https://colab.research.google.com/notebooks/data_table.ipynb>data table notebook</a>'\n",
              "            + ' to learn more about interactive tables.';\n",
              "          element.innerHTML = '';\n",
              "          dataTable['output_type'] = 'display_data';\n",
              "          await google.colab.output.renderOutput(dataTable, element);\n",
              "          const docLink = document.createElement('div');\n",
              "          docLink.innerHTML = docLinkHtml;\n",
              "          element.appendChild(docLink);\n",
              "        }\n",
              "      </script>\n",
              "    </div>\n",
              "  </div>\n"
            ]
          },
          "metadata": {},
          "execution_count": 100
        }
      ]
    }
  ]
}